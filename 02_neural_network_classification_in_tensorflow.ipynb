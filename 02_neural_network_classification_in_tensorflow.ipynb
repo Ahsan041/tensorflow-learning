{
  "cells": [
    {
      "cell_type": "markdown",
      "metadata": {
        "colab_type": "text",
        "id": "view-in-github"
      },
      "source": [
        "<a href=\"https://colab.research.google.com/github/mrdbourke/tensorflow-deep-learning/blob/main/02_neural_network_classification_in_tensorflow.ipynb\" target=\"_parent\"><img src=\"https://colab.research.google.com/assets/colab-badge.svg\" alt=\"Open In Colab\"/></a>"
      ]
    },
    {
      "cell_type": "markdown",
      "metadata": {
        "id": "JZNT-Tz4ntRw"
      },
      "source": [
        "# 02. Neural Network Classification with TensorFlow\n",
        "\n",
        "Okay, we've seen how to deal with a regression problem in TensorFlow, let's look at how we can approach a classification problem.\n",
        "\n",
        "A [classification problem](https://en.wikipedia.org/wiki/Statistical_classification) involves predicting whether something is one thing or another.\n",
        "\n",
        "For example, you might want to:\n",
        "* Predict whether or not someone has heart disease based on their health parameters. This is called **binary classification** since there are only two options.\n",
        "* Decide whether a photo of is of food, a person or a dog. This is called **multi-class classification** since there are more than two options.\n",
        "* Predict what categories should be assigned to a Wikipedia article. This is called **multi-label classification** since a single article could have more than one category assigned.\n",
        "\n",
        "In this notebook, we're going to work through a number of different classification problems with TensorFlow. In other words, taking a set of inputs and predicting what class those set of inputs belong to.\n",
        "\n",
        "## What we're going to cover\n",
        "\n",
        "Specifically, we're going to go through doing the following with TensorFlow:\n",
        "- Architecture of a classification model\n",
        "- Input shapes and output shapes\n",
        "  - `X`: features/data (inputs)\n",
        "  - `y`: labels (outputs) \n",
        "    - \"What class do the inputs belong to?\"\n",
        "- Creating custom data to view and fit\n",
        "- Steps in modelling for binary and mutliclass classification\n",
        "  - Creating a model\n",
        "  - Compiling a model\n",
        "    - Defining a loss function\n",
        "    - Setting up an optimizer\n",
        "      - Finding the best learning rate\n",
        "    - Creating evaluation metrics\n",
        "  - Fitting a model (getting it to find patterns in our data)\n",
        "  - Improving a model\n",
        "- The power of non-linearity\n",
        "- Evaluating classification models\n",
        "  - Visualizng the model (\"visualize, visualize, visualize\")\n",
        "  - Looking at training curves\n",
        "  - Compare predictions to ground truth (using our evaluation metrics)\n",
        "\n",
        "## How you can use this notebook\n",
        "\n",
        "You can read through the descriptions and the code (it should all run, except for the cells which error on purpose), but there's a better option.\n",
        "\n",
        "Write all of the code yourself.\n",
        "\n",
        "Yes. I'm serious. Create a new notebook, and rewrite each line by yourself. Investigate it, see if you can break it, why does it break?\n",
        "\n",
        "You don't have to write the text descriptions but writing the code yourself is a great way to get hands-on experience.\n",
        "\n",
        "Don't worry if you make mistakes, we all do. The way to get better and make less mistakes is to **write more code**."
      ]
    },
    {
      "cell_type": "markdown",
      "metadata": {
        "id": "ucRDjFFCJ92X"
      },
      "source": [
        "## Typical architecture of a classification neural network \n",
        "\n",
        "The word *typical* is on purpose.\n",
        "\n",
        "Because the architecture of a classification neural network can widely vary depending on the problem you're working on.\n",
        "\n",
        "However, there are some fundamentals all deep neural networks contain:\n",
        "* An input layer.\n",
        "* Some hidden layers.\n",
        "* An output layer.\n",
        "\n",
        "Much of the rest is up to the data analyst creating the model.\n",
        "\n",
        "The following are some standard values you'll often use in your classification neural networks.\n",
        "\n",
        "| **Hyperparameter** | **Binary Classification** | **Multiclass classification** |\n",
        "| --- | --- | --- |\n",
        "| Input layer shape | Same as number of features (e.g. 5 for age, sex, height, weight, smoking status in heart disease prediction) | Same as binary classification |\n",
        "| Hidden layer(s) | Problem specific, minimum = 1, maximum = unlimited | Same as binary classification |\n",
        "| Neurons per hidden layer | Problem specific, generally 10 to 100 | Same as binary classification |\n",
        "| Output layer shape | 1 (one class or the other) | 1 per class (e.g. 3 for food, person or dog photo) |\n",
        "| Hidden activation | Usually [ReLU](https://www.kaggle.com/dansbecker/rectified-linear-units-relu-in-deep-learning) (rectified linear unit) | Same as binary classification |\n",
        "| Output activation | [Sigmoid](https://en.wikipedia.org/wiki/Sigmoid_function) | [Softmax](https://en.wikipedia.org/wiki/Softmax_function) |\n",
        "| Loss function | [Cross entropy](https://en.wikipedia.org/wiki/Cross_entropy#Cross-entropy_loss_function_and_logistic_regression) ([`tf.keras.losses.BinaryCrossentropy`](https://www.tensorflow.org/api_docs/python/tf/keras/losses/BinaryCrossentropy) in TensorFlow) | Cross entropy ([`tf.keras.losses.CategoricalCrossentropy`](https://www.tensorflow.org/api_docs/python/tf/keras/losses/CategoricalCrossentropy) in TensorFlow) |\n",
        "| Optimizer | [SGD](https://www.tensorflow.org/api_docs/python/tf/keras/optimizers/SGD) (stochastic gradient descent), [Adam](https://www.tensorflow.org/api_docs/python/tf/keras/optimizers/Adam) | Same as binary classification |\n",
        "\n",
        "***Table 1:*** *Typical architecture of a classification network.* ***Source:*** *Adapted from page 295 of [Hands-On Machine Learning with Scikit-Learn, Keras & TensorFlow Book by Aurélien Géron](https://www.oreilly.com/library/view/hands-on-machine-learning/9781492032632/)*\n",
        "\n",
        "Don't worry if not much of the above makes sense right now, we'll get plenty of experience as we go through this notebook.\n",
        "\n",
        "Let's start by importing TensorFlow as the common alias `tf`. For this notebook, make sure you're using version 2.x+."
      ]
    },
    {
      "cell_type": "code",
      "execution_count": 56,
      "metadata": {
        "colab": {
          "base_uri": "https://localhost:8080/"
        },
        "id": "IPWQMjYwKpCH",
        "outputId": "cd11005d-c462-401e-d5d5-9ff9fca9a1a2"
      },
      "outputs": [
        {
          "name": "stdout",
          "output_type": "stream",
          "text": [
            "2.8.0\n"
          ]
        }
      ],
      "source": [
        "import tensorflow as tf\n",
        "print(tf.__version__)"
      ]
    },
    {
      "cell_type": "markdown",
      "metadata": {
        "id": "PEAjPGv8J2K0"
      },
      "source": [
        "## Creating data to view and fit\n",
        "\n",
        "We could start by importing a classification dataset but let's practice making some of our own classification data.\n",
        "\n",
        "> 🔑 **Note:** It's a common practice to get you and model you build working on a toy (or simple) dataset before moving to your actual problem. Treat it as a rehersal experiment before the actual experiment(s).\n",
        "\n",
        "Since classification is predicting whether something is one thing or another, let's make some data to reflect that.\n",
        "\n",
        "To do so, we'll use Scikit-Learn's [`make_circles()`](https://scikit-learn.org/stable/modules/generated/sklearn.datasets.make_circles.html#sklearn.datasets.make_circles) function.\n",
        "\n"
      ]
    },
    {
      "cell_type": "code",
      "execution_count": 57,
      "metadata": {
        "id": "7dT80sWqLYPf"
      },
      "outputs": [],
      "source": [
        "from sklearn.datasets import make_circles\n",
        "\n",
        "# Make 1000 examples\n",
        "n_samples = 1000\n",
        "\n",
        "# Create circles\n",
        "X, y = make_circles(n_samples, \n",
        "                    noise=0.03, \n",
        "                    random_state=42)"
      ]
    },
    {
      "cell_type": "markdown",
      "metadata": {
        "id": "CclQDWU8c69i"
      },
      "source": [
        "Wonderful, now we've created some data, let's look at the features (`X`) and labels (`y`)."
      ]
    },
    {
      "cell_type": "code",
      "execution_count": 58,
      "metadata": {
        "colab": {
          "base_uri": "https://localhost:8080/"
        },
        "id": "Gf47AUmxLYMj",
        "outputId": "20624d9f-d18c-450a-8a5c-5df66bd771d4"
      },
      "outputs": [
        {
          "data": {
            "text/plain": [
              "array([[ 0.75424625,  0.23148074],\n",
              "       [-0.75615888,  0.15325888],\n",
              "       [-0.81539193,  0.17328203],\n",
              "       ...,\n",
              "       [-0.13690036, -0.81001183],\n",
              "       [ 0.67036156, -0.76750154],\n",
              "       [ 0.28105665,  0.96382443]])"
            ]
          },
          "execution_count": 58,
          "metadata": {},
          "output_type": "execute_result"
        }
      ],
      "source": [
        "# Check out the features\n",
        "X"
      ]
    },
    {
      "cell_type": "code",
      "execution_count": 59,
      "metadata": {
        "colab": {
          "base_uri": "https://localhost:8080/"
        },
        "id": "FkgZlGstK572",
        "outputId": "ada39e28-2691-4ad3-81a8-13de8edb918b"
      },
      "outputs": [
        {
          "data": {
            "text/plain": [
              "array([1, 1, 1, 1, 0, 1, 1, 1, 1, 0])"
            ]
          },
          "execution_count": 59,
          "metadata": {},
          "output_type": "execute_result"
        }
      ],
      "source": [
        "# See the first 10 labels\n",
        "y[:10]"
      ]
    },
    {
      "cell_type": "markdown",
      "metadata": {
        "id": "DcBi6A1PeC4s"
      },
      "source": [
        "Okay, we've seen some of our data and labels, how about we move towards visualizing?\n",
        "\n",
        "> 🔑 **Note:** One important step of starting any kind of machine learning project is to [become one with the data](https://karpathy.github.io/2019/04/25/recipe/). And one of the best ways to do this is to visualize the data you're working with as much as possible. The data explorer's motto is \"visualize, visualize, visualize\".\n",
        "\n",
        "We'll start with a DataFrame."
      ]
    },
    {
      "cell_type": "code",
      "execution_count": 60,
      "metadata": {
        "colab": {
          "base_uri": "https://localhost:8080/",
          "height": 206
        },
        "id": "SzQ7X9QgMGpq",
        "outputId": "8b5518a6-3cb8-4d12-8f66-9bbaca27c4fb"
      },
      "outputs": [
        {
          "data": {
            "text/html": [
              "<div>\n",
              "<style scoped>\n",
              "    .dataframe tbody tr th:only-of-type {\n",
              "        vertical-align: middle;\n",
              "    }\n",
              "\n",
              "    .dataframe tbody tr th {\n",
              "        vertical-align: top;\n",
              "    }\n",
              "\n",
              "    .dataframe thead th {\n",
              "        text-align: right;\n",
              "    }\n",
              "</style>\n",
              "<table border=\"1\" class=\"dataframe\">\n",
              "  <thead>\n",
              "    <tr style=\"text-align: right;\">\n",
              "      <th></th>\n",
              "      <th>X0</th>\n",
              "      <th>X1</th>\n",
              "      <th>label</th>\n",
              "    </tr>\n",
              "  </thead>\n",
              "  <tbody>\n",
              "    <tr>\n",
              "      <th>0</th>\n",
              "      <td>0.754246</td>\n",
              "      <td>0.231481</td>\n",
              "      <td>1</td>\n",
              "    </tr>\n",
              "    <tr>\n",
              "      <th>1</th>\n",
              "      <td>-0.756159</td>\n",
              "      <td>0.153259</td>\n",
              "      <td>1</td>\n",
              "    </tr>\n",
              "    <tr>\n",
              "      <th>2</th>\n",
              "      <td>-0.815392</td>\n",
              "      <td>0.173282</td>\n",
              "      <td>1</td>\n",
              "    </tr>\n",
              "    <tr>\n",
              "      <th>3</th>\n",
              "      <td>-0.393731</td>\n",
              "      <td>0.692883</td>\n",
              "      <td>1</td>\n",
              "    </tr>\n",
              "    <tr>\n",
              "      <th>4</th>\n",
              "      <td>0.442208</td>\n",
              "      <td>-0.896723</td>\n",
              "      <td>0</td>\n",
              "    </tr>\n",
              "  </tbody>\n",
              "</table>\n",
              "</div>"
            ],
            "text/plain": [
              "         X0        X1  label\n",
              "0  0.754246  0.231481      1\n",
              "1 -0.756159  0.153259      1\n",
              "2 -0.815392  0.173282      1\n",
              "3 -0.393731  0.692883      1\n",
              "4  0.442208 -0.896723      0"
            ]
          },
          "execution_count": 60,
          "metadata": {},
          "output_type": "execute_result"
        }
      ],
      "source": [
        "# Make dataframe of features and labels\n",
        "import pandas as pd\n",
        "circles = pd.DataFrame({\"X0\":X[:, 0], \"X1\":X[:, 1], \"label\":y})\n",
        "circles.head()"
      ]
    },
    {
      "cell_type": "markdown",
      "metadata": {
        "id": "1ngNwBOxevcv"
      },
      "source": [
        "What kind of labels are we dealing with?"
      ]
    },
    {
      "cell_type": "code",
      "execution_count": 61,
      "metadata": {
        "colab": {
          "base_uri": "https://localhost:8080/"
        },
        "id": "cfgZGtMGe0XB",
        "outputId": "8630eb35-6230-407e-9e87-503c4bf6bf3b"
      },
      "outputs": [
        {
          "data": {
            "text/plain": [
              "1    500\n",
              "0    500\n",
              "Name: label, dtype: int64"
            ]
          },
          "execution_count": 61,
          "metadata": {},
          "output_type": "execute_result"
        }
      ],
      "source": [
        "# Check out the different labels\n",
        "circles.label.value_counts()"
      ]
    },
    {
      "cell_type": "markdown",
      "metadata": {
        "id": "ajz7TdQPesKt"
      },
      "source": [
        "Alright, looks like we're dealing with a **binary classification** problem. It's binary because there are only two labels (0 or 1).\n",
        "\n",
        "If there were more label options (e.g. 0, 1, 2, 3 or 4), it would be called **multiclass classification**.\n",
        "\n",
        "Let's take our visualization a step further and plot our data."
      ]
    },
    {
      "cell_type": "code",
      "execution_count": 62,
      "metadata": {
        "colab": {
          "base_uri": "https://localhost:8080/",
          "height": 265
        },
        "id": "KIPTzrETMemP",
        "outputId": "67e12a64-ef89-4637-cdce-9a43f3990e70"
      },
      "outputs": [
        {
          "data": {
            "image/png": "[encoded data removed]",
            "text/plain": [
              "<Figure size 432x288 with 1 Axes>"
            ]
          },
          "metadata": {
            "needs_background": "light"
          },
          "output_type": "display_data"
        }
      ],
      "source": [
        "# Visualize with a plot\n",
        "import matplotlib.pyplot as plt\n",
        "plt.scatter(X[:, 0], X[:, 1], c=y, cmap=plt.cm.RdYlBu);"
      ]
    },
    {
      "cell_type": "markdown",
      "metadata": {
        "id": "_Jty66H6cbJp"
      },
      "source": [
        "Nice! From the plot, can you guess what kind of model we might want to build?\n",
        "\n",
        "How about we try and build one to classify blue or red dots? As in, a model which is able to distinguish blue from red dots.\n",
        "\n",
        "> 🛠 **Practice:** Before pushing forward, you might want to spend 10 minutes playing around with the [TensorFlow Playground](https://playground.tensorflow.org/#activation=relu&batchSize=10&dataset=circle&regDataset=reg-plane&learningRate=0.03&regularizationRate=0&noise=0&networkShape=2,2&seed=0.93799&showTestData=false&discretize=false&percTrainData=50&x=true&y=true&xTimesY=false&xSquared=false&ySquared=false&cosX=false&sinX=false&cosY=false&sinY=false&collectStats=false&problem=classification&initZero=false&hideText=false&regularization_hide=true&regularizationRate_hide=true&batchSize_hide=true). Try adjusting the different hyperparameters you see and click play to see a neural network train. I think you'll find the data very similar to what we've just created."
      ]
    },
    {
      "cell_type": "markdown",
      "metadata": {
        "id": "Cv4fEHihOAq4"
      },
      "source": [
        "## Input and output shapes\n",
        "\n",
        "One of the most common issues you'll run into when building neural networks is shape mismatches.\n",
        "\n",
        "More specifically, the shape of the input data and the shape of the output data.\n",
        "\n",
        "In our case, we want to input `X` and get our model to predict `y`.\n",
        "\n",
        "So let's check out the shapes of `X` and `y`."
      ]
    },
    {
      "cell_type": "code",
      "execution_count": 63,
      "metadata": {
        "colab": {
          "base_uri": "https://localhost:8080/"
        },
        "id": "lZxjjmsHNt_K",
        "outputId": "00a5389b-fa76-43e6-9ec2-1d09d9a27d71"
      },
      "outputs": [
        {
          "data": {
            "text/plain": [
              "((1000, 2), (1000,))"
            ]
          },
          "execution_count": 63,
          "metadata": {},
          "output_type": "execute_result"
        }
      ],
      "source": [
        "# Check the shapes of our features and labels\n",
        "X.shape, y.shape"
      ]
    },
    {
      "cell_type": "markdown",
      "metadata": {
        "id": "5BSq58RogJMa"
      },
      "source": [
        "Hmm, where do these numbers come from?"
      ]
    },
    {
      "cell_type": "code",
      "execution_count": 64,
      "metadata": {
        "colab": {
          "base_uri": "https://localhost:8080/"
        },
        "id": "SPr81SsKgHvZ",
        "outputId": "1466fcf5-de23-4951-e2c5-c5cff16f348f"
      },
      "outputs": [
        {
          "data": {
            "text/plain": [
              "(1000, 1000)"
            ]
          },
          "execution_count": 64,
          "metadata": {},
          "output_type": "execute_result"
        }
      ],
      "source": [
        "# Check how many samples we have\n",
        "len(X), len(y)"
      ]
    },
    {
      "cell_type": "markdown",
      "metadata": {
        "id": "XCBbrNaOgPWC"
      },
      "source": [
        "So we've got as many `X` values as we do `y` values, that makes sense.\n",
        "\n",
        "Let's check out one example of each."
      ]
    },
    {
      "cell_type": "code",
      "execution_count": 65,
      "metadata": {
        "colab": {
          "base_uri": "https://localhost:8080/"
        },
        "id": "hwrSEVubgZNb",
        "outputId": "96e6a9b7-c04f-4c1b-e394-91582d88d0f9"
      },
      "outputs": [
        {
          "data": {
            "text/plain": [
              "(array([0.75424625, 0.23148074]), 1)"
            ]
          },
          "execution_count": 65,
          "metadata": {},
          "output_type": "execute_result"
        }
      ],
      "source": [
        "# View the first example of features and labels\n",
        "X[0], y[0]"
      ]
    },
    {
      "cell_type": "markdown",
      "metadata": {
        "id": "OMeqY8JSgg4L"
      },
      "source": [
        "Alright, so we've got two `X` features which lead to one `y` value.\n",
        "\n",
        "This means our neural network input shape will has to accept a tensor with at least one dimension being two and output a tensor with at least one value.\n",
        "\n",
        "> 🤔 **Note:** `y` having a shape of (1000,) can seem confusing. However, this is because all `y` values are actually scalars (single values) and therefore don't have a dimension. For now, think of your output shape as being at least the same value as one example of `y` (in our case, the output from our neural network has to be at least one value)."
      ]
    },
    {
      "cell_type": "markdown",
      "metadata": {
        "id": "vSjUbiCBN9fc"
      },
      "source": [
        "## Steps in modelling\n",
        "\n",
        "Now we know what data we have as well as the input and output shapes, let's see how we'd build a neural network to model it.\n",
        "\n",
        "In TensorFlow, there are typically 3 fundamental steps to creating and training a model.\n",
        "\n",
        "1. **Creating a model** - piece together the layers of a neural network yourself (using the [functional](https://www.tensorflow.org/guide/keras/functional) or [sequential API](https://www.tensorflow.org/api_docs/python/tf/keras/Sequential)) or import a previously built model (known as transfer learning).\n",
        "2. **Compiling a model** - defining how a model's performance should be measured (loss/metrics) as well as defining how it should improve (optimizer). \n",
        "3. **Fitting a model** - letting the model try to find patterns in the data (how does `X` get to `y`). \n",
        "\n",
        "Let's see these in action using the Sequential API to build a model for our regression data. And then we'll step through each."
      ]
    },
    {
      "cell_type": "code",
      "execution_count": 66,
      "metadata": {
        "colab": {
          "base_uri": "https://localhost:8080/"
        },
        "id": "Lt4pbcZ7OEif",
        "outputId": "d617ebc3-2e36-4be9-873b-74185247ccd6"
      },
      "outputs": [
        {
          "name": "stdout",
          "output_type": "stream",
          "text": [
            "Epoch 1/5\n",
            "32/32 [==============================] - 0s 850us/step - loss: 2.8544 - accuracy: 0.4600\n",
            "Epoch 2/5\n",
            "32/32 [==============================] - 0s 704us/step - loss: 0.7131 - accuracy: 0.5430\n",
            "Epoch 3/5\n",
            "32/32 [==============================] - 0s 928us/step - loss: 0.6973 - accuracy: 0.5090\n",
            "Epoch 4/5\n",
            "32/32 [==============================] - 0s 744us/step - loss: 0.6950 - accuracy: 0.5010\n",
            "Epoch 5/5\n",
            "32/32 [==============================] - 0s 743us/step - loss: 0.6942 - accuracy: 0.4820\n"
          ]
        },
        {
          "data": {
            "text/plain": [
              "<keras.callbacks.History at 0x7f82243fceb0>"
            ]
          },
          "execution_count": 66,
          "metadata": {},
          "output_type": "execute_result"
        }
      ],
      "source": [
        "# Set random seed\n",
        "tf.random.set_seed(42)\n",
        "\n",
        "# 1. Create the model using the Sequential API\n",
        "model_1 = tf.keras.Sequential([\n",
        "  tf.keras.layers.Dense(1)\n",
        "])\n",
        "\n",
        "# 2. Compile the model\n",
        "model_1.compile(loss=tf.keras.losses.BinaryCrossentropy(), # binary since we are working with 2 clases (0 & 1)\n",
        "                optimizer=tf.keras.optimizers.SGD(),\n",
        "                metrics=['accuracy'])\n",
        "\n",
        "# 3. Fit the model\n",
        "model_1.fit(X, y, epochs=5)"
      ]
    },
    {
      "cell_type": "markdown",
      "metadata": {
        "id": "oa8Tcv9ePRq6"
      },
      "source": [
        "Looking at the accuracy metric, our model performs poorly (50% accuracy on a binary classification problem is the equivalent of guessing), but what if we trained it for longer?"
      ]
    },
    {
      "cell_type": "code",
      "execution_count": 67,
      "metadata": {
        "colab": {
          "base_uri": "https://localhost:8080/"
        },
        "id": "GqVVD_IqPHm5",
        "outputId": "b173408e-d1b3-498a-b411-418a9a80c455"
      },
      "outputs": [
        {
          "name": "stdout",
          "output_type": "stream",
          "text": [
            "32/32 [==============================] - 0s 681us/step - loss: 0.6935 - accuracy: 0.5000\n"
          ]
        },
        {
          "data": {
            "text/plain": [
              "[0.6934831142425537, 0.5]"
            ]
          },
          "execution_count": 67,
          "metadata": {},
          "output_type": "execute_result"
        }
      ],
      "source": [
        "# Train our model for longer (more chances to look at the data)\n",
        "model_1.fit(X, y, epochs=200, verbose=0) # set verbose=0 to remove training updates\n",
        "model_1.evaluate(X, y)"
      ]
    },
    {
      "cell_type": "markdown",
      "metadata": {
        "id": "H-qaMmKrPegL"
      },
      "source": [
        "Even after 200 passes of the data, it's still performing as if it's guessing.\n",
        "\n",
        "What if we added an extra layer and trained for a little longer?"
      ]
    },
    {
      "cell_type": "code",
      "execution_count": 68,
      "metadata": {
        "colab": {
          "base_uri": "https://localhost:8080/"
        },
        "id": "TED0ZkOuPklW",
        "outputId": "55dd2213-2a70-4ca1-f291-b6c2ffee215b"
      },
      "outputs": [
        {
          "data": {
            "text/plain": [
              "<keras.callbacks.History at 0x7f8224305fa0>"
            ]
          },
          "execution_count": 68,
          "metadata": {},
          "output_type": "execute_result"
        }
      ],
      "source": [
        "# Set random seed\n",
        "tf.random.set_seed(42)\n",
        "\n",
        "# 1. Create the model (same as model_1 but with an extra layer)\n",
        "model_2 = tf.keras.Sequential([\n",
        "  tf.keras.layers.Dense(1), # add an extra layer\n",
        "  tf.keras.layers.Dense(1) \n",
        "])\n",
        "\n",
        "# 2. Compile the model\n",
        "model_2.compile(loss=tf.keras.losses.BinaryCrossentropy(),\n",
        "                optimizer=tf.keras.optimizers.SGD(),\n",
        "                metrics=['accuracy'])\n",
        "\n",
        "# 3. Fit the model\n",
        "model_2.fit(X, y, epochs=100, verbose=0) # set verbose=0 to make the output print less"
      ]
    },
    {
      "cell_type": "code",
      "execution_count": 69,
      "metadata": {
        "colab": {
          "base_uri": "https://localhost:8080/"
        },
        "id": "qFWWlhByirLa",
        "outputId": "1886ac0d-ad1d-433c-83d4-16d31139e6b7"
      },
      "outputs": [
        {
          "name": "stdout",
          "output_type": "stream",
          "text": [
            "32/32 [==============================] - 0s 810us/step - loss: 0.6933 - accuracy: 0.5000\n"
          ]
        },
        {
          "data": {
            "text/plain": [
              "[0.6933314204216003, 0.5]"
            ]
          },
          "execution_count": 69,
          "metadata": {},
          "output_type": "execute_result"
        }
      ],
      "source": [
        "# Evaluate the model\n",
        "model_2.evaluate(X, y)"
      ]
    },
    {
      "cell_type": "markdown",
      "metadata": {
        "id": "HC7vhAHKQQRY"
      },
      "source": [
        "Still not even as good as guessing (~50% accuracy)... hmm...?\n",
        "\n",
        "Let's remind ourselves of a couple more ways we can use to improve our models."
      ]
    },
    {
      "cell_type": "markdown",
      "metadata": {
        "id": "wyTs6QgijF6_"
      },
      "source": [
        "## Improving a model\n",
        "\n",
        "To improve our model, we can alter almost every part of the 3 steps we went through before.\n",
        "\n",
        "1. **Creating a model** - here you might want to add more layers, increase the number of hidden units (also called neurons) within each layer, change the activation functions of each layer.\n",
        "2. **Compiling a model** - you might want to choose a different optimization function (such as the [Adam](https://www.tensorflow.org/api_docs/python/tf/keras/optimizers/Adam) optimizer, which is usually pretty good for many problems) or perhaps change the learning rate of the optimization function.\n",
        "3. **Fitting a model** - perhaps you could fit a model for more epochs (leave it training for longer).\n",
        "\n",
        "![various options you can use to improve a neural network model](https://raw.githubusercontent.com/mrdbourke/tensorflow-deep-learning/main/images/02-improving-a-model-from-model-perspective.png)\n",
        "*There are many different ways to potentially improve a neural network. Some of the most common include: increasing the number of layers (making the network deeper), increasing the number of hidden units (making the network wider) and changing the learning rate. Because these values are all human-changeable, they're referred to as [hyperparameters](https://en.wikipedia.org/wiki/Hyperparameter_(machine_learning)) and the practice of trying to find the best hyperparameters is referred to as [hyperparameter tuning](https://en.wikipedia.org/wiki/Hyperparameter_optimization).*\n",
        "\n",
        "How about we try adding more neurons, an extra layer and our friend the Adam optimizer?\n",
        "\n",
        "Surely doing this will result in predictions better than guessing...\n",
        "\n",
        "> **Note:** If you're using TensorFlow 2.7.0+ the original code from the following cells may have caused some errors. They've since been updated to fix those errors. You can see explanations on what happened at the following resources:\n",
        "* [Example Colab Notebook](https://colab.research.google.com/drive/1_dlrB_DJOBS9c9foYJs49I0YwN7LTakl?usp=sharing)\n",
        "* [TensorFlow for Deep Learning GitHub Discussion on TensorFlow 2.7.0 breaking changes](https://github.com/mrdbourke/tensorflow-deep-learning/discussions/278)"
      ]
    },
    {
      "cell_type": "code",
      "execution_count": 70,
      "metadata": {
        "colab": {
          "base_uri": "https://localhost:8080/"
        },
        "id": "46pebMB4Qeth",
        "outputId": "b9a7ca91-2351-4fb4-ee6b-7b7028ba5b97"
      },
      "outputs": [
        {
          "data": {
            "text/plain": [
              "<keras.callbacks.History at 0x7f82241c94f0>"
            ]
          },
          "execution_count": 70,
          "metadata": {},
          "output_type": "execute_result"
        }
      ],
      "source": [
        "# Set random seed\n",
        "tf.random.set_seed(42)\n",
        "\n",
        "# 1. Create the model (this time 3 layers)\n",
        "model_3 = tf.keras.Sequential([\n",
        "  # Before TensorFlow 2.7.0\n",
        "  # tf.keras.layers.Dense(100), # add 100 dense neurons\n",
        "\n",
        "  ## After TensorFlow 2.7.0 ##\n",
        "  tf.keras.layers.Dense(100, input_shape=(None, 1)), # add 100 dense neurons with input_shape defined (None, 1) = look at 1 sample at a time\n",
        "  tf.keras.layers.Dense(10), # add another layer with 10 neurons\n",
        "  tf.keras.layers.Dense(1)\n",
        "])\n",
        "\n",
        "# 2. Compile the model\n",
        "model_3.compile(loss=tf.keras.losses.BinaryCrossentropy(),\n",
        "                optimizer=tf.keras.optimizers.Adam(), # use Adam instead of SGD\n",
        "                metrics=['accuracy'])\n",
        "\n",
        "# 3. Fit the model\n",
        "model_3.fit(X, y, epochs=100, verbose=0) # fit for 100 passes of the data"
      ]
    },
    {
      "cell_type": "markdown",
      "metadata": {
        "id": "TJJL0YT7RVzv"
      },
      "source": [
        "Still! \n",
        "\n",
        "We've pulled out a few tricks but our model isn't even doing better than guessing.\n",
        "\n",
        "Let's make some visualizations to see what's happening.\n",
        "\n",
        "> 🔑 **Note:** Whenever your model is performing strangely or there's something going on with your data you're not quite sure of, remember these three words: **visualize, visualize, visualize**. Inspect your data, inspect your model, inpsect your model's predictions.\n",
        "\n",
        "To visualize our model's predictions we're going to create a function `plot_decision_boundary()` which:\n",
        "* Takes in a trained model, features (`X`) and labels (`y`).\n",
        "* Creates a [meshgrid](https://numpy.org/doc/stable/reference/generated/numpy.meshgrid.html) of the different `X` values.\n",
        "* Makes predictions across the meshgrid.\n",
        "* Plots the predictions as well as a line between the different zones (where each unique class falls).\n",
        "\n",
        "If this sounds confusing, let's see it in code and then see the output.\n",
        "\n",
        "> 🔑 **Note:** If you're ever unsure of what a function does, try unraveling it and writing it line by line for yourself to see what it does. Break it into small parts and see what each part outputs."
      ]
    },
    {
      "cell_type": "code",
      "execution_count": 71,
      "metadata": {
        "id": "MuwGjU_XR0aG"
      },
      "outputs": [],
      "source": [
        "import numpy as np\n",
        "\n",
        "def plot_decision_boundary(model, X, y):\n",
        "  \"\"\"\n",
        "  Plots the decision boundary created by a model predicting on X.\n",
        "  This function has been adapted from two phenomenal resources:\n",
        "   1. CS231n - https://cs231n.github.io/neural-networks-case-study/\n",
        "   2. Made with ML basics - https://github.com/GokuMohandas/MadeWithML/blob/main/notebooks/08_Neural_Networks.ipynb\n",
        "  \"\"\"\n",
        "  # Define the axis boundaries of the plot and create a meshgrid\n",
        "  x_min, x_max = X[:, 0].min() - 0.1, X[:, 0].max() + 0.1\n",
        "  y_min, y_max = X[:, 1].min() - 0.1, X[:, 1].max() + 0.1\n",
        "  xx, yy = np.meshgrid(np.linspace(x_min, x_max, 100),\n",
        "                       np.linspace(y_min, y_max, 100))\n",
        "  \n",
        "  # Create X values (we're going to predict on all of these)\n",
        "  x_in = np.c_[xx.ravel(), yy.ravel()] # stack 2D arrays together: https://numpy.org/devdocs/reference/generated/numpy.c_.html\n",
        "  \n",
        "  # Make predictions using the trained model\n",
        "  y_pred = model.predict(x_in)\n",
        "\n",
        "  # Check for multi-class\n",
        "  if len(y_pred[0]) > 1:\n",
        "    print(\"doing multiclass classification...\")\n",
        "    # We have to reshape our predictions to get them ready for plotting\n",
        "    y_pred = np.argmax(y_pred, axis=1).reshape(xx.shape)\n",
        "  else:\n",
        "    print(\"doing binary classifcation...\")\n",
        "    y_pred = np.round(y_pred).reshape(xx.shape)\n",
        "  \n",
        "  # Plot decision boundary\n",
        "  plt.contourf(xx, yy, y_pred, cmap=plt.cm.RdYlBu, alpha=0.7)\n",
        "  plt.scatter(X[:, 0], X[:, 1], c=y, s=40, cmap=plt.cm.RdYlBu)\n",
        "  plt.xlim(xx.min(), xx.max())\n",
        "  plt.ylim(yy.min(), yy.max())"
      ]
    },
    {
      "cell_type": "markdown",
      "metadata": {
        "id": "OgekXFM2clQW"
      },
      "source": [
        "Now we've got a function to plot our model's decision boundary (the cut off point its making between red and blue dots), let's try it out."
      ]
    },
    {
      "cell_type": "code",
      "execution_count": 72,
      "metadata": {
        "colab": {
          "base_uri": "https://localhost:8080/",
          "height": 282
        },
        "id": "XIyCVjolTmy4",
        "outputId": "0a198321-4a18-4ee7-94b8-50a58e015479"
      },
      "outputs": [
        {
          "name": "stdout",
          "output_type": "stream",
          "text": [
            "doing multiclass classification...\n"
          ]
        },
        {
          "data": {
            "image/png": "[encoded data removed]",
            "text/plain": [
              "<Figure size 432x288 with 1 Axes>"
            ]
          },
          "metadata": {
            "needs_background": "light"
          },
          "output_type": "display_data"
        }
      ],
      "source": [
        "# Check out the predictions our model is making \n",
        "plot_decision_boundary(model_3, X, y)"
      ]
    },
    {
      "cell_type": "markdown",
      "metadata": {
        "id": "XIzcQrknUJPK"
      },
      "source": [
        "Looks like our model is trying to draw a straight line through the data.\n",
        "\n",
        "What's wrong with doing this?\n",
        "\n",
        "The main issue is our data isn't separable by a straight line.\n",
        "\n",
        "In a regression problem, our model might work. In fact, let's try it."
      ]
    },
    {
      "cell_type": "code",
      "execution_count": 73,
      "metadata": {
        "colab": {
          "base_uri": "https://localhost:8080/"
        },
        "id": "7d9O9subUshC",
        "outputId": "2cff0538-c750-4ad2-844d-1d3e7cf66ee0"
      },
      "outputs": [
        {
          "name": "stdout",
          "output_type": "stream",
          "text": [
            "Epoch 1/100\n",
            "5/5 [==============================] - 0s 2ms/step - loss: -4016.9209 - accuracy: 0.0000e+00\n",
            "Epoch 2/100\n",
            "5/5 [==============================] - 0s 2ms/step - loss: -7145.1201 - accuracy: 0.0000e+00\n",
            "Epoch 3/100\n",
            "5/5 [==============================] - 0s 2ms/step - loss: -7154.2485 - accuracy: 0.0000e+00\n",
            "Epoch 4/100\n",
            "5/5 [==============================] - 0s 2ms/step - loss: -7190.0156 - accuracy: 0.0000e+00\n",
            "Epoch 5/100\n",
            "5/5 [==============================] - 0s 1ms/step - loss: -7190.0156 - accuracy: 0.0000e+00\n",
            "Epoch 6/100\n",
            "5/5 [==============================] - 0s 2ms/step - loss: -7190.0156 - accuracy: 0.0000e+00\n",
            "Epoch 7/100\n",
            "5/5 [==============================] - 0s 2ms/step - loss: -7190.0156 - accuracy: 0.0000e+00\n",
            "Epoch 8/100\n",
            "5/5 [==============================] - 0s 2ms/step - loss: -7190.0156 - accuracy: 0.0000e+00\n",
            "Epoch 9/100\n",
            "5/5 [==============================] - 0s 2ms/step - loss: -7190.0151 - accuracy: 0.0000e+00\n",
            "Epoch 10/100\n",
            "5/5 [==============================] - 0s 2ms/step - loss: -7190.0156 - accuracy: 0.0000e+00\n",
            "Epoch 11/100\n",
            "5/5 [==============================] - 0s 2ms/step - loss: -7190.0156 - accuracy: 0.0000e+00\n",
            "Epoch 12/100\n",
            "5/5 [==============================] - 0s 2ms/step - loss: -7190.0156 - accuracy: 0.0000e+00\n",
            "Epoch 13/100\n",
            "5/5 [==============================] - 0s 2ms/step - loss: -7190.0156 - accuracy: 0.0000e+00\n",
            "Epoch 14/100\n",
            "5/5 [==============================] - 0s 2ms/step - loss: -7190.0156 - accuracy: 0.0000e+00\n",
            "Epoch 15/100\n",
            "5/5 [==============================] - 0s 2ms/step - loss: -7190.0156 - accuracy: 0.0000e+00\n",
            "Epoch 16/100\n",
            "5/5 [==============================] - 0s 2ms/step - loss: -7190.0156 - accuracy: 0.0000e+00\n",
            "Epoch 17/100\n",
            "5/5 [==============================] - 0s 2ms/step - loss: -7190.0156 - accuracy: 0.0000e+00\n",
            "Epoch 18/100\n",
            "5/5 [==============================] - 0s 2ms/step - loss: -7190.0151 - accuracy: 0.0000e+00\n",
            "Epoch 19/100\n",
            "5/5 [==============================] - 0s 2ms/step - loss: -7190.0151 - accuracy: 0.0000e+00\n",
            "Epoch 20/100\n",
            "5/5 [==============================] - 0s 2ms/step - loss: -7190.0166 - accuracy: 0.0000e+00\n",
            "Epoch 21/100\n",
            "5/5 [==============================] - 0s 2ms/step - loss: -7190.0156 - accuracy: 0.0000e+00\n",
            "Epoch 22/100\n",
            "5/5 [==============================] - 0s 2ms/step - loss: -7190.0156 - accuracy: 0.0000e+00\n",
            "Epoch 23/100\n",
            "5/5 [==============================] - 0s 2ms/step - loss: -7190.0156 - accuracy: 0.0000e+00\n",
            "Epoch 24/100\n",
            "5/5 [==============================] - 0s 2ms/step - loss: -7190.0151 - accuracy: 0.0000e+00\n",
            "Epoch 25/100\n",
            "5/5 [==============================] - 0s 2ms/step - loss: -7190.0156 - accuracy: 0.0000e+00\n",
            "Epoch 26/100\n",
            "5/5 [==============================] - 0s 2ms/step - loss: -7190.0156 - accuracy: 0.0000e+00\n",
            "Epoch 27/100\n",
            "5/5 [==============================] - 0s 2ms/step - loss: -7190.0151 - accuracy: 0.0000e+00\n",
            "Epoch 28/100\n",
            "5/5 [==============================] - 0s 2ms/step - loss: -7190.0156 - accuracy: 0.0000e+00\n",
            "Epoch 29/100\n",
            "5/5 [==============================] - 0s 2ms/step - loss: -7190.0156 - accuracy: 0.0000e+00\n",
            "Epoch 30/100\n",
            "5/5 [==============================] - 0s 3ms/step - loss: -7190.0156 - accuracy: 0.0000e+00\n",
            "Epoch 31/100\n",
            "5/5 [==============================] - 0s 2ms/step - loss: -7190.0156 - accuracy: 0.0000e+00\n",
            "Epoch 32/100\n",
            "5/5 [==============================] - 0s 3ms/step - loss: -7190.0156 - accuracy: 0.0000e+00\n",
            "Epoch 33/100\n",
            "5/5 [==============================] - 0s 2ms/step - loss: -7190.0156 - accuracy: 0.0000e+00\n",
            "Epoch 34/100\n",
            "5/5 [==============================] - 0s 2ms/step - loss: -7190.0156 - accuracy: 0.0000e+00\n",
            "Epoch 35/100\n",
            "5/5 [==============================] - 0s 2ms/step - loss: -7190.0156 - accuracy: 0.0000e+00\n",
            "Epoch 36/100\n",
            "5/5 [==============================] - 0s 2ms/step - loss: -7190.0151 - accuracy: 0.0000e+00\n",
            "Epoch 37/100\n",
            "5/5 [==============================] - 0s 3ms/step - loss: -7190.0156 - accuracy: 0.0000e+00\n",
            "Epoch 38/100\n",
            "5/5 [==============================] - 0s 2ms/step - loss: -7190.0156 - accuracy: 0.0000e+00\n",
            "Epoch 39/100\n",
            "5/5 [==============================] - 0s 2ms/step - loss: -7190.0151 - accuracy: 0.0000e+00\n",
            "Epoch 40/100\n",
            "5/5 [==============================] - 0s 2ms/step - loss: -7190.0151 - accuracy: 0.0000e+00\n",
            "Epoch 41/100\n",
            "5/5 [==============================] - 0s 2ms/step - loss: -7190.0156 - accuracy: 0.0000e+00\n",
            "Epoch 42/100\n",
            "5/5 [==============================] - 0s 1ms/step - loss: -7190.0156 - accuracy: 0.0000e+00\n",
            "Epoch 43/100\n",
            "5/5 [==============================] - 0s 2ms/step - loss: -7190.0156 - accuracy: 0.0000e+00\n",
            "Epoch 44/100\n",
            "5/5 [==============================] - 0s 2ms/step - loss: -7190.0156 - accuracy: 0.0000e+00\n",
            "Epoch 45/100\n",
            "5/5 [==============================] - 0s 2ms/step - loss: -7190.0156 - accuracy: 0.0000e+00\n",
            "Epoch 46/100\n",
            "5/5 [==============================] - 0s 3ms/step - loss: -7190.0156 - accuracy: 0.0000e+00\n",
            "Epoch 47/100\n",
            "5/5 [==============================] - 0s 2ms/step - loss: -7190.0156 - accuracy: 0.0000e+00\n",
            "Epoch 48/100\n",
            "5/5 [==============================] - 0s 2ms/step - loss: -7190.0156 - accuracy: 0.0000e+00\n",
            "Epoch 49/100\n",
            "5/5 [==============================] - 0s 2ms/step - loss: -7190.0156 - accuracy: 0.0000e+00\n",
            "Epoch 50/100\n",
            "5/5 [==============================] - 0s 2ms/step - loss: -7190.0156 - accuracy: 0.0000e+00\n",
            "Epoch 51/100\n",
            "5/5 [==============================] - 0s 2ms/step - loss: -7190.0156 - accuracy: 0.0000e+00\n",
            "Epoch 52/100\n",
            "5/5 [==============================] - 0s 2ms/step - loss: -7190.0151 - accuracy: 0.0000e+00\n",
            "Epoch 53/100\n",
            "5/5 [==============================] - 0s 2ms/step - loss: -7190.0156 - accuracy: 0.0000e+00\n",
            "Epoch 54/100\n",
            "5/5 [==============================] - 0s 2ms/step - loss: -7190.0156 - accuracy: 0.0000e+00\n",
            "Epoch 55/100\n",
            "5/5 [==============================] - 0s 2ms/step - loss: -7190.0156 - accuracy: 0.0000e+00\n",
            "Epoch 56/100\n",
            "5/5 [==============================] - 0s 2ms/step - loss: -7190.0156 - accuracy: 0.0000e+00\n",
            "Epoch 57/100\n",
            "5/5 [==============================] - 0s 2ms/step - loss: -7190.0156 - accuracy: 0.0000e+00\n",
            "Epoch 58/100\n",
            "5/5 [==============================] - 0s 2ms/step - loss: -7190.0156 - accuracy: 0.0000e+00\n",
            "Epoch 59/100\n",
            "5/5 [==============================] - 0s 2ms/step - loss: -7190.0156 - accuracy: 0.0000e+00\n",
            "Epoch 60/100\n",
            "5/5 [==============================] - 0s 2ms/step - loss: -7190.0156 - accuracy: 0.0000e+00\n",
            "Epoch 61/100\n",
            "5/5 [==============================] - 0s 2ms/step - loss: -7190.0156 - accuracy: 0.0000e+00\n",
            "Epoch 62/100\n",
            "5/5 [==============================] - 0s 2ms/step - loss: -7190.0151 - accuracy: 0.0000e+00\n",
            "Epoch 63/100\n",
            "5/5 [==============================] - 0s 2ms/step - loss: -7190.0156 - accuracy: 0.0000e+00\n",
            "Epoch 64/100\n",
            "5/5 [==============================] - 0s 2ms/step - loss: -7190.0156 - accuracy: 0.0000e+00\n",
            "Epoch 65/100\n",
            "5/5 [==============================] - 0s 2ms/step - loss: -7190.0156 - accuracy: 0.0000e+00\n",
            "Epoch 66/100\n",
            "5/5 [==============================] - 0s 2ms/step - loss: -7190.0156 - accuracy: 0.0000e+00\n",
            "Epoch 67/100\n",
            "5/5 [==============================] - 0s 2ms/step - loss: -7190.0156 - accuracy: 0.0000e+00\n",
            "Epoch 68/100\n",
            "5/5 [==============================] - 0s 2ms/step - loss: -7190.0156 - accuracy: 0.0000e+00\n",
            "Epoch 69/100\n",
            "5/5 [==============================] - 0s 2ms/step - loss: -7190.0156 - accuracy: 0.0000e+00\n",
            "Epoch 70/100\n",
            "5/5 [==============================] - 0s 3ms/step - loss: -7190.0156 - accuracy: 0.0000e+00\n",
            "Epoch 71/100\n",
            "5/5 [==============================] - 0s 3ms/step - loss: -7190.0156 - accuracy: 0.0000e+00\n",
            "Epoch 72/100\n",
            "5/5 [==============================] - 0s 2ms/step - loss: -7190.0156 - accuracy: 0.0000e+00\n",
            "Epoch 73/100\n",
            "5/5 [==============================] - 0s 2ms/step - loss: -7190.0156 - accuracy: 0.0000e+00\n",
            "Epoch 74/100\n",
            "5/5 [==============================] - 0s 2ms/step - loss: -7190.0151 - accuracy: 0.0000e+00\n",
            "Epoch 75/100\n",
            "5/5 [==============================] - 0s 3ms/step - loss: -7190.0156 - accuracy: 0.0000e+00\n",
            "Epoch 76/100\n",
            "5/5 [==============================] - 0s 3ms/step - loss: -7190.0156 - accuracy: 0.0000e+00\n",
            "Epoch 77/100\n",
            "5/5 [==============================] - 0s 2ms/step - loss: -7190.0156 - accuracy: 0.0000e+00\n",
            "Epoch 78/100\n",
            "5/5 [==============================] - 0s 2ms/step - loss: -7190.0156 - accuracy: 0.0000e+00\n",
            "Epoch 79/100\n",
            "5/5 [==============================] - 0s 2ms/step - loss: -7190.0156 - accuracy: 0.0000e+00\n",
            "Epoch 80/100\n",
            "5/5 [==============================] - 0s 2ms/step - loss: -7190.0151 - accuracy: 0.0000e+00\n",
            "Epoch 81/100\n",
            "5/5 [==============================] - 0s 2ms/step - loss: -7190.0156 - accuracy: 0.0000e+00\n",
            "Epoch 82/100\n",
            "5/5 [==============================] - 0s 2ms/step - loss: -7190.0156 - accuracy: 0.0000e+00\n",
            "Epoch 83/100\n",
            "5/5 [==============================] - 0s 2ms/step - loss: -7190.0156 - accuracy: 0.0000e+00\n",
            "Epoch 84/100\n",
            "5/5 [==============================] - 0s 2ms/step - loss: -7190.0156 - accuracy: 0.0000e+00\n",
            "Epoch 85/100\n",
            "5/5 [==============================] - 0s 2ms/step - loss: -7190.0166 - accuracy: 0.0000e+00\n",
            "Epoch 86/100\n",
            "5/5 [==============================] - 0s 2ms/step - loss: -7190.0156 - accuracy: 0.0000e+00\n",
            "Epoch 87/100\n",
            "5/5 [==============================] - 0s 2ms/step - loss: -7190.0156 - accuracy: 0.0000e+00\n",
            "Epoch 88/100\n",
            "5/5 [==============================] - 0s 1ms/step - loss: -7190.0156 - accuracy: 0.0000e+00\n",
            "Epoch 89/100\n",
            "5/5 [==============================] - 0s 2ms/step - loss: -7190.0156 - accuracy: 0.0000e+00\n",
            "Epoch 90/100\n",
            "5/5 [==============================] - 0s 2ms/step - loss: -7190.0156 - accuracy: 0.0000e+00\n",
            "Epoch 91/100\n",
            "5/5 [==============================] - 0s 3ms/step - loss: -7190.0151 - accuracy: 0.0000e+00\n",
            "Epoch 92/100\n",
            "5/5 [==============================] - 0s 3ms/step - loss: -7190.0156 - accuracy: 0.0000e+00\n",
            "Epoch 93/100\n",
            "5/5 [==============================] - 0s 3ms/step - loss: -7190.0156 - accuracy: 0.0000e+00\n",
            "Epoch 94/100\n",
            "5/5 [==============================] - 0s 2ms/step - loss: -7190.0156 - accuracy: 0.0000e+00\n",
            "Epoch 95/100\n",
            "5/5 [==============================] - 0s 2ms/step - loss: -7190.0156 - accuracy: 0.0000e+00\n",
            "Epoch 96/100\n",
            "5/5 [==============================] - 0s 2ms/step - loss: -7190.0151 - accuracy: 0.0000e+00\n",
            "Epoch 97/100\n",
            "5/5 [==============================] - 0s 2ms/step - loss: -7190.0156 - accuracy: 0.0000e+00\n",
            "Epoch 98/100\n",
            "5/5 [==============================] - 0s 2ms/step - loss: -7190.0151 - accuracy: 0.0000e+00\n",
            "Epoch 99/100\n",
            "5/5 [==============================] - 0s 2ms/step - loss: -7190.0156 - accuracy: 0.0000e+00\n",
            "Epoch 100/100\n",
            "5/5 [==============================] - 0s 2ms/step - loss: -7190.0156 - accuracy: 0.0000e+00\n"
          ]
        },
        {
          "data": {
            "text/plain": [
              "<keras.callbacks.History at 0x7f82b41481c0>"
            ]
          },
          "execution_count": 73,
          "metadata": {},
          "output_type": "execute_result"
        }
      ],
      "source": [
        "# Set random seed\n",
        "tf.random.set_seed(42)\n",
        "\n",
        "# Create some regression data\n",
        "X_regression = np.arange(0, 1000, 5)\n",
        "y_regression = np.arange(100, 1100, 5)\n",
        "\n",
        "# Split it into training and test sets\n",
        "X_reg_train = X_regression[:150]\n",
        "X_reg_test = X_regression[150:]\n",
        "y_reg_train = y_regression[:150]\n",
        "y_reg_test = y_regression[150:]\n",
        "\n",
        "# Fit our model to the data\n",
        "# Note: Before TensorFlow 2.7.0, this line would work\n",
        "# model_3.fit(X_reg_train, y_reg_train, epochs=100)\n",
        "\n",
        "# After TensorFlow 2.7.0, see here for more: https://github.com/mrdbourke/tensorflow-deep-learning/discussions/278\n",
        "model_3.fit(tf.expand_dims(X_reg_train, axis=-1), \n",
        "            y_reg_train,\n",
        "            epochs=100)"
      ]
    },
    {
      "cell_type": "code",
      "execution_count": 74,
      "metadata": {
        "colab": {
          "base_uri": "https://localhost:8080/"
        },
        "id": "lFGjyziVn_Zh",
        "outputId": "75ad53df-c093-422e-bfaa-0c14f8f560a3"
      },
      "outputs": [
        {
          "name": "stdout",
          "output_type": "stream",
          "text": [
            "Model: \"sequential_13\"\n",
            "_________________________________________________________________\n",
            " Layer (type)                Output Shape              Param #   \n",
            "=================================================================\n",
            " dense_31 (Dense)            (None, None, 100)         200       \n",
            "                                                                 \n",
            " dense_32 (Dense)            (None, None, 10)          1010      \n",
            "                                                                 \n",
            " dense_33 (Dense)            (None, None, 1)           11        \n",
            "                                                                 \n",
            "=================================================================\n",
            "Total params: 1,221\n",
            "Trainable params: 1,221\n",
            "Non-trainable params: 0\n",
            "_________________________________________________________________\n"
          ]
        }
      ],
      "source": [
        "model_3.summary()"
      ]
    },
    {
      "cell_type": "markdown",
      "metadata": {
        "id": "SMu37fayVEZI"
      },
      "source": [
        "Oh wait... we compiled our model for a binary classification problem.\n",
        "\n",
        "No trouble, we can recreate it for a regression problem."
      ]
    },
    {
      "cell_type": "code",
      "execution_count": 75,
      "metadata": {
        "colab": {
          "base_uri": "https://localhost:8080/"
        },
        "id": "OUJtmMPZVOZ9",
        "outputId": "5c2e1645-664b-4093-a97c-6ac58d8275b1"
      },
      "outputs": [
        {
          "name": "stdout",
          "output_type": "stream",
          "text": [
            "Epoch 1/100\n",
            "5/5 [==============================] - 0s 3ms/step - loss: 248.2155 - mae: 248.2155\n",
            "Epoch 2/100\n",
            "5/5 [==============================] - 0s 2ms/step - loss: 138.9005 - mae: 138.9005\n",
            "Epoch 3/100\n",
            "5/5 [==============================] - 0s 2ms/step - loss: 53.1039 - mae: 53.1039\n",
            "Epoch 4/100\n",
            "5/5 [==============================] - 0s 1ms/step - loss: 73.5170 - mae: 73.5170\n",
            "Epoch 5/100\n",
            "5/5 [==============================] - 0s 2ms/step - loss: 71.2358 - mae: 71.2358\n",
            "Epoch 6/100\n",
            "5/5 [==============================] - 0s 2ms/step - loss: 47.0040 - mae: 47.0040\n",
            "Epoch 7/100\n",
            "5/5 [==============================] - 0s 2ms/step - loss: 45.9386 - mae: 45.9386\n",
            "Epoch 8/100\n",
            "5/5 [==============================] - 0s 3ms/step - loss: 42.3638 - mae: 42.3638\n",
            "Epoch 9/100\n",
            "5/5 [==============================] - 0s 2ms/step - loss: 43.6830 - mae: 43.6830\n",
            "Epoch 10/100\n",
            "5/5 [==============================] - 0s 2ms/step - loss: 42.6198 - mae: 42.6198\n",
            "Epoch 11/100\n",
            "5/5 [==============================] - 0s 1ms/step - loss: 42.4797 - mae: 42.4797\n",
            "Epoch 12/100\n",
            "5/5 [==============================] - 0s 1ms/step - loss: 41.5537 - mae: 41.5537\n",
            "Epoch 13/100\n",
            "5/5 [==============================] - 0s 2ms/step - loss: 42.0972 - mae: 42.0972\n",
            "Epoch 14/100\n",
            "5/5 [==============================] - 0s 2ms/step - loss: 41.8647 - mae: 41.8647\n",
            "Epoch 15/100\n",
            "5/5 [==============================] - 0s 2ms/step - loss: 41.5342 - mae: 41.5342\n",
            "Epoch 16/100\n",
            "5/5 [==============================] - 0s 1ms/step - loss: 41.4028 - mae: 41.4028\n",
            "Epoch 17/100\n",
            "5/5 [==============================] - 0s 1ms/step - loss: 41.6887 - mae: 41.6887\n",
            "Epoch 18/100\n",
            "5/5 [==============================] - 0s 1ms/step - loss: 41.6137 - mae: 41.6137\n",
            "Epoch 19/100\n",
            "5/5 [==============================] - 0s 1ms/step - loss: 41.2796 - mae: 41.2796\n",
            "Epoch 20/100\n",
            "5/5 [==============================] - 0s 1ms/step - loss: 41.1947 - mae: 41.1947\n",
            "Epoch 21/100\n",
            "5/5 [==============================] - 0s 1ms/step - loss: 41.2130 - mae: 41.2130\n",
            "Epoch 22/100\n",
            "5/5 [==============================] - 0s 1ms/step - loss: 41.0893 - mae: 41.0893\n",
            "Epoch 23/100\n",
            "5/5 [==============================] - 0s 1ms/step - loss: 41.2019 - mae: 41.2019\n",
            "Epoch 24/100\n",
            "5/5 [==============================] - 0s 2ms/step - loss: 40.9989 - mae: 40.9989\n",
            "Epoch 25/100\n",
            "5/5 [==============================] - 0s 1ms/step - loss: 41.0130 - mae: 41.0130\n",
            "Epoch 26/100\n",
            "5/5 [==============================] - 0s 2ms/step - loss: 41.0654 - mae: 41.0654\n",
            "Epoch 27/100\n",
            "5/5 [==============================] - 0s 2ms/step - loss: 40.8764 - mae: 40.8764\n",
            "Epoch 28/100\n",
            "5/5 [==============================] - 0s 2ms/step - loss: 41.0545 - mae: 41.0545\n",
            "Epoch 29/100\n",
            "5/5 [==============================] - 0s 2ms/step - loss: 41.0480 - mae: 41.0480\n",
            "Epoch 30/100\n",
            "5/5 [==============================] - 0s 2ms/step - loss: 40.8807 - mae: 40.8807\n",
            "Epoch 31/100\n",
            "5/5 [==============================] - 0s 2ms/step - loss: 41.2695 - mae: 41.2695\n",
            "Epoch 32/100\n",
            "5/5 [==============================] - 0s 2ms/step - loss: 40.9949 - mae: 40.9949\n",
            "Epoch 33/100\n",
            "5/5 [==============================] - 0s 2ms/step - loss: 41.0760 - mae: 41.0760\n",
            "Epoch 34/100\n",
            "5/5 [==============================] - 0s 2ms/step - loss: 41.2471 - mae: 41.2471\n",
            "Epoch 35/100\n",
            "5/5 [==============================] - 0s 1ms/step - loss: 40.6102 - mae: 40.6102\n",
            "Epoch 36/100\n",
            "5/5 [==============================] - 0s 2ms/step - loss: 41.1093 - mae: 41.1093\n",
            "Epoch 37/100\n",
            "5/5 [==============================] - 0s 1ms/step - loss: 40.8191 - mae: 40.8191\n",
            "Epoch 38/100\n",
            "5/5 [==============================] - 0s 2ms/step - loss: 40.2485 - mae: 40.2485\n",
            "Epoch 39/100\n",
            "5/5 [==============================] - 0s 2ms/step - loss: 41.0625 - mae: 41.0625\n",
            "Epoch 40/100\n",
            "5/5 [==============================] - 0s 2ms/step - loss: 40.5311 - mae: 40.5311\n",
            "Epoch 41/100\n",
            "5/5 [==============================] - 0s 2ms/step - loss: 40.5497 - mae: 40.5497\n",
            "Epoch 42/100\n",
            "5/5 [==============================] - 0s 2ms/step - loss: 40.4322 - mae: 40.4322\n",
            "Epoch 43/100\n",
            "5/5 [==============================] - 0s 2ms/step - loss: 40.5367 - mae: 40.5367\n",
            "Epoch 44/100\n",
            "5/5 [==============================] - 0s 2ms/step - loss: 40.2487 - mae: 40.2487\n",
            "Epoch 45/100\n",
            "5/5 [==============================] - 0s 2ms/step - loss: 40.5152 - mae: 40.5152\n",
            "Epoch 46/100\n",
            "5/5 [==============================] - 0s 1ms/step - loss: 40.3702 - mae: 40.3702\n",
            "Epoch 47/100\n",
            "5/5 [==============================] - 0s 1ms/step - loss: 40.4769 - mae: 40.4769\n",
            "Epoch 48/100\n",
            "5/5 [==============================] - 0s 2ms/step - loss: 40.1532 - mae: 40.1532\n",
            "Epoch 49/100\n",
            "5/5 [==============================] - 0s 3ms/step - loss: 40.7291 - mae: 40.7291\n",
            "Epoch 50/100\n",
            "5/5 [==============================] - 0s 2ms/step - loss: 40.1536 - mae: 40.1536\n",
            "Epoch 51/100\n",
            "5/5 [==============================] - 0s 2ms/step - loss: 40.2711 - mae: 40.2711\n",
            "Epoch 52/100\n",
            "5/5 [==============================] - 0s 1ms/step - loss: 40.6572 - mae: 40.6572\n",
            "Epoch 53/100\n",
            "5/5 [==============================] - 0s 1ms/step - loss: 40.6573 - mae: 40.6573\n",
            "Epoch 54/100\n",
            "5/5 [==============================] - 0s 1ms/step - loss: 40.6894 - mae: 40.6894\n",
            "Epoch 55/100\n",
            "5/5 [==============================] - 0s 2ms/step - loss: 41.2771 - mae: 41.2771\n",
            "Epoch 56/100\n",
            "5/5 [==============================] - 0s 2ms/step - loss: 41.8519 - mae: 41.8519\n",
            "Epoch 57/100\n",
            "5/5 [==============================] - 0s 2ms/step - loss: 40.7903 - mae: 40.7903\n",
            "Epoch 58/100\n",
            "5/5 [==============================] - 0s 2ms/step - loss: 40.3128 - mae: 40.3128\n",
            "Epoch 59/100\n",
            "5/5 [==============================] - 0s 2ms/step - loss: 40.7198 - mae: 40.7198\n",
            "Epoch 60/100\n",
            "5/5 [==============================] - 0s 2ms/step - loss: 40.1478 - mae: 40.1478\n",
            "Epoch 61/100\n",
            "5/5 [==============================] - 0s 1ms/step - loss: 40.1116 - mae: 40.1116\n",
            "Epoch 62/100\n",
            "5/5 [==============================] - 0s 3ms/step - loss: 40.7800 - mae: 40.7800\n",
            "Epoch 63/100\n",
            "5/5 [==============================] - 0s 2ms/step - loss: 39.7242 - mae: 39.7242\n",
            "Epoch 64/100\n",
            "5/5 [==============================] - 0s 2ms/step - loss: 40.1465 - mae: 40.1465\n",
            "Epoch 65/100\n",
            "5/5 [==============================] - 0s 2ms/step - loss: 39.6887 - mae: 39.6887\n",
            "Epoch 66/100\n",
            "5/5 [==============================] - 0s 2ms/step - loss: 40.2840 - mae: 40.2840\n",
            "Epoch 67/100\n",
            "5/5 [==============================] - 0s 2ms/step - loss: 39.5541 - mae: 39.5541\n",
            "Epoch 68/100\n",
            "5/5 [==============================] - 0s 2ms/step - loss: 39.7378 - mae: 39.7378\n",
            "Epoch 69/100\n",
            "5/5 [==============================] - 0s 1ms/step - loss: 39.9784 - mae: 39.9784\n",
            "Epoch 70/100\n",
            "5/5 [==============================] - 0s 2ms/step - loss: 40.0016 - mae: 40.0016\n",
            "Epoch 71/100\n",
            "5/5 [==============================] - 0s 1ms/step - loss: 40.0913 - mae: 40.0913\n",
            "Epoch 72/100\n",
            "5/5 [==============================] - 0s 1ms/step - loss: 39.2547 - mae: 39.2547\n",
            "Epoch 73/100\n",
            "5/5 [==============================] - 0s 2ms/step - loss: 39.6828 - mae: 39.6828\n",
            "Epoch 74/100\n",
            "5/5 [==============================] - 0s 2ms/step - loss: 39.5373 - mae: 39.5373\n",
            "Epoch 75/100\n",
            "5/5 [==============================] - 0s 1ms/step - loss: 39.6266 - mae: 39.6266\n",
            "Epoch 76/100\n",
            "5/5 [==============================] - 0s 1ms/step - loss: 39.3110 - mae: 39.3110\n",
            "Epoch 77/100\n",
            "5/5 [==============================] - 0s 2ms/step - loss: 39.1599 - mae: 39.1599\n",
            "Epoch 78/100\n",
            "5/5 [==============================] - 0s 3ms/step - loss: 39.7550 - mae: 39.7550\n",
            "Epoch 79/100\n",
            "5/5 [==============================] - 0s 2ms/step - loss: 39.2542 - mae: 39.2542\n",
            "Epoch 80/100\n",
            "5/5 [==============================] - 0s 1ms/step - loss: 38.6968 - mae: 38.6968\n",
            "Epoch 81/100\n",
            "5/5 [==============================] - 0s 2ms/step - loss: 39.5442 - mae: 39.5442\n",
            "Epoch 82/100\n",
            "5/5 [==============================] - 0s 2ms/step - loss: 39.8686 - mae: 39.8686\n",
            "Epoch 83/100\n",
            "5/5 [==============================] - 0s 1ms/step - loss: 39.1693 - mae: 39.1693\n",
            "Epoch 84/100\n",
            "5/5 [==============================] - 0s 1ms/step - loss: 38.8840 - mae: 38.8840\n",
            "Epoch 85/100\n",
            "5/5 [==============================] - 0s 1ms/step - loss: 38.8887 - mae: 38.8887\n",
            "Epoch 86/100\n",
            "5/5 [==============================] - 0s 956us/step - loss: 38.6614 - mae: 38.6614\n",
            "Epoch 87/100\n",
            "5/5 [==============================] - 0s 2ms/step - loss: 38.8398 - mae: 38.8398\n",
            "Epoch 88/100\n",
            "5/5 [==============================] - 0s 1ms/step - loss: 38.6604 - mae: 38.6604\n",
            "Epoch 89/100\n",
            "5/5 [==============================] - 0s 1ms/step - loss: 38.7559 - mae: 38.7559\n",
            "Epoch 90/100\n",
            "5/5 [==============================] - 0s 1ms/step - loss: 38.5442 - mae: 38.5442\n",
            "Epoch 91/100\n",
            "5/5 [==============================] - 0s 1ms/step - loss: 38.3247 - mae: 38.3247\n",
            "Epoch 92/100\n",
            "5/5 [==============================] - 0s 1ms/step - loss: 38.8431 - mae: 38.8431\n",
            "Epoch 93/100\n",
            "5/5 [==============================] - 0s 1ms/step - loss: 39.1137 - mae: 39.1137\n",
            "Epoch 94/100\n",
            "5/5 [==============================] - 0s 2ms/step - loss: 38.1463 - mae: 38.1463\n",
            "Epoch 95/100\n",
            "5/5 [==============================] - 0s 1ms/step - loss: 38.3998 - mae: 38.3998\n",
            "Epoch 96/100\n",
            "5/5 [==============================] - 0s 1ms/step - loss: 38.5599 - mae: 38.5599\n",
            "Epoch 97/100\n",
            "5/5 [==============================] - 0s 1ms/step - loss: 38.1038 - mae: 38.1038\n",
            "Epoch 98/100\n",
            "5/5 [==============================] - 0s 1ms/step - loss: 39.0081 - mae: 39.0081\n",
            "Epoch 99/100\n",
            "5/5 [==============================] - 0s 1ms/step - loss: 38.3056 - mae: 38.3056\n",
            "Epoch 100/100\n",
            "5/5 [==============================] - 0s 1ms/step - loss: 37.9976 - mae: 37.9976\n"
          ]
        },
        {
          "data": {
            "text/plain": [
              "<keras.callbacks.History at 0x7f82a0746220>"
            ]
          },
          "execution_count": 75,
          "metadata": {},
          "output_type": "execute_result"
        }
      ],
      "source": [
        "# Setup random seed\n",
        "tf.random.set_seed(42)\n",
        "\n",
        "# Recreate the model\n",
        "model_3 = tf.keras.Sequential([\n",
        "  tf.keras.layers.Dense(100),\n",
        "  tf.keras.layers.Dense(10),\n",
        "  tf.keras.layers.Dense(1)\n",
        "])\n",
        "\n",
        "# Change the loss and metrics of our compiled model\n",
        "model_3.compile(loss=tf.keras.losses.mae, # change the loss function to be regression-specific\n",
        "                optimizer=tf.keras.optimizers.Adam(),\n",
        "                metrics=['mae']) # change the metric to be regression-specific\n",
        "\n",
        "# Fit the recompiled model\n",
        "model_3.fit(tf.expand_dims(X_reg_train, axis=-1), \n",
        "            y_reg_train, \n",
        "            epochs=100)"
      ]
    },
    {
      "cell_type": "markdown",
      "metadata": {
        "id": "FYHvt7fRWBUL"
      },
      "source": [
        "Okay, it seems like our model is learning something (the `mae` value trends down with each epoch), let's plot its predictions."
      ]
    },
    {
      "cell_type": "code",
      "execution_count": 111,
      "metadata": {
        "colab": {
          "base_uri": "https://localhost:8080/",
          "height": 428
        },
        "id": "qUf5DL_fWMZA",
        "outputId": "71d9e5d3-911f-4f0a-a385-5aa9dca9c1c0"
      },
      "outputs": [
        {
          "data": {
            "image/png": "[encoded data removed]",
            "text/plain": [
              "<Figure size 720x504 with 1 Axes>"
            ]
          },
          "metadata": {
            "needs_background": "light"
          },
          "output_type": "display_data"
        }
      ],
      "source": [
        "# Make predictions with our trained model\n",
        "y_reg_preds = model_3.predict(y_reg_test)\n",
        "\n",
        "# Plot the model's predictions against our regression data\n",
        "plt.figure(figsize=(10, 7))\n",
        "plt.scatter(X_reg_train, y_reg_train, c='b', label='Training data')\n",
        "plt.scatter(X_reg_test, y_reg_test, c='g', label='Testing data')\n",
        "plt.scatter(X_reg_test, y_reg_preds.squeeze(), c='r', label='Predictions')\n",
        "plt.legend();"
      ]
    },
    {
      "cell_type": "markdown",
      "metadata": {
        "id": "V-LGK_jQYUcA"
      },
      "source": [
        "Okay, the predictions aren't perfect (if the predictions were perfect, the red would line up with the green), but they look better than complete guessing.\n",
        "\n",
        "So this means our model must be learning something...\n",
        "\n",
        "There must be something we're missing out on for our classification problem."
      ]
    },
    {
      "cell_type": "markdown",
      "metadata": {
        "id": "RZqShArhUh6d"
      },
      "source": [
        "## The missing piece: Non-linearity\n",
        "\n",
        "Okay, so we saw our neural network can model straight lines (with ability a little bit better than guessing).\n",
        "\n",
        "What about non-straight (non-linear) lines?\n",
        "\n",
        "If we're going to model our classification data (the red and clue circles), we're going to need some non-linear lines.\n",
        "\n",
        "> 🔨 **Practice:** Before we get to the next steps, I'd encourage you to play around with the [TensorFlow Playground](https://playground.tensorflow.org/#activation=linear&batchSize=1&dataset=circle&regDataset=reg-plane&learningRate=0.01&regularizationRate=0&noise=0&networkShape=1&seed=0.09561&showTestData=false&discretize=false&percTrainData=70&x=true&y=true&xTimesY=false&xSquared=false&ySquared=false&cosX=false&sinX=false&cosY=false&sinY=false&collectStats=false&problem=classification&initZero=false&hideText=false&regularizationRate_hide=true&discretize_hide=true&regularization_hide=true&dataset_hide=true&noise_hide=true&batchSize_hide=true) (check out what the data has in common with our own classification data) for 10-minutes. In particular the tab which says \"activation\". Once you're done, come back.\n",
        "\n",
        "Did you try out the activation options? If so, what did you find?\n",
        "\n",
        "If you didn't, don't worry, let's see it in code.\n",
        "\n",
        "We're going to replicate the neural network you can see at this link: [TensorFlow Playground](https://playground.tensorflow.org/#activation=linear&batchSize=1&dataset=circle&regDataset=reg-plane&learningRate=0.01&regularizationRate=0&noise=0&networkShape=1&seed=0.09561&showTestData=false&discretize=false&percTrainData=70&x=true&y=true&xTimesY=false&xSquared=false&ySquared=false&cosX=false&sinX=false&cosY=false&sinY=false&collectStats=false&problem=classification&initZero=false&hideText=false&regularizationRate_hide=true&discretize_hide=true&regularization_hide=true&dataset_hide=true&noise_hide=true&batchSize_hide=true).\n",
        "\n",
        "![simple neural net created with TensorFlow playground](https://raw.githubusercontent.com/mrdbourke/tensorflow-deep-learning/main/images/02-tensorflow-playground-simple-net-linear-activation.png)\n",
        "*The neural network we're going to recreate with TensorFlow code. See it live at [TensorFlow Playground](https://playground.tensorflow.org/#activation=linear&batchSize=1&dataset=circle&regDataset=reg-plane&learningRate=0.01&regularizationRate=0&noise=0&networkShape=1&seed=0.09561&showTestData=false&discretize=false&percTrainData=70&x=true&y=true&xTimesY=false&xSquared=false&ySquared=false&cosX=false&sinX=false&cosY=false&sinY=false&collectStats=false&problem=classification&initZero=false&hideText=false&regularizationRate_hide=true&discretize_hide=true&regularization_hide=true&dataset_hide=true&noise_hide=true&batchSize_hide=true).*\n",
        "\n",
        "The main change we'll add to models we've built before is the use of the `activation` keyword.\n"
      ]
    },
    {
      "cell_type": "code",
      "execution_count": 77,
      "metadata": {
        "colab": {
          "base_uri": "https://localhost:8080/"
        },
        "id": "p54Sk5WeYue9",
        "outputId": "edf601e2-39b8-4267-9a1d-18cbb6d9bc67"
      },
      "outputs": [
        {
          "name": "stdout",
          "output_type": "stream",
          "text": [
            "Epoch 1/100\n"
          ]
        },
        {
          "name": "stderr",
          "output_type": "stream",
          "text": [
            "/home/ahsan/anaconda3/envs/venv/lib/python3.9/site-packages/keras/optimizer_v2/adam.py:105: UserWarning: The `lr` argument is deprecated, use `learning_rate` instead.\n",
            "  super(Adam, self).__init__(name, **kwargs)\n"
          ]
        },
        {
          "name": "stdout",
          "output_type": "stream",
          "text": [
            "32/32 [==============================] - 0s 864us/step - loss: 4.2380 - accuracy: 0.5000\n",
            "Epoch 2/100\n",
            "32/32 [==============================] - 0s 740us/step - loss: 4.0223 - accuracy: 0.5000\n",
            "Epoch 3/100\n",
            "32/32 [==============================] - 0s 833us/step - loss: 3.8296 - accuracy: 0.5000\n",
            "Epoch 4/100\n",
            "32/32 [==============================] - 0s 839us/step - loss: 3.7654 - accuracy: 0.5000\n",
            "Epoch 5/100\n",
            "32/32 [==============================] - 0s 897us/step - loss: 3.6464 - accuracy: 0.5000\n",
            "Epoch 6/100\n",
            "32/32 [==============================] - 0s 936us/step - loss: 3.4960 - accuracy: 0.5000\n",
            "Epoch 7/100\n",
            "32/32 [==============================] - 0s 757us/step - loss: 3.3803 - accuracy: 0.5000\n",
            "Epoch 8/100\n",
            "32/32 [==============================] - 0s 747us/step - loss: 3.2273 - accuracy: 0.5000\n",
            "Epoch 9/100\n",
            "32/32 [==============================] - 0s 733us/step - loss: 2.8035 - accuracy: 0.5000\n",
            "Epoch 10/100\n",
            "32/32 [==============================] - 0s 825us/step - loss: 2.5701 - accuracy: 0.5000\n",
            "Epoch 11/100\n",
            "32/32 [==============================] - 0s 950us/step - loss: 2.3412 - accuracy: 0.5000\n",
            "Epoch 12/100\n",
            "32/32 [==============================] - 0s 1ms/step - loss: 1.8038 - accuracy: 0.5000\n",
            "Epoch 13/100\n",
            "32/32 [==============================] - 0s 1ms/step - loss: 1.1025 - accuracy: 0.5000\n",
            "Epoch 14/100\n",
            "32/32 [==============================] - 0s 1ms/step - loss: 1.0152 - accuracy: 0.5000\n",
            "Epoch 15/100\n",
            "32/32 [==============================] - 0s 1ms/step - loss: 0.9831 - accuracy: 0.5000\n",
            "Epoch 16/100\n",
            "32/32 [==============================] - 0s 776us/step - loss: 0.9608 - accuracy: 0.5000\n",
            "Epoch 17/100\n",
            "32/32 [==============================] - 0s 980us/step - loss: 0.9423 - accuracy: 0.5000\n",
            "Epoch 18/100\n",
            "32/32 [==============================] - 0s 1ms/step - loss: 0.9265 - accuracy: 0.5000\n",
            "Epoch 19/100\n",
            "32/32 [==============================] - 0s 1ms/step - loss: 0.9130 - accuracy: 0.5000\n",
            "Epoch 20/100\n",
            "32/32 [==============================] - 0s 1ms/step - loss: 0.9005 - accuracy: 0.5000\n",
            "Epoch 21/100\n",
            "32/32 [==============================] - 0s 1ms/step - loss: 0.8897 - accuracy: 0.5000\n",
            "Epoch 22/100\n",
            "32/32 [==============================] - 0s 940us/step - loss: 0.8793 - accuracy: 0.5000\n",
            "Epoch 23/100\n",
            "32/32 [==============================] - 0s 1ms/step - loss: 0.8701 - accuracy: 0.5000\n",
            "Epoch 24/100\n",
            "32/32 [==============================] - 0s 1ms/step - loss: 0.8615 - accuracy: 0.5000\n",
            "Epoch 25/100\n",
            "32/32 [==============================] - 0s 949us/step - loss: 0.8537 - accuracy: 0.5000\n",
            "Epoch 26/100\n",
            "32/32 [==============================] - 0s 1ms/step - loss: 0.8460 - accuracy: 0.4960\n",
            "Epoch 27/100\n",
            "32/32 [==============================] - 0s 936us/step - loss: 0.8390 - accuracy: 0.4920\n",
            "Epoch 28/100\n",
            "32/32 [==============================] - 0s 1ms/step - loss: 0.8322 - accuracy: 0.4820\n",
            "Epoch 29/100\n",
            "32/32 [==============================] - 0s 972us/step - loss: 0.8259 - accuracy: 0.4730\n",
            "Epoch 30/100\n",
            "32/32 [==============================] - 0s 1ms/step - loss: 0.8199 - accuracy: 0.4670\n",
            "Epoch 31/100\n",
            "32/32 [==============================] - 0s 1ms/step - loss: 0.8142 - accuracy: 0.4520\n",
            "Epoch 32/100\n",
            "32/32 [==============================] - 0s 1ms/step - loss: 0.8086 - accuracy: 0.4450\n",
            "Epoch 33/100\n",
            "32/32 [==============================] - 0s 1ms/step - loss: 0.8036 - accuracy: 0.4360\n",
            "Epoch 34/100\n",
            "32/32 [==============================] - 0s 1ms/step - loss: 0.7988 - accuracy: 0.4320\n",
            "Epoch 35/100\n",
            "32/32 [==============================] - 0s 1ms/step - loss: 0.7942 - accuracy: 0.4250\n",
            "Epoch 36/100\n",
            "32/32 [==============================] - 0s 810us/step - loss: 0.7897 - accuracy: 0.4240\n",
            "Epoch 37/100\n",
            "32/32 [==============================] - 0s 1ms/step - loss: 0.7856 - accuracy: 0.4140\n",
            "Epoch 38/100\n",
            "32/32 [==============================] - 0s 955us/step - loss: 0.7817 - accuracy: 0.4110\n",
            "Epoch 39/100\n",
            "32/32 [==============================] - 0s 902us/step - loss: 0.7779 - accuracy: 0.4150\n",
            "Epoch 40/100\n",
            "32/32 [==============================] - 0s 831us/step - loss: 0.7743 - accuracy: 0.4180\n",
            "Epoch 41/100\n",
            "32/32 [==============================] - 0s 1ms/step - loss: 0.7708 - accuracy: 0.4300\n",
            "Epoch 42/100\n",
            "32/32 [==============================] - 0s 1ms/step - loss: 0.7674 - accuracy: 0.4340\n",
            "Epoch 43/100\n",
            "32/32 [==============================] - 0s 1ms/step - loss: 0.7641 - accuracy: 0.4520\n",
            "Epoch 44/100\n",
            "32/32 [==============================] - 0s 1ms/step - loss: 0.7612 - accuracy: 0.4570\n",
            "Epoch 45/100\n",
            "32/32 [==============================] - 0s 1ms/step - loss: 0.7583 - accuracy: 0.4570\n",
            "Epoch 46/100\n",
            "32/32 [==============================] - 0s 1ms/step - loss: 0.7556 - accuracy: 0.4570\n",
            "Epoch 47/100\n",
            "32/32 [==============================] - 0s 931us/step - loss: 0.7531 - accuracy: 0.4550\n",
            "Epoch 48/100\n",
            "32/32 [==============================] - 0s 902us/step - loss: 0.7505 - accuracy: 0.4580\n",
            "Epoch 49/100\n",
            "32/32 [==============================] - 0s 877us/step - loss: 0.7481 - accuracy: 0.4650\n",
            "Epoch 50/100\n",
            "32/32 [==============================] - 0s 864us/step - loss: 0.7458 - accuracy: 0.4650\n",
            "Epoch 51/100\n",
            "32/32 [==============================] - 0s 1ms/step - loss: 0.7435 - accuracy: 0.4610\n",
            "Epoch 52/100\n",
            "32/32 [==============================] - 0s 1ms/step - loss: 0.7416 - accuracy: 0.4650\n",
            "Epoch 53/100\n",
            "32/32 [==============================] - 0s 1ms/step - loss: 0.7395 - accuracy: 0.4680\n",
            "Epoch 54/100\n",
            "32/32 [==============================] - 0s 1ms/step - loss: 0.7376 - accuracy: 0.4690\n",
            "Epoch 55/100\n",
            "32/32 [==============================] - 0s 1ms/step - loss: 0.7358 - accuracy: 0.4700\n",
            "Epoch 56/100\n",
            "32/32 [==============================] - 0s 1ms/step - loss: 0.7340 - accuracy: 0.4670\n",
            "Epoch 57/100\n",
            "32/32 [==============================] - 0s 1ms/step - loss: 0.7323 - accuracy: 0.4720\n",
            "Epoch 58/100\n",
            "32/32 [==============================] - 0s 1ms/step - loss: 0.7308 - accuracy: 0.4740\n",
            "Epoch 59/100\n",
            "32/32 [==============================] - 0s 1ms/step - loss: 0.7293 - accuracy: 0.4760\n",
            "Epoch 60/100\n",
            "32/32 [==============================] - 0s 1ms/step - loss: 0.7279 - accuracy: 0.4780\n",
            "Epoch 61/100\n",
            "32/32 [==============================] - 0s 1ms/step - loss: 0.7266 - accuracy: 0.4790\n",
            "Epoch 62/100\n",
            "32/32 [==============================] - 0s 1ms/step - loss: 0.7254 - accuracy: 0.4760\n",
            "Epoch 63/100\n",
            "32/32 [==============================] - 0s 848us/step - loss: 0.7240 - accuracy: 0.4790\n",
            "Epoch 64/100\n",
            "32/32 [==============================] - 0s 1ms/step - loss: 0.7229 - accuracy: 0.4810\n",
            "Epoch 65/100\n",
            "32/32 [==============================] - 0s 768us/step - loss: 0.7218 - accuracy: 0.4800\n",
            "Epoch 66/100\n",
            "32/32 [==============================] - 0s 1ms/step - loss: 0.7207 - accuracy: 0.4800\n",
            "Epoch 67/100\n",
            "32/32 [==============================] - 0s 1ms/step - loss: 0.7197 - accuracy: 0.4820\n",
            "Epoch 68/100\n",
            "32/32 [==============================] - 0s 894us/step - loss: 0.7187 - accuracy: 0.4840\n",
            "Epoch 69/100\n",
            "32/32 [==============================] - 0s 1ms/step - loss: 0.7177 - accuracy: 0.4860\n",
            "Epoch 70/100\n",
            "32/32 [==============================] - 0s 1ms/step - loss: 0.7168 - accuracy: 0.4850\n",
            "Epoch 71/100\n",
            "32/32 [==============================] - 0s 885us/step - loss: 0.7158 - accuracy: 0.4890\n",
            "Epoch 72/100\n",
            "32/32 [==============================] - 0s 798us/step - loss: 0.7150 - accuracy: 0.4890\n",
            "Epoch 73/100\n",
            "32/32 [==============================] - 0s 798us/step - loss: 0.7141 - accuracy: 0.4890\n",
            "Epoch 74/100\n",
            "32/32 [==============================] - 0s 827us/step - loss: 0.7133 - accuracy: 0.4900\n",
            "Epoch 75/100\n",
            "32/32 [==============================] - 0s 738us/step - loss: 0.7126 - accuracy: 0.4920\n",
            "Epoch 76/100\n",
            "32/32 [==============================] - 0s 1ms/step - loss: 0.7119 - accuracy: 0.4910\n",
            "Epoch 77/100\n",
            "32/32 [==============================] - 0s 990us/step - loss: 0.7112 - accuracy: 0.4900\n",
            "Epoch 78/100\n",
            "32/32 [==============================] - 0s 864us/step - loss: 0.7105 - accuracy: 0.4910\n",
            "Epoch 79/100\n",
            "32/32 [==============================] - 0s 790us/step - loss: 0.7098 - accuracy: 0.4900\n",
            "Epoch 80/100\n",
            "32/32 [==============================] - 0s 778us/step - loss: 0.7092 - accuracy: 0.4890\n",
            "Epoch 81/100\n",
            "32/32 [==============================] - 0s 885us/step - loss: 0.7086 - accuracy: 0.4860\n",
            "Epoch 82/100\n",
            "32/32 [==============================] - 0s 1ms/step - loss: 0.7080 - accuracy: 0.4860\n",
            "Epoch 83/100\n",
            "32/32 [==============================] - 0s 1ms/step - loss: 0.7075 - accuracy: 0.4880\n",
            "Epoch 84/100\n",
            "32/32 [==============================] - 0s 838us/step - loss: 0.7069 - accuracy: 0.4880\n",
            "Epoch 85/100\n",
            "32/32 [==============================] - 0s 832us/step - loss: 0.7064 - accuracy: 0.4860\n",
            "Epoch 86/100\n",
            "32/32 [==============================] - 0s 943us/step - loss: 0.7059 - accuracy: 0.4880\n",
            "Epoch 87/100\n",
            "32/32 [==============================] - 0s 819us/step - loss: 0.7055 - accuracy: 0.4900\n",
            "Epoch 88/100\n",
            "32/32 [==============================] - 0s 755us/step - loss: 0.7050 - accuracy: 0.4880\n",
            "Epoch 89/100\n",
            "32/32 [==============================] - 0s 771us/step - loss: 0.7046 - accuracy: 0.4870\n",
            "Epoch 90/100\n",
            "32/32 [==============================] - 0s 925us/step - loss: 0.7042 - accuracy: 0.4890\n",
            "Epoch 91/100\n",
            "32/32 [==============================] - 0s 1ms/step - loss: 0.7037 - accuracy: 0.4880\n",
            "Epoch 92/100\n",
            "32/32 [==============================] - 0s 1ms/step - loss: 0.7034 - accuracy: 0.4930\n",
            "Epoch 93/100\n",
            "32/32 [==============================] - 0s 1ms/step - loss: 0.7030 - accuracy: 0.4910\n",
            "Epoch 94/100\n",
            "32/32 [==============================] - 0s 1ms/step - loss: 0.7026 - accuracy: 0.4930\n",
            "Epoch 95/100\n",
            "32/32 [==============================] - 0s 940us/step - loss: 0.7022 - accuracy: 0.4930\n",
            "Epoch 96/100\n",
            "32/32 [==============================] - 0s 949us/step - loss: 0.7019 - accuracy: 0.4930\n",
            "Epoch 97/100\n",
            "32/32 [==============================] - 0s 1ms/step - loss: 0.7016 - accuracy: 0.4940\n",
            "Epoch 98/100\n",
            "32/32 [==============================] - 0s 817us/step - loss: 0.7012 - accuracy: 0.4940\n",
            "Epoch 99/100\n",
            "32/32 [==============================] - 0s 1ms/step - loss: 0.7009 - accuracy: 0.4930\n",
            "Epoch 100/100\n",
            "32/32 [==============================] - 0s 1ms/step - loss: 0.7005 - accuracy: 0.4930\n"
          ]
        }
      ],
      "source": [
        "# Set the random seed\n",
        "tf.random.set_seed(42)\n",
        "\n",
        "# Create the model\n",
        "model_4 = tf.keras.Sequential([\n",
        "  tf.keras.layers.Dense(1, activation=tf.keras.activations.linear), # 1 hidden layer with linear activation\n",
        "  tf.keras.layers.Dense(1) # output layer\n",
        "])\n",
        "\n",
        "# Compile the model\n",
        "model_4.compile(loss=tf.keras.losses.binary_crossentropy,\n",
        "                optimizer=tf.keras.optimizers.Adam(lr=0.001), # \"lr\" is short for \"learning rate\"\n",
        "                metrics=[\"accuracy\"])\n",
        "\n",
        "# Fit the model\n",
        "history = model_4.fit(X, y, epochs=100)"
      ]
    },
    {
      "cell_type": "markdown",
      "metadata": {
        "id": "TTNzKBvwf2uJ"
      },
      "source": [
        "Okay, our model performs a little worse than guessing.\n",
        "\n",
        "Let's remind ourselves what our data looks like."
      ]
    },
    {
      "cell_type": "code",
      "execution_count": 78,
      "metadata": {
        "colab": {
          "base_uri": "https://localhost:8080/",
          "height": 265
        },
        "id": "RcwI7-s1f2a4",
        "outputId": "d2e872d4-066c-445f-fa4b-25198111127c"
      },
      "outputs": [
        {
          "data": {
            "image/png": "[encoded data removed]",
            "text/plain": [
              "<Figure size 432x288 with 1 Axes>"
            ]
          },
          "metadata": {
            "needs_background": "light"
          },
          "output_type": "display_data"
        }
      ],
      "source": [
        "# Check out our data\n",
        "plt.scatter(X[:, 0], X[:, 1], c=y, cmap=plt.cm.RdYlBu);"
      ]
    },
    {
      "cell_type": "markdown",
      "metadata": {
        "id": "EmuUVtenj-tC"
      },
      "source": [
        "And let's see how our model is making predictions on it."
      ]
    },
    {
      "cell_type": "code",
      "execution_count": 79,
      "metadata": {
        "colab": {
          "base_uri": "https://localhost:8080/",
          "height": 282
        },
        "id": "_vFgOI88itVD",
        "outputId": "5e26feb8-c909-4a25-aa3d-3e5ab02f21f0"
      },
      "outputs": [
        {
          "name": "stdout",
          "output_type": "stream",
          "text": [
            "doing binary classifcation...\n"
          ]
        },
        {
          "data": {
            "image/png": "[encoded data removed]",
            "text/plain": [
              "<Figure size 432x288 with 1 Axes>"
            ]
          },
          "metadata": {
            "needs_background": "light"
          },
          "output_type": "display_data"
        }
      ],
      "source": [
        "# Check the deicison boundary (blue is blue class, yellow is the crossover, red is red class)\n",
        "plot_decision_boundary(model_4, X, y)"
      ]
    },
    {
      "cell_type": "markdown",
      "metadata": {
        "id": "XgNyVx3XkG4K"
      },
      "source": [
        "Well, it looks like we're getting a straight (linear) line prediction again. \n",
        "\n",
        "But our data is non-linear (not a straight line)...\n",
        "\n",
        "What we're going to have to do is add some non-linearity to our model.\n",
        "\n",
        "To do so, we'll use the `activation` parameter in on of our layers."
      ]
    },
    {
      "cell_type": "code",
      "execution_count": 80,
      "metadata": {
        "colab": {
          "base_uri": "https://localhost:8080/"
        },
        "id": "utJIUKmHkbyV",
        "outputId": "36a8c16c-ae8d-4141-9ab9-d9d2e62bc1ba"
      },
      "outputs": [
        {
          "name": "stdout",
          "output_type": "stream",
          "text": [
            "Epoch 1/100\n",
            "32/32 [==============================] - 0s 832us/step - loss: 1.8377 - accuracy: 0.5000\n",
            "Epoch 2/100\n",
            "32/32 [==============================] - 0s 940us/step - loss: 1.4449 - accuracy: 0.5000\n",
            "Epoch 3/100\n",
            "32/32 [==============================] - 0s 891us/step - loss: 1.3410 - accuracy: 0.5000\n",
            "Epoch 4/100\n",
            "32/32 [==============================] - 0s 730us/step - loss: 1.2678 - accuracy: 0.4770\n",
            "Epoch 5/100\n",
            "32/32 [==============================] - 0s 742us/step - loss: 1.2116 - accuracy: 0.4390\n",
            "Epoch 6/100\n",
            "32/32 [==============================] - 0s 909us/step - loss: 1.1664 - accuracy: 0.4180\n",
            "Epoch 7/100\n",
            "32/32 [==============================] - 0s 1ms/step - loss: 1.1294 - accuracy: 0.4250\n",
            "Epoch 8/100\n",
            "32/32 [==============================] - 0s 858us/step - loss: 1.0970 - accuracy: 0.4420\n",
            "Epoch 9/100\n",
            "32/32 [==============================] - 0s 702us/step - loss: 1.0670 - accuracy: 0.4540\n",
            "Epoch 10/100\n",
            "32/32 [==============================] - 0s 923us/step - loss: 1.0407 - accuracy: 0.4550\n",
            "Epoch 11/100\n",
            "32/32 [==============================] - 0s 1ms/step - loss: 1.0147 - accuracy: 0.4600\n",
            "Epoch 12/100\n",
            "32/32 [==============================] - 0s 970us/step - loss: 0.9872 - accuracy: 0.4630\n",
            "Epoch 13/100\n",
            "32/32 [==============================] - 0s 737us/step - loss: 0.9579 - accuracy: 0.4620\n",
            "Epoch 14/100\n",
            "32/32 [==============================] - 0s 726us/step - loss: 0.9201 - accuracy: 0.4660\n",
            "Epoch 15/100\n",
            "32/32 [==============================] - 0s 1ms/step - loss: 0.8514 - accuracy: 0.4660\n",
            "Epoch 16/100\n",
            "32/32 [==============================] - 0s 1ms/step - loss: 0.7888 - accuracy: 0.4720\n",
            "Epoch 17/100\n",
            "32/32 [==============================] - 0s 1ms/step - loss: 0.7580 - accuracy: 0.4740\n",
            "Epoch 18/100\n",
            "32/32 [==============================] - 0s 930us/step - loss: 0.7392 - accuracy: 0.4760\n",
            "Epoch 19/100\n",
            "32/32 [==============================] - 0s 808us/step - loss: 0.7273 - accuracy: 0.4850\n",
            "Epoch 20/100\n",
            "32/32 [==============================] - 0s 1ms/step - loss: 0.7180 - accuracy: 0.4870\n",
            "Epoch 21/100\n",
            "32/32 [==============================] - 0s 813us/step - loss: 0.7121 - accuracy: 0.4880\n",
            "Epoch 22/100\n",
            "32/32 [==============================] - 0s 740us/step - loss: 0.7070 - accuracy: 0.4880\n",
            "Epoch 23/100\n",
            "32/32 [==============================] - 0s 933us/step - loss: 0.7036 - accuracy: 0.4870\n",
            "Epoch 24/100\n",
            "32/32 [==============================] - 0s 867us/step - loss: 0.7011 - accuracy: 0.4900\n",
            "Epoch 25/100\n",
            "32/32 [==============================] - 0s 762us/step - loss: 0.6993 - accuracy: 0.4860\n",
            "Epoch 26/100\n",
            "32/32 [==============================] - 0s 761us/step - loss: 0.6977 - accuracy: 0.4910\n",
            "Epoch 27/100\n",
            "32/32 [==============================] - 0s 706us/step - loss: 0.6970 - accuracy: 0.4950\n",
            "Epoch 28/100\n",
            "32/32 [==============================] - 0s 836us/step - loss: 0.6959 - accuracy: 0.4970\n",
            "Epoch 29/100\n",
            "32/32 [==============================] - 0s 817us/step - loss: 0.6955 - accuracy: 0.4950\n",
            "Epoch 30/100\n",
            "32/32 [==============================] - 0s 1ms/step - loss: 0.6949 - accuracy: 0.4970\n",
            "Epoch 31/100\n",
            "32/32 [==============================] - 0s 758us/step - loss: 0.6946 - accuracy: 0.4990\n",
            "Epoch 32/100\n",
            "32/32 [==============================] - 0s 1ms/step - loss: 0.6943 - accuracy: 0.4910\n",
            "Epoch 33/100\n",
            "32/32 [==============================] - 0s 915us/step - loss: 0.6940 - accuracy: 0.5000\n",
            "Epoch 34/100\n",
            "32/32 [==============================] - 0s 936us/step - loss: 0.6939 - accuracy: 0.4910\n",
            "Epoch 35/100\n",
            "32/32 [==============================] - 0s 1ms/step - loss: 0.6937 - accuracy: 0.4940\n",
            "Epoch 36/100\n",
            "32/32 [==============================] - 0s 728us/step - loss: 0.6935 - accuracy: 0.4930\n",
            "Epoch 37/100\n",
            "32/32 [==============================] - 0s 810us/step - loss: 0.6934 - accuracy: 0.4950\n",
            "Epoch 38/100\n",
            "32/32 [==============================] - 0s 1ms/step - loss: 0.6935 - accuracy: 0.4900\n",
            "Epoch 39/100\n",
            "32/32 [==============================] - 0s 766us/step - loss: 0.6934 - accuracy: 0.4840\n",
            "Epoch 40/100\n",
            "32/32 [==============================] - 0s 974us/step - loss: 0.6935 - accuracy: 0.5000\n",
            "Epoch 41/100\n",
            "32/32 [==============================] - 0s 1ms/step - loss: 0.6936 - accuracy: 0.5060\n",
            "Epoch 42/100\n",
            "32/32 [==============================] - 0s 880us/step - loss: 0.6935 - accuracy: 0.4800\n",
            "Epoch 43/100\n",
            "32/32 [==============================] - 0s 851us/step - loss: 0.6933 - accuracy: 0.5050\n",
            "Epoch 44/100\n",
            "32/32 [==============================] - 0s 999us/step - loss: 0.6936 - accuracy: 0.4810\n",
            "Epoch 45/100\n",
            "32/32 [==============================] - 0s 750us/step - loss: 0.6933 - accuracy: 0.4550\n",
            "Epoch 46/100\n",
            "32/32 [==============================] - 0s 1ms/step - loss: 0.6932 - accuracy: 0.4920\n",
            "Epoch 47/100\n",
            "32/32 [==============================] - 0s 891us/step - loss: 0.6935 - accuracy: 0.4870\n",
            "Epoch 48/100\n",
            "32/32 [==============================] - 0s 805us/step - loss: 0.6934 - accuracy: 0.5100\n",
            "Epoch 49/100\n",
            "32/32 [==============================] - 0s 1ms/step - loss: 0.6934 - accuracy: 0.4770\n",
            "Epoch 50/100\n",
            "32/32 [==============================] - 0s 903us/step - loss: 0.6934 - accuracy: 0.5000\n",
            "Epoch 51/100\n",
            "32/32 [==============================] - 0s 1ms/step - loss: 0.6933 - accuracy: 0.4760\n",
            "Epoch 52/100\n",
            "32/32 [==============================] - 0s 1ms/step - loss: 0.6934 - accuracy: 0.5010\n",
            "Epoch 53/100\n",
            "32/32 [==============================] - 0s 746us/step - loss: 0.6935 - accuracy: 0.4880\n",
            "Epoch 54/100\n",
            "32/32 [==============================] - 0s 858us/step - loss: 0.6933 - accuracy: 0.5530\n",
            "Epoch 55/100\n",
            "32/32 [==============================] - 0s 727us/step - loss: 0.6935 - accuracy: 0.5060\n",
            "Epoch 56/100\n",
            "32/32 [==============================] - 0s 699us/step - loss: 0.6935 - accuracy: 0.5200\n",
            "Epoch 57/100\n",
            "32/32 [==============================] - 0s 754us/step - loss: 0.6933 - accuracy: 0.4910\n",
            "Epoch 58/100\n",
            "32/32 [==============================] - 0s 755us/step - loss: 0.6934 - accuracy: 0.4990\n",
            "Epoch 59/100\n",
            "32/32 [==============================] - 0s 642us/step - loss: 0.6938 - accuracy: 0.5000\n",
            "Epoch 60/100\n",
            "32/32 [==============================] - 0s 678us/step - loss: 0.6934 - accuracy: 0.5000\n",
            "Epoch 61/100\n",
            "32/32 [==============================] - 0s 657us/step - loss: 0.6935 - accuracy: 0.4900\n",
            "Epoch 62/100\n",
            "32/32 [==============================] - 0s 660us/step - loss: 0.6934 - accuracy: 0.4820\n",
            "Epoch 63/100\n",
            "32/32 [==============================] - 0s 755us/step - loss: 0.6933 - accuracy: 0.4700\n",
            "Epoch 64/100\n",
            "32/32 [==============================] - 0s 788us/step - loss: 0.6934 - accuracy: 0.4820\n",
            "Epoch 65/100\n",
            "32/32 [==============================] - 0s 808us/step - loss: 0.6934 - accuracy: 0.4620\n",
            "Epoch 66/100\n",
            "32/32 [==============================] - 0s 820us/step - loss: 0.6934 - accuracy: 0.4760\n",
            "Epoch 67/100\n",
            "32/32 [==============================] - 0s 706us/step - loss: 0.6934 - accuracy: 0.4830\n",
            "Epoch 68/100\n",
            "32/32 [==============================] - 0s 684us/step - loss: 0.6933 - accuracy: 0.4680\n",
            "Epoch 69/100\n",
            "32/32 [==============================] - 0s 739us/step - loss: 0.6933 - accuracy: 0.5010\n",
            "Epoch 70/100\n",
            "32/32 [==============================] - 0s 783us/step - loss: 0.6934 - accuracy: 0.4970\n",
            "Epoch 71/100\n",
            "32/32 [==============================] - 0s 772us/step - loss: 0.6933 - accuracy: 0.4680\n",
            "Epoch 72/100\n",
            "32/32 [==============================] - 0s 663us/step - loss: 0.6934 - accuracy: 0.5070\n",
            "Epoch 73/100\n",
            "32/32 [==============================] - 0s 697us/step - loss: 0.6934 - accuracy: 0.5320\n",
            "Epoch 74/100\n",
            "32/32 [==============================] - 0s 819us/step - loss: 0.6933 - accuracy: 0.5290\n",
            "Epoch 75/100\n",
            "32/32 [==============================] - 0s 739us/step - loss: 0.6935 - accuracy: 0.5000\n",
            "Epoch 76/100\n",
            "32/32 [==============================] - 0s 1ms/step - loss: 0.6935 - accuracy: 0.4730\n",
            "Epoch 77/100\n",
            "32/32 [==============================] - 0s 1ms/step - loss: 0.6935 - accuracy: 0.4870\n",
            "Epoch 78/100\n",
            "32/32 [==============================] - 0s 883us/step - loss: 0.6934 - accuracy: 0.4830\n",
            "Epoch 79/100\n",
            "32/32 [==============================] - 0s 928us/step - loss: 0.6935 - accuracy: 0.4640\n",
            "Epoch 80/100\n",
            "32/32 [==============================] - 0s 859us/step - loss: 0.6933 - accuracy: 0.5040\n",
            "Epoch 81/100\n",
            "32/32 [==============================] - 0s 806us/step - loss: 0.6936 - accuracy: 0.5000\n",
            "Epoch 82/100\n",
            "32/32 [==============================] - 0s 976us/step - loss: 0.6935 - accuracy: 0.5020\n",
            "Epoch 83/100\n",
            "32/32 [==============================] - 0s 889us/step - loss: 0.6936 - accuracy: 0.4840\n",
            "Epoch 84/100\n",
            "32/32 [==============================] - 0s 932us/step - loss: 0.6932 - accuracy: 0.5070\n",
            "Epoch 85/100\n",
            "32/32 [==============================] - 0s 739us/step - loss: 0.6933 - accuracy: 0.5000\n",
            "Epoch 86/100\n",
            "32/32 [==============================] - 0s 1ms/step - loss: 0.6935 - accuracy: 0.5000\n",
            "Epoch 87/100\n",
            "32/32 [==============================] - 0s 889us/step - loss: 0.6933 - accuracy: 0.5000\n",
            "Epoch 88/100\n",
            "32/32 [==============================] - 0s 1ms/step - loss: 0.6933 - accuracy: 0.4680\n",
            "Epoch 89/100\n",
            "32/32 [==============================] - 0s 919us/step - loss: 0.6934 - accuracy: 0.4590\n",
            "Epoch 90/100\n",
            "32/32 [==============================] - 0s 1ms/step - loss: 0.6937 - accuracy: 0.4980\n",
            "Epoch 91/100\n",
            "32/32 [==============================] - 0s 837us/step - loss: 0.6933 - accuracy: 0.4910\n",
            "Epoch 92/100\n",
            "32/32 [==============================] - 0s 808us/step - loss: 0.6935 - accuracy: 0.4850\n",
            "Epoch 93/100\n",
            "32/32 [==============================] - 0s 855us/step - loss: 0.6938 - accuracy: 0.4970\n",
            "Epoch 94/100\n",
            "32/32 [==============================] - 0s 1ms/step - loss: 0.6934 - accuracy: 0.4710\n",
            "Epoch 95/100\n",
            "32/32 [==============================] - 0s 1ms/step - loss: 0.6934 - accuracy: 0.4720\n",
            "Epoch 96/100\n",
            "32/32 [==============================] - 0s 831us/step - loss: 0.6934 - accuracy: 0.4880\n",
            "Epoch 97/100\n",
            "32/32 [==============================] - 0s 727us/step - loss: 0.6934 - accuracy: 0.4510\n",
            "Epoch 98/100\n",
            "32/32 [==============================] - 0s 771us/step - loss: 0.6934 - accuracy: 0.4640\n",
            "Epoch 99/100\n",
            "32/32 [==============================] - 0s 817us/step - loss: 0.6935 - accuracy: 0.4940\n",
            "Epoch 100/100\n",
            "32/32 [==============================] - 0s 733us/step - loss: 0.6936 - accuracy: 0.5180\n"
          ]
        }
      ],
      "source": [
        "# Set random seed\n",
        "tf.random.set_seed(42)\n",
        "\n",
        "# Create a model with a non-linear activation\n",
        "model_5 = tf.keras.Sequential([\n",
        "  tf.keras.layers.Dense(1, activation=tf.keras.activations.relu), # can also do activation='relu'\n",
        "  tf.keras.layers.Dense(1) # output layer \n",
        "])\n",
        "\n",
        "# Compile the model\n",
        "model_5.compile(loss=tf.keras.losses.binary_crossentropy,\n",
        "              optimizer=tf.keras.optimizers.Adam(),\n",
        "              metrics=[\"accuracy\"])\n",
        "\n",
        "# Fit the model\n",
        "history = model_5.fit(X, y, epochs=100)"
      ]
    },
    {
      "cell_type": "markdown",
      "metadata": {
        "id": "eW3l-KicgLW8"
      },
      "source": [
        "Hmm... still not learning...\n",
        "\n",
        "What we if increased the number of neurons and layers?\n",
        "\n",
        "Say, 2 hidden layers, with [ReLU](https://www.tensorflow.org/api_docs/python/tf/keras/activations/relu), pronounced \"rel-u\", (short for [rectified linear unit](https://machinelearningmastery.com/rectified-linear-activation-function-for-deep-learning-neural-networks/)), activation on the first one, and 4 neurons each?\n",
        "\n",
        "To see this network in action, check out the [TensorFlow Playground demo](https://playground.tensorflow.org/#activation=relu&batchSize=10&dataset=circle&regDataset=reg-plane&learningRate=0.001&regularizationRate=0&noise=0&networkShape=4,4&seed=0.93799&showTestData=false&discretize=false&percTrainData=50&x=true&y=true&xTimesY=false&xSquared=false&ySquared=false&cosX=false&sinX=false&cosY=false&sinY=false&collectStats=false&problem=classification&initZero=false&hideText=false&regularization_hide=true&regularizationRate_hide=true&batchSize_hide=true&dataset_hide=true).\n",
        "\n",
        "![multi-layer neural net created with TensorFlow playground](https://raw.githubusercontent.com/mrdbourke/tensorflow-deep-learning/main/images/02-tensorflow-playground-two-layer-net-relu-activation.png)\n",
        "*The neural network we're going to recreate with TensorFlow code. See it live at [TensorFlow Playground](https://playground.tensorflow.org/#activation=relu&batchSize=10&dataset=circle&regDataset=reg-plane&learningRate=0.001&regularizationRate=0&noise=0&networkShape=4,4&seed=0.93799&showTestData=false&discretize=false&percTrainData=50&x=true&y=true&xTimesY=false&xSquared=false&ySquared=false&cosX=false&sinX=false&cosY=false&sinY=false&collectStats=false&problem=classification&initZero=false&hideText=false&regularization_hide=true&regularizationRate_hide=true&batchSize_hide=true&dataset_hide=true).*\n",
        "\n",
        "Let's try."
      ]
    },
    {
      "cell_type": "code",
      "execution_count": 81,
      "metadata": {
        "colab": {
          "base_uri": "https://localhost:8080/"
        },
        "id": "yXxtQFHwlc9w",
        "outputId": "172c7045-0a97-4e83-f65a-d11d573bb9da"
      },
      "outputs": [
        {
          "name": "stdout",
          "output_type": "stream",
          "text": [
            "Epoch 1/100\n",
            "32/32 [==============================] - 0s 1ms/step - loss: 7.7125 - accuracy: 0.5000\n",
            "Epoch 2/100\n",
            "32/32 [==============================] - 0s 929us/step - loss: 7.7125 - accuracy: 0.5000\n",
            "Epoch 3/100\n",
            "32/32 [==============================] - 0s 869us/step - loss: 7.7125 - accuracy: 0.5000\n",
            "Epoch 4/100\n",
            "32/32 [==============================] - 0s 954us/step - loss: 7.7125 - accuracy: 0.5000\n",
            "Epoch 5/100\n",
            "32/32 [==============================] - 0s 1ms/step - loss: 7.7125 - accuracy: 0.5000\n",
            "Epoch 6/100\n",
            "32/32 [==============================] - 0s 1ms/step - loss: 7.7125 - accuracy: 0.5000\n",
            "Epoch 7/100\n",
            "32/32 [==============================] - 0s 1ms/step - loss: 7.7125 - accuracy: 0.5000\n",
            "Epoch 8/100\n",
            "32/32 [==============================] - 0s 1ms/step - loss: 7.7125 - accuracy: 0.5000\n",
            "Epoch 9/100\n",
            "32/32 [==============================] - 0s 1ms/step - loss: 7.7125 - accuracy: 0.5000\n",
            "Epoch 10/100\n",
            "32/32 [==============================] - 0s 1ms/step - loss: 7.7125 - accuracy: 0.5000\n",
            "Epoch 11/100\n",
            "32/32 [==============================] - 0s 874us/step - loss: 7.7125 - accuracy: 0.5000\n",
            "Epoch 12/100\n",
            "32/32 [==============================] - 0s 916us/step - loss: 7.7125 - accuracy: 0.5000\n",
            "Epoch 13/100\n",
            "32/32 [==============================] - 0s 910us/step - loss: 7.7125 - accuracy: 0.5000\n",
            "Epoch 14/100\n",
            "32/32 [==============================] - 0s 939us/step - loss: 7.7125 - accuracy: 0.5000\n",
            "Epoch 15/100\n",
            "32/32 [==============================] - 0s 932us/step - loss: 7.7125 - accuracy: 0.5000\n",
            "Epoch 16/100\n",
            "32/32 [==============================] - 0s 1ms/step - loss: 7.7125 - accuracy: 0.5000\n",
            "Epoch 17/100\n",
            "32/32 [==============================] - 0s 1ms/step - loss: 7.7125 - accuracy: 0.5000\n",
            "Epoch 18/100\n",
            "32/32 [==============================] - 0s 1ms/step - loss: 7.7125 - accuracy: 0.5000\n",
            "Epoch 19/100\n",
            "32/32 [==============================] - 0s 1ms/step - loss: 7.7125 - accuracy: 0.5000\n",
            "Epoch 20/100\n",
            "32/32 [==============================] - 0s 901us/step - loss: 7.7125 - accuracy: 0.5000\n",
            "Epoch 21/100\n",
            "32/32 [==============================] - 0s 831us/step - loss: 7.7125 - accuracy: 0.5000\n",
            "Epoch 22/100\n",
            "32/32 [==============================] - 0s 1ms/step - loss: 7.7125 - accuracy: 0.5000\n",
            "Epoch 23/100\n",
            "32/32 [==============================] - 0s 1ms/step - loss: 7.7125 - accuracy: 0.5000\n",
            "Epoch 24/100\n",
            "32/32 [==============================] - 0s 1ms/step - loss: 7.7125 - accuracy: 0.5000\n",
            "Epoch 25/100\n",
            "32/32 [==============================] - 0s 883us/step - loss: 7.7125 - accuracy: 0.5000\n",
            "Epoch 26/100\n",
            "32/32 [==============================] - 0s 1ms/step - loss: 7.7125 - accuracy: 0.5000\n",
            "Epoch 27/100\n",
            "32/32 [==============================] - 0s 1ms/step - loss: 7.7125 - accuracy: 0.5000\n",
            "Epoch 28/100\n",
            "32/32 [==============================] - 0s 1ms/step - loss: 7.7125 - accuracy: 0.5000\n",
            "Epoch 29/100\n",
            "32/32 [==============================] - 0s 842us/step - loss: 7.7125 - accuracy: 0.5000\n",
            "Epoch 30/100\n",
            "32/32 [==============================] - 0s 858us/step - loss: 7.7125 - accuracy: 0.5000\n",
            "Epoch 31/100\n",
            "32/32 [==============================] - 0s 1ms/step - loss: 7.7125 - accuracy: 0.5000\n",
            "Epoch 32/100\n",
            "32/32 [==============================] - 0s 1ms/step - loss: 7.7125 - accuracy: 0.5000\n",
            "Epoch 33/100\n",
            "32/32 [==============================] - 0s 1ms/step - loss: 7.7125 - accuracy: 0.5000\n",
            "Epoch 34/100\n",
            "32/32 [==============================] - 0s 1ms/step - loss: 7.7125 - accuracy: 0.5000\n",
            "Epoch 35/100\n",
            "32/32 [==============================] - 0s 906us/step - loss: 7.7125 - accuracy: 0.5000\n",
            "Epoch 36/100\n",
            "32/32 [==============================] - 0s 856us/step - loss: 7.7125 - accuracy: 0.5000\n",
            "Epoch 37/100\n",
            "32/32 [==============================] - 0s 840us/step - loss: 7.7125 - accuracy: 0.5000\n",
            "Epoch 38/100\n",
            "32/32 [==============================] - 0s 877us/step - loss: 7.7125 - accuracy: 0.5000\n",
            "Epoch 39/100\n",
            "32/32 [==============================] - 0s 1ms/step - loss: 7.7125 - accuracy: 0.5000\n",
            "Epoch 40/100\n",
            "32/32 [==============================] - 0s 976us/step - loss: 7.7125 - accuracy: 0.5000\n",
            "Epoch 41/100\n",
            "32/32 [==============================] - 0s 761us/step - loss: 7.7125 - accuracy: 0.5000\n",
            "Epoch 42/100\n",
            "32/32 [==============================] - 0s 899us/step - loss: 7.7125 - accuracy: 0.5000\n",
            "Epoch 43/100\n",
            "32/32 [==============================] - 0s 884us/step - loss: 7.7125 - accuracy: 0.5000\n",
            "Epoch 44/100\n",
            "32/32 [==============================] - 0s 851us/step - loss: 7.7125 - accuracy: 0.5000\n",
            "Epoch 45/100\n",
            "32/32 [==============================] - 0s 1ms/step - loss: 7.7125 - accuracy: 0.5000\n",
            "Epoch 46/100\n",
            "32/32 [==============================] - 0s 1ms/step - loss: 7.7125 - accuracy: 0.5000\n",
            "Epoch 47/100\n",
            "32/32 [==============================] - 0s 974us/step - loss: 7.7125 - accuracy: 0.5000\n",
            "Epoch 48/100\n",
            "32/32 [==============================] - 0s 850us/step - loss: 7.7125 - accuracy: 0.5000\n",
            "Epoch 49/100\n",
            "32/32 [==============================] - 0s 1ms/step - loss: 7.7125 - accuracy: 0.5000\n",
            "Epoch 50/100\n",
            "32/32 [==============================] - 0s 1ms/step - loss: 7.7125 - accuracy: 0.5000\n",
            "Epoch 51/100\n",
            "32/32 [==============================] - 0s 1ms/step - loss: 7.7125 - accuracy: 0.5000\n",
            "Epoch 52/100\n",
            "32/32 [==============================] - 0s 949us/step - loss: 7.7125 - accuracy: 0.5000\n",
            "Epoch 53/100\n",
            "32/32 [==============================] - 0s 858us/step - loss: 7.7125 - accuracy: 0.5000\n",
            "Epoch 54/100\n",
            "32/32 [==============================] - 0s 1ms/step - loss: 7.7125 - accuracy: 0.5000\n",
            "Epoch 55/100\n",
            "32/32 [==============================] - 0s 1ms/step - loss: 7.7125 - accuracy: 0.5000\n",
            "Epoch 56/100\n",
            "32/32 [==============================] - 0s 941us/step - loss: 7.7125 - accuracy: 0.5000\n",
            "Epoch 57/100\n",
            "32/32 [==============================] - 0s 1ms/step - loss: 7.7125 - accuracy: 0.5000\n",
            "Epoch 58/100\n",
            "32/32 [==============================] - 0s 1ms/step - loss: 7.7125 - accuracy: 0.5000\n",
            "Epoch 59/100\n",
            "32/32 [==============================] - 0s 915us/step - loss: 7.7125 - accuracy: 0.5000\n",
            "Epoch 60/100\n",
            "32/32 [==============================] - 0s 901us/step - loss: 7.7125 - accuracy: 0.5000\n",
            "Epoch 61/100\n",
            "32/32 [==============================] - 0s 902us/step - loss: 7.7125 - accuracy: 0.5000\n",
            "Epoch 62/100\n",
            "32/32 [==============================] - 0s 861us/step - loss: 7.7125 - accuracy: 0.5000\n",
            "Epoch 63/100\n",
            "32/32 [==============================] - 0s 895us/step - loss: 7.7125 - accuracy: 0.5000\n",
            "Epoch 64/100\n",
            "32/32 [==============================] - 0s 1ms/step - loss: 7.7125 - accuracy: 0.5000\n",
            "Epoch 65/100\n",
            "32/32 [==============================] - 0s 1ms/step - loss: 7.7125 - accuracy: 0.5000\n",
            "Epoch 66/100\n",
            "32/32 [==============================] - 0s 1ms/step - loss: 7.7125 - accuracy: 0.5000\n",
            "Epoch 67/100\n",
            "32/32 [==============================] - 0s 918us/step - loss: 7.7125 - accuracy: 0.5000\n",
            "Epoch 68/100\n",
            "32/32 [==============================] - 0s 886us/step - loss: 7.7125 - accuracy: 0.5000\n",
            "Epoch 69/100\n",
            "32/32 [==============================] - 0s 887us/step - loss: 7.7125 - accuracy: 0.5000\n",
            "Epoch 70/100\n",
            "32/32 [==============================] - 0s 857us/step - loss: 7.7125 - accuracy: 0.5000\n",
            "Epoch 71/100\n",
            "32/32 [==============================] - 0s 1ms/step - loss: 7.7125 - accuracy: 0.5000\n",
            "Epoch 72/100\n",
            "32/32 [==============================] - 0s 907us/step - loss: 7.7125 - accuracy: 0.5000\n",
            "Epoch 73/100\n",
            "32/32 [==============================] - 0s 825us/step - loss: 7.7125 - accuracy: 0.5000\n",
            "Epoch 74/100\n",
            "32/32 [==============================] - 0s 1ms/step - loss: 7.7125 - accuracy: 0.5000\n",
            "Epoch 75/100\n",
            "32/32 [==============================] - 0s 1ms/step - loss: 7.7125 - accuracy: 0.5000\n",
            "Epoch 76/100\n",
            "32/32 [==============================] - 0s 802us/step - loss: 7.7125 - accuracy: 0.5000\n",
            "Epoch 77/100\n",
            "32/32 [==============================] - 0s 848us/step - loss: 7.7125 - accuracy: 0.5000\n",
            "Epoch 78/100\n",
            "32/32 [==============================] - 0s 979us/step - loss: 7.7125 - accuracy: 0.5000\n",
            "Epoch 79/100\n",
            "32/32 [==============================] - 0s 1ms/step - loss: 7.7125 - accuracy: 0.5000\n",
            "Epoch 80/100\n",
            "32/32 [==============================] - 0s 1ms/step - loss: 7.7125 - accuracy: 0.5000\n",
            "Epoch 81/100\n",
            "32/32 [==============================] - 0s 1ms/step - loss: 7.7125 - accuracy: 0.5000\n",
            "Epoch 82/100\n",
            "32/32 [==============================] - 0s 897us/step - loss: 7.7125 - accuracy: 0.5000\n",
            "Epoch 83/100\n",
            "32/32 [==============================] - 0s 889us/step - loss: 7.7125 - accuracy: 0.5000\n",
            "Epoch 84/100\n",
            "32/32 [==============================] - 0s 1ms/step - loss: 7.7125 - accuracy: 0.5000\n",
            "Epoch 85/100\n",
            "32/32 [==============================] - 0s 887us/step - loss: 7.7125 - accuracy: 0.5000\n",
            "Epoch 86/100\n",
            "32/32 [==============================] - 0s 1ms/step - loss: 7.7125 - accuracy: 0.5000\n",
            "Epoch 87/100\n",
            "32/32 [==============================] - 0s 947us/step - loss: 7.7125 - accuracy: 0.5000\n",
            "Epoch 88/100\n",
            "32/32 [==============================] - 0s 1ms/step - loss: 7.7125 - accuracy: 0.5000\n",
            "Epoch 89/100\n",
            "32/32 [==============================] - 0s 1ms/step - loss: 7.7125 - accuracy: 0.5000\n",
            "Epoch 90/100\n",
            "32/32 [==============================] - 0s 916us/step - loss: 7.7125 - accuracy: 0.5000\n",
            "Epoch 91/100\n",
            "32/32 [==============================] - 0s 798us/step - loss: 7.7125 - accuracy: 0.5000\n",
            "Epoch 92/100\n",
            "32/32 [==============================] - 0s 809us/step - loss: 7.7125 - accuracy: 0.5000\n",
            "Epoch 93/100\n",
            "32/32 [==============================] - 0s 876us/step - loss: 7.7125 - accuracy: 0.5000\n",
            "Epoch 94/100\n",
            "32/32 [==============================] - 0s 976us/step - loss: 7.7125 - accuracy: 0.5000\n",
            "Epoch 95/100\n",
            "32/32 [==============================] - 0s 936us/step - loss: 7.7125 - accuracy: 0.5000\n",
            "Epoch 96/100\n",
            "32/32 [==============================] - 0s 1ms/step - loss: 7.7125 - accuracy: 0.5000\n",
            "Epoch 97/100\n",
            "32/32 [==============================] - 0s 849us/step - loss: 7.7125 - accuracy: 0.5000\n",
            "Epoch 98/100\n",
            "32/32 [==============================] - 0s 898us/step - loss: 7.7125 - accuracy: 0.5000\n",
            "Epoch 99/100\n",
            "32/32 [==============================] - 0s 794us/step - loss: 7.7125 - accuracy: 0.5000\n",
            "Epoch 100/100\n",
            "32/32 [==============================] - 0s 658us/step - loss: 7.7125 - accuracy: 0.5000\n"
          ]
        }
      ],
      "source": [
        "# Set random seed\n",
        "tf.random.set_seed(42)\n",
        "\n",
        "# Create a model\n",
        "model_6 = tf.keras.Sequential([\n",
        "  tf.keras.layers.Dense(4, activation=tf.keras.activations.relu), # hidden layer 1, 4 neurons, ReLU activation\n",
        "  tf.keras.layers.Dense(4, activation=tf.keras.activations.relu), # hidden layer 2, 4 neurons, ReLU activation\n",
        "  tf.keras.layers.Dense(1) # ouput layer\n",
        "])\n",
        "\n",
        "# Compile the model\n",
        "model_6.compile(loss=tf.keras.losses.binary_crossentropy,\n",
        "                optimizer=tf.keras.optimizers.Adam(lr=0.001), # Adam's default learning rate is 0.001\n",
        "                metrics=['accuracy'])\n",
        "\n",
        "# Fit the model\n",
        "history = model_6.fit(X, y, epochs=100)"
      ]
    },
    {
      "cell_type": "code",
      "execution_count": 82,
      "metadata": {
        "colab": {
          "base_uri": "https://localhost:8080/"
        },
        "id": "bJqimQ0UsiO5",
        "outputId": "b3819fc3-1051-4bd0-ce1e-ddba2212394c"
      },
      "outputs": [
        {
          "name": "stdout",
          "output_type": "stream",
          "text": [
            "32/32 [==============================] - 0s 671us/step - loss: 7.7125 - accuracy: 0.5000\n"
          ]
        },
        {
          "data": {
            "text/plain": [
              "[7.712474346160889, 0.5]"
            ]
          },
          "execution_count": 82,
          "metadata": {},
          "output_type": "execute_result"
        }
      ],
      "source": [
        "# Evaluate the model\n",
        "model_6.evaluate(X, y)"
      ]
    },
    {
      "cell_type": "markdown",
      "metadata": {
        "id": "Dh6l8egoc-Wr"
      },
      "source": [
        "We're still hitting 50% accuracy, our model is still practically as good as guessing.\n",
        "\n",
        "How do the predictions look?"
      ]
    },
    {
      "cell_type": "code",
      "execution_count": 83,
      "metadata": {
        "colab": {
          "base_uri": "https://localhost:8080/",
          "height": 282
        },
        "id": "OtmmuzJkcclw",
        "outputId": "449d721f-505f-4825-ed09-ec93723d0fec"
      },
      "outputs": [
        {
          "name": "stdout",
          "output_type": "stream",
          "text": [
            "doing binary classifcation...\n"
          ]
        },
        {
          "data": {
            "image/png": "[encoded data removed]",
            "text/plain": [
              "<Figure size 432x288 with 1 Axes>"
            ]
          },
          "metadata": {
            "needs_background": "light"
          },
          "output_type": "display_data"
        }
      ],
      "source": [
        "# Check out the predictions using 2 hidden layers\n",
        "plot_decision_boundary(model_6, X, y)"
      ]
    },
    {
      "cell_type": "markdown",
      "metadata": {
        "id": "q-hj-lAodLYU"
      },
      "source": [
        "What gives? \n",
        "\n",
        "It seems like our model is the same as the one in the [TensorFlow Playground](https://playground.tensorflow.org/#activation=relu&batchSize=10&dataset=circle&regDataset=reg-plane&learningRate=0.03&regularizationRate=0&noise=0&networkShape=4,4&seed=0.93799&showTestData=false&discretize=false&percTrainData=50&x=true&y=true&xTimesY=false&xSquared=false&ySquared=false&cosX=false&sinX=false&cosY=false&sinY=false&collectStats=false&problem=classification&initZero=false&hideText=false&regularization_hide=true&regularizationRate_hide=true&batchSize_hide=true) but model it's still drawing straight lines... \n",
        "\n",
        "Ideally, the yellow lines go on the inside of the red circle and the blue circle.\n",
        "\n",
        "Okay, okay, let's model this circle once and for all. \n",
        "\n",
        "One more model (I promise... actually, I'm going to have to break that promise... we'll be building plenty more models). \n",
        "\n",
        "This time we'll change the activation function on our output layer too. Remember the architecture of a classification model? For binary classification, the output layer activation is usually the [Sigmoid activation function](https://www.tensorflow.org/api_docs/python/tf/math/sigmoid)."
      ]
    },
    {
      "cell_type": "code",
      "execution_count": 84,
      "metadata": {
        "id": "zgyJ67E3corL"
      },
      "outputs": [],
      "source": [
        "# Set random seed\n",
        "tf.random.set_seed(42)\n",
        "\n",
        "# Create a model\n",
        "model_7 = tf.keras.Sequential([\n",
        "  tf.keras.layers.Dense(4, activation=tf.keras.activations.relu), # hidden layer 1, ReLU activation\n",
        "  tf.keras.layers.Dense(4, activation=tf.keras.activations.relu), # hidden layer 2, ReLU activation\n",
        "  tf.keras.layers.Dense(1, activation=tf.keras.activations.sigmoid) # ouput layer, sigmoid activation\n",
        "])\n",
        "\n",
        "# Compile the model\n",
        "model_7.compile(loss=tf.keras.losses.binary_crossentropy,\n",
        "                optimizer=tf.keras.optimizers.Adam(),\n",
        "                metrics=['accuracy'])\n",
        "\n",
        "# Fit the model\n",
        "history = model_7.fit(X, y, epochs=100, verbose=0)"
      ]
    },
    {
      "cell_type": "code",
      "execution_count": 85,
      "metadata": {
        "colab": {
          "base_uri": "https://localhost:8080/"
        },
        "id": "e5wpRgBVtSRK",
        "outputId": "d85f0c5f-1ba0-4517-93f2-d666f14a333e"
      },
      "outputs": [
        {
          "name": "stdout",
          "output_type": "stream",
          "text": [
            "32/32 [==============================] - 0s 695us/step - loss: 0.2948 - accuracy: 0.9910\n"
          ]
        },
        {
          "data": {
            "text/plain": [
              "[0.2948004901409149, 0.9909999966621399]"
            ]
          },
          "execution_count": 85,
          "metadata": {},
          "output_type": "execute_result"
        }
      ],
      "source": [
        "# Evaluate our model\n",
        "model_7.evaluate(X, y)"
      ]
    },
    {
      "cell_type": "markdown",
      "metadata": {
        "id": "XsB0aZ42eIS2"
      },
      "source": [
        "Woah! It looks like our model is getting some incredible results, let's check them out."
      ]
    },
    {
      "cell_type": "code",
      "execution_count": 86,
      "metadata": {
        "colab": {
          "base_uri": "https://localhost:8080/",
          "height": 282
        },
        "id": "zSoLyVMmczP4",
        "outputId": "62d003e6-0cf7-4c3f-80ca-e195dbbc676e"
      },
      "outputs": [
        {
          "name": "stdout",
          "output_type": "stream",
          "text": [
            "doing binary classifcation...\n"
          ]
        },
        {
          "data": {
            "image/png": "[encoded data removed]",
            "text/plain": [
              "<Figure size 432x288 with 1 Axes>"
            ]
          },
          "metadata": {
            "needs_background": "light"
          },
          "output_type": "display_data"
        }
      ],
      "source": [
        "# View the predictions of the model with relu and sigmoid activations\n",
        "plot_decision_boundary(model_7, X, y)"
      ]
    },
    {
      "cell_type": "markdown",
      "metadata": {
        "id": "zKR2JO4PeTie"
      },
      "source": [
        "Nice! It looks like our model is almost perfectly (apart from a few examples) separating the two circles.\n",
        "\n",
        "> 🤔 **Question:** What's wrong with the predictions we've made? Are we really evaluating our model correctly here? Hint: what data did the model learn on and what did we predict on?\n",
        "\n",
        "Before we answer that, it's important to recognize what we've just covered.\n",
        "\n",
        "> 🔑 **Note:** The combination of **linear (straight lines) and non-linear (non-straight lines) functions** is one of the key fundamentals of neural networks.\n",
        "\n",
        "Think of it like this:\n",
        "\n",
        "If I gave you an unlimited amount of straight lines and non-straight lines, what kind of patterns could you draw?\n",
        "\n",
        "That's essentially what neural networks do to find patterns in data.\n",
        "\n",
        "Now you might be thinking, \"but I haven't seen a linear function or a non-linear function before...\"\n",
        "\n",
        "Oh but you have.\n",
        "\n",
        "We've been using them the whole time.\n",
        "\n",
        "They're what power the layers in the models we just built.\n",
        "\n",
        "To get some intuition about the activation functions we've just used, let's create them and then try them on some toy data."
      ]
    },
    {
      "cell_type": "code",
      "execution_count": 87,
      "metadata": {
        "colab": {
          "base_uri": "https://localhost:8080/"
        },
        "id": "qm-b9aoemQ8A",
        "outputId": "7aaec8df-7764-432a-c4d1-61d46c15278e"
      },
      "outputs": [
        {
          "data": {
            "text/plain": [
              "<tf.Tensor: shape=(20,), dtype=float32, numpy=\n",
              "array([-10.,  -9.,  -8.,  -7.,  -6.,  -5.,  -4.,  -3.,  -2.,  -1.,   0.,\n",
              "         1.,   2.,   3.,   4.,   5.,   6.,   7.,   8.,   9.],\n",
              "      dtype=float32)>"
            ]
          },
          "execution_count": 87,
          "metadata": {},
          "output_type": "execute_result"
        }
      ],
      "source": [
        "# Create a toy tensor (similar to the data we pass into our model)\n",
        "A = tf.cast(tf.range(-10, 10), tf.float32)\n",
        "A"
      ]
    },
    {
      "cell_type": "markdown",
      "metadata": {
        "id": "Ti67IeWI9vnP"
      },
      "source": [
        "How does this look?\n",
        "\n"
      ]
    },
    {
      "cell_type": "code",
      "execution_count": 88,
      "metadata": {
        "colab": {
          "base_uri": "https://localhost:8080/",
          "height": 265
        },
        "id": "mYWO_14e-Pf8",
        "outputId": "cbe19802-0817-476d-8d6a-071f0ee6a3db"
      },
      "outputs": [
        {
          "data": {
            "image/png": "[encoded data removed]",
            "text/plain": [
              "<Figure size 432x288 with 1 Axes>"
            ]
          },
          "metadata": {
            "needs_background": "light"
          },
          "output_type": "display_data"
        }
      ],
      "source": [
        "# Visualize our toy tensor\n",
        "plt.plot(A);"
      ]
    },
    {
      "cell_type": "markdown",
      "metadata": {
        "id": "5f9qOgTb-O7L"
      },
      "source": [
        "A straight (linear) line!\n",
        "\n",
        "Nice, now let's recreate the [sigmoid function](https://en.wikipedia.org/wiki/Sigmoid_function) and see what it does to our data. You can also find a pre-built sigmoid function at [`tf.keras.activations.sigmoid`](https://www.tensorflow.org/api_docs/python/tf/keras/activations/sigmoid)."
      ]
    },
    {
      "cell_type": "code",
      "execution_count": 89,
      "metadata": {
        "colab": {
          "base_uri": "https://localhost:8080/"
        },
        "id": "corG975yiwAP",
        "outputId": "badac68e-6b6d-4f48-bf31-3465b946648e"
      },
      "outputs": [
        {
          "data": {
            "text/plain": [
              "<tf.Tensor: shape=(20,), dtype=float32, numpy=\n",
              "array([4.5397872e-05, 1.2339458e-04, 3.3535014e-04, 9.1105117e-04,\n",
              "       2.4726233e-03, 6.6928510e-03, 1.7986210e-02, 4.7425874e-02,\n",
              "       1.1920292e-01, 2.6894143e-01, 5.0000000e-01, 7.3105860e-01,\n",
              "       8.8079703e-01, 9.5257413e-01, 9.8201376e-01, 9.9330717e-01,\n",
              "       9.9752742e-01, 9.9908900e-01, 9.9966466e-01, 9.9987662e-01],\n",
              "      dtype=float32)>"
            ]
          },
          "execution_count": 89,
          "metadata": {},
          "output_type": "execute_result"
        }
      ],
      "source": [
        "# Sigmoid - https://www.tensorflow.org/api_docs/python/tf/keras/activations/sigmoid\n",
        "def sigmoid(x):\n",
        "  return 1 / (1 + tf.exp(-x))\n",
        "\n",
        "# Use the sigmoid function on our tensor\n",
        "sigmoid(A)"
      ]
    },
    {
      "cell_type": "markdown",
      "metadata": {
        "id": "3EpZb0F6-cn7"
      },
      "source": [
        "And how does it look?"
      ]
    },
    {
      "cell_type": "code",
      "execution_count": 90,
      "metadata": {
        "colab": {
          "base_uri": "https://localhost:8080/",
          "height": 265
        },
        "id": "vz4Pr2Mk-eko",
        "outputId": "d486e989-02e5-4b0d-d288-e7487d0dcf01"
      },
      "outputs": [
        {
          "data": {
            "image/png": "[encoded data removed]",
            "text/plain": [
              "<Figure size 432x288 with 1 Axes>"
            ]
          },
          "metadata": {
            "needs_background": "light"
          },
          "output_type": "display_data"
        }
      ],
      "source": [
        "# Plot sigmoid modified tensor\n",
        "plt.plot(sigmoid(A));"
      ]
    },
    {
      "cell_type": "markdown",
      "metadata": {
        "id": "EGT2qtUV-k5f"
      },
      "source": [
        "A non-straight (non-linear) line!\n",
        "\n",
        "Okay, how about the [ReLU function](https://machinelearningmastery.com/rectified-linear-activation-function-for-deep-learning-neural-networks/#:~:text=The%20rectified%20linear%20activation%20function,otherwise%2C%20it%20will%20output%20zero.) (ReLU turns all negatives to 0 and positive numbers stay the same)?"
      ]
    },
    {
      "cell_type": "code",
      "execution_count": 91,
      "metadata": {
        "colab": {
          "base_uri": "https://localhost:8080/"
        },
        "id": "_PUMn--Hiwyz",
        "outputId": "bdb8daef-df2d-4f99-e8be-e4f60e77a1d3"
      },
      "outputs": [
        {
          "data": {
            "text/plain": [
              "<tf.Tensor: shape=(20,), dtype=float32, numpy=\n",
              "array([0., 0., 0., 0., 0., 0., 0., 0., 0., 0., 0., 1., 2., 3., 4., 5., 6.,\n",
              "       7., 8., 9.], dtype=float32)>"
            ]
          },
          "execution_count": 91,
          "metadata": {},
          "output_type": "execute_result"
        }
      ],
      "source": [
        "# ReLU - https://www.tensorflow.org/api_docs/python/tf/keras/activations/relu\n",
        "def relu(x):\n",
        "  return tf.maximum(0, x)\n",
        "\n",
        "# Pass toy tensor through ReLU function\n",
        "relu(A)"
      ]
    },
    {
      "cell_type": "markdown",
      "metadata": {
        "id": "xAkmlNeZ-90e"
      },
      "source": [
        "How does the ReLU-modified tensor look?"
      ]
    },
    {
      "cell_type": "code",
      "execution_count": 92,
      "metadata": {
        "colab": {
          "base_uri": "https://localhost:8080/",
          "height": 265
        },
        "id": "iXWCO2R4mlk7",
        "outputId": "17548bb3-4dd0-4ab5-eca0-666b8a5237fe"
      },
      "outputs": [
        {
          "data": {
            "image/png": "[encoded data removed]",
            "text/plain": [
              "<Figure size 432x288 with 1 Axes>"
            ]
          },
          "metadata": {
            "needs_background": "light"
          },
          "output_type": "display_data"
        }
      ],
      "source": [
        "# Plot ReLU-modified tensor\n",
        "plt.plot(relu(A));"
      ]
    },
    {
      "cell_type": "markdown",
      "metadata": {
        "id": "-NLdoxJr_Grk"
      },
      "source": [
        "Another non-straight line!\n",
        "\n",
        "Well, how about TensorFlow's [linear activation function](https://www.tensorflow.org/api_docs/python/tf/keras/activations/linear)? "
      ]
    },
    {
      "cell_type": "code",
      "execution_count": 93,
      "metadata": {
        "colab": {
          "base_uri": "https://localhost:8080/"
        },
        "id": "Cg_kBQLVoXRB",
        "outputId": "363236e9-848b-49eb-e7d3-58104061cd05"
      },
      "outputs": [
        {
          "data": {
            "text/plain": [
              "<tf.Tensor: shape=(20,), dtype=float32, numpy=\n",
              "array([-10.,  -9.,  -8.,  -7.,  -6.,  -5.,  -4.,  -3.,  -2.,  -1.,   0.,\n",
              "         1.,   2.,   3.,   4.,   5.,   6.,   7.,   8.,   9.],\n",
              "      dtype=float32)>"
            ]
          },
          "execution_count": 93,
          "metadata": {},
          "output_type": "execute_result"
        }
      ],
      "source": [
        "# Linear - https://www.tensorflow.org/api_docs/python/tf/keras/activations/linear (returns input non-modified...)\n",
        "tf.keras.activations.linear(A)"
      ]
    },
    {
      "cell_type": "markdown",
      "metadata": {
        "id": "d0NnpC_N_uWT"
      },
      "source": [
        "Hmm, it looks like our inputs are unmodified..."
      ]
    },
    {
      "cell_type": "code",
      "execution_count": 94,
      "metadata": {
        "colab": {
          "base_uri": "https://localhost:8080/"
        },
        "id": "iwlgKpco_7V2",
        "outputId": "dcb24b93-b9a2-4195-84f0-acf7356c0849"
      },
      "outputs": [
        {
          "data": {
            "text/plain": [
              "<tf.Tensor: shape=(20,), dtype=bool, numpy=\n",
              "array([ True,  True,  True,  True,  True,  True,  True,  True,  True,\n",
              "        True,  True,  True,  True,  True,  True,  True,  True,  True,\n",
              "        True,  True])>"
            ]
          },
          "execution_count": 94,
          "metadata": {},
          "output_type": "execute_result"
        }
      ],
      "source": [
        "# Does the linear activation change anything?\n",
        "A == tf.keras.activations.linear(A)"
      ]
    },
    {
      "cell_type": "markdown",
      "metadata": {
        "id": "KcCT_ipvADpR"
      },
      "source": [
        "Okay, so it makes sense now the model doesn't really learn anything when using only linear activation functions, because the linear activation function doesn't change our input data in anyway.\n",
        "\n",
        "Where as, with our non-linear functions, our data gets manipulated. A neural network uses these kind of transformations at a large scale to figure draw patterns between its inputs and outputs.\n",
        "\n",
        "Now rather than dive into the guts of neural networks, we're going to keep coding applying what we've learned to different problems but if you want a more in-depth look at what's going on behind the scenes, check out the Extra Curriculum section below. \n",
        "\n",
        "> 📖  **Resource:** For more on activation functions, check out the [machine learning cheatsheet page](https://ml-cheatsheet.readthedocs.io/en/latest/activation_functions.html#) on them."
      ]
    },
    {
      "cell_type": "markdown",
      "metadata": {
        "id": "BPCpA90uQBjk"
      },
      "source": [
        "## Evaluating and improving our classification model\n",
        "\n",
        "If you answered the question above, you might've picked up what we've been doing wrong.\n",
        "\n",
        "We've been evaluating our model on the same data it was trained on.\n",
        "\n",
        "A better approach would be to split our data into training, validation (optional) and test sets.\n",
        "\n",
        "Once we've done that, we'll train our model on the training set (let it find patterns in the data) and then see how well it learned the patterns by using it to predict values on the test set.\n",
        "\n",
        "Let's do it."
      ]
    },
    {
      "cell_type": "code",
      "execution_count": 95,
      "metadata": {
        "colab": {
          "base_uri": "https://localhost:8080/"
        },
        "id": "NjOviFscgl4S",
        "outputId": "ccf9f6c0-5be3-47fe-9242-f34f31d0d74a"
      },
      "outputs": [
        {
          "data": {
            "text/plain": [
              "1000"
            ]
          },
          "execution_count": 95,
          "metadata": {},
          "output_type": "execute_result"
        }
      ],
      "source": [
        "# How many examples are in the whole dataset?\n",
        "len(X)"
      ]
    },
    {
      "cell_type": "code",
      "execution_count": 96,
      "metadata": {
        "colab": {
          "base_uri": "https://localhost:8080/"
        },
        "id": "qNvKa8QrkSWR",
        "outputId": "6e2cd118-b29e-4052-c20b-4526e8fc5705"
      },
      "outputs": [
        {
          "data": {
            "text/plain": [
              "((800, 2), (200, 2))"
            ]
          },
          "execution_count": 96,
          "metadata": {},
          "output_type": "execute_result"
        }
      ],
      "source": [
        "# Split data into train and test sets\n",
        "X_train, y_train = X[:800], y[:800] # 80% of the data for the training set\n",
        "X_test, y_test = X[800:], y[800:] # 20% of the data for the test set\n",
        "\n",
        "# Check the shapes of the data\n",
        "X_train.shape, X_test.shape # 800 examples in the training set, 200 examples in the test set "
      ]
    },
    {
      "cell_type": "markdown",
      "metadata": {
        "id": "YtNge18ahgqa"
      },
      "source": [
        "Great, now we've got training and test sets, let's model the training data and evaluate what our model has learned on the test set."
      ]
    },
    {
      "cell_type": "code",
      "execution_count": 97,
      "metadata": {
        "colab": {
          "base_uri": "https://localhost:8080/"
        },
        "id": "0RUOBhA1g8Kx",
        "outputId": "903726b0-ac38-4dc8-acd2-82fdeee2c7cb"
      },
      "outputs": [
        {
          "name": "stdout",
          "output_type": "stream",
          "text": [
            "Epoch 1/25\n",
            "25/25 [==============================] - 0s 890us/step - loss: 0.6847 - accuracy: 0.5425\n",
            "Epoch 2/25\n",
            "25/25 [==============================] - 0s 757us/step - loss: 0.6777 - accuracy: 0.5525\n",
            "Epoch 3/25\n",
            "25/25 [==============================] - 0s 944us/step - loss: 0.6736 - accuracy: 0.5512\n",
            "Epoch 4/25\n",
            "25/25 [==============================] - 0s 841us/step - loss: 0.6681 - accuracy: 0.5775\n",
            "Epoch 5/25\n",
            "25/25 [==============================] - 0s 822us/step - loss: 0.6633 - accuracy: 0.5850\n",
            "Epoch 6/25\n",
            "25/25 [==============================] - 0s 798us/step - loss: 0.6546 - accuracy: 0.5838\n",
            "Epoch 7/25\n",
            "25/25 [==============================] - 0s 798us/step - loss: 0.6413 - accuracy: 0.6750\n",
            "Epoch 8/25\n",
            "25/25 [==============================] - 0s 771us/step - loss: 0.6264 - accuracy: 0.7013\n",
            "Epoch 9/25\n",
            "25/25 [==============================] - 0s 896us/step - loss: 0.6038 - accuracy: 0.7487\n",
            "Epoch 10/25\n",
            "25/25 [==============================] - 0s 1ms/step - loss: 0.5714 - accuracy: 0.7738\n",
            "Epoch 11/25\n",
            "25/25 [==============================] - 0s 1ms/step - loss: 0.5404 - accuracy: 0.7650\n",
            "Epoch 12/25\n",
            "25/25 [==============================] - 0s 815us/step - loss: 0.5015 - accuracy: 0.7837\n",
            "Epoch 13/25\n",
            "25/25 [==============================] - 0s 783us/step - loss: 0.4683 - accuracy: 0.7975\n",
            "Epoch 14/25\n",
            "25/25 [==============================] - 0s 812us/step - loss: 0.4113 - accuracy: 0.8450\n",
            "Epoch 15/25\n",
            "25/25 [==============================] - 0s 810us/step - loss: 0.3625 - accuracy: 0.9125\n",
            "Epoch 16/25\n",
            "25/25 [==============================] - 0s 812us/step - loss: 0.3209 - accuracy: 0.9312\n",
            "Epoch 17/25\n",
            "25/25 [==============================] - 0s 831us/step - loss: 0.2847 - accuracy: 0.9488\n",
            "Epoch 18/25\n",
            "25/25 [==============================] - 0s 703us/step - loss: 0.2597 - accuracy: 0.9525\n",
            "Epoch 19/25\n",
            "25/25 [==============================] - 0s 882us/step - loss: 0.2375 - accuracy: 0.9563\n",
            "Epoch 20/25\n",
            "25/25 [==============================] - 0s 733us/step - loss: 0.2135 - accuracy: 0.9663\n",
            "Epoch 21/25\n",
            "25/25 [==============================] - 0s 674us/step - loss: 0.1938 - accuracy: 0.9775\n",
            "Epoch 22/25\n",
            "25/25 [==============================] - 0s 915us/step - loss: 0.1752 - accuracy: 0.9737\n",
            "Epoch 23/25\n",
            "25/25 [==============================] - 0s 957us/step - loss: 0.1619 - accuracy: 0.9787\n",
            "Epoch 24/25\n",
            "25/25 [==============================] - 0s 828us/step - loss: 0.1550 - accuracy: 0.9775\n",
            "Epoch 25/25\n",
            "25/25 [==============================] - 0s 645us/step - loss: 0.1490 - accuracy: 0.9762\n"
          ]
        }
      ],
      "source": [
        "# Set random seed\n",
        "tf.random.set_seed(42)\n",
        "\n",
        "# Create the model (same as model_7)\n",
        "model_8 = tf.keras.Sequential([\n",
        "  tf.keras.layers.Dense(4, activation=\"relu\"), # hidden layer 1, using \"relu\" for activation (same as tf.keras.activations.relu)\n",
        "  tf.keras.layers.Dense(4, activation=\"relu\"),\n",
        "  tf.keras.layers.Dense(1, activation=\"sigmoid\") # output layer, using 'sigmoid' for the output\n",
        "])\n",
        "\n",
        "# Compile the model\n",
        "model_8.compile(loss=tf.keras.losses.binary_crossentropy,\n",
        "                optimizer=tf.keras.optimizers.Adam(lr=0.01), # increase learning rate from 0.001 to 0.01 for faster learning\n",
        "                metrics=['accuracy'])\n",
        "\n",
        "# Fit the model\n",
        "history = model_8.fit(X_train, y_train, epochs=25)"
      ]
    },
    {
      "cell_type": "code",
      "execution_count": 98,
      "metadata": {
        "colab": {
          "base_uri": "https://localhost:8080/"
        },
        "id": "aAnKqoDxloAA",
        "outputId": "6f8c76ac-a1df-42e9-e6d3-2bd3e1321588"
      },
      "outputs": [
        {
          "name": "stdout",
          "output_type": "stream",
          "text": [
            "7/7 [==============================] - 0s 778us/step - loss: 0.1247 - accuracy: 1.0000\n",
            "Model loss on the test set: 0.12468855828046799\n",
            "Model accuracy on the test set: 100.00%\n"
          ]
        }
      ],
      "source": [
        "# Evaluate our model on the test set\n",
        "loss, accuracy = model_8.evaluate(X_test, y_test)\n",
        "print(f\"Model loss on the test set: {loss}\")\n",
        "print(f\"Model accuracy on the test set: {100*accuracy:.2f}%\")"
      ]
    },
    {
      "cell_type": "markdown",
      "metadata": {
        "id": "c1lWpsNwjD5C"
      },
      "source": [
        "100% accuracy? Nice!\n",
        "\n",
        "Now, when we started to create `model_8` we said it was going to be the same as `model_7` but you might've found that to be a little lie.\n",
        "\n",
        "That's because we changed a few things: \n",
        "* **The `activation` parameter** - We used strings (`\"relu\"` & `\"sigmoid\"`) instead of using library paths (`tf.keras.activations.relu`), in TensorFlow, they both offer the same functionality.\n",
        "* **The `learning_rate` (also `lr`) parameter** - We increased the **learning rate** parameter in the [Adam optimizer](https://www.tensorflow.org/api_docs/python/tf/keras/optimizers/Adam) to `0.01` instead of `0.001` (an increase of 10x).\n",
        "  * You can think of the learning rate as how quickly a model learns. The higher the learning rate, the faster the model's capacity to learn, however, there's such a thing as a *too high* learning rate, where a model tries to learn too fast and doesn't learn anything. We'll see a trick to find the ideal learning rate soon.\n",
        "* **The number of epochs** - We lowered the number of epochs (using the `epochs` parameter) from 100 to 25 but our model still got an incredible result on both the training and test sets.\n",
        "  * One of the reasons our model performed well in even less epochs (remember a single epoch is the model trying to learn patterns in the data by looking at it once, so 25 epochs means the model gets 25 chances) than before is because we increased the learning rate.\n",
        "\n",
        "We know our model is performing well based on the evaluation metrics but let's see how it performs visually.\n"
      ]
    },
    {
      "cell_type": "code",
      "execution_count": 99,
      "metadata": {
        "colab": {
          "base_uri": "https://localhost:8080/",
          "height": 425
        },
        "id": "LRvAIBfAmtdc",
        "outputId": "566dcb8a-ae92-42ce-e581-339769a3c7b7"
      },
      "outputs": [
        {
          "name": "stdout",
          "output_type": "stream",
          "text": [
            "doing binary classifcation...\n",
            "doing binary classifcation...\n"
          ]
        },
        {
          "data": {
            "image/png": "[encoded data removed]",
            "text/plain": [
              "<Figure size 864x432 with 2 Axes>"
            ]
          },
          "metadata": {
            "needs_background": "light"
          },
          "output_type": "display_data"
        }
      ],
      "source": [
        "# Plot the decision boundaries for the training and test sets\n",
        "plt.figure(figsize=(12, 6))\n",
        "plt.subplot(1, 2, 1)\n",
        "plt.title(\"Train\")\n",
        "plot_decision_boundary(model_8, X=X_train, y=y_train)\n",
        "plt.subplot(1, 2, 2)\n",
        "plt.title(\"Test\")\n",
        "plot_decision_boundary(model_8, X=X_test, y=y_test)\n",
        "plt.show()"
      ]
    },
    {
      "cell_type": "markdown",
      "metadata": {
        "id": "42KDFaHonmGN"
      },
      "source": [
        "Check that out! How cool. With a few tweaks, our model is now predicting the blue and red circles almost perfectly."
      ]
    },
    {
      "cell_type": "markdown",
      "metadata": {
        "id": "EqaFRxFaiklC"
      },
      "source": [
        "### Plot the loss curves\n",
        "\n",
        "Looking at the plots above, we can see the outputs of our model are very good.\n",
        "\n",
        "But how did our model go whilst it was learning?\n",
        "\n",
        "As in, how did the performance change everytime the model had a chance to look at the data (once every epoch)?\n",
        "\n",
        "To figure this out, we can check the **loss curves** (also referred to as the **learning curves**).\n",
        "\n",
        "You might've seen we've been using the variable `history` when calling the `fit()` function on a model ([`fit()` returns a `History` object](https://www.tensorflow.org/api_docs/python/tf/keras/Model#fit)).\n",
        "\n",
        "This is where we'll get the information for how our model is performing as it learns.\n",
        "\n",
        "Let's see how we might use it."
      ]
    },
    {
      "cell_type": "code",
      "execution_count": 100,
      "metadata": {
        "colab": {
          "base_uri": "https://localhost:8080/",
          "height": 833
        },
        "id": "sBHuMm9mpoOz",
        "outputId": "20903317-7d67-4cec-817b-0444bc421df3"
      },
      "outputs": [
        {
          "data": {
            "text/html": [
              "<div>\n",
              "<style scoped>\n",
              "    .dataframe tbody tr th:only-of-type {\n",
              "        vertical-align: middle;\n",
              "    }\n",
              "\n",
              "    .dataframe tbody tr th {\n",
              "        vertical-align: top;\n",
              "    }\n",
              "\n",
              "    .dataframe thead th {\n",
              "        text-align: right;\n",
              "    }\n",
              "</style>\n",
              "<table border=\"1\" class=\"dataframe\">\n",
              "  <thead>\n",
              "    <tr style=\"text-align: right;\">\n",
              "      <th></th>\n",
              "      <th>loss</th>\n",
              "      <th>accuracy</th>\n",
              "    </tr>\n",
              "  </thead>\n",
              "  <tbody>\n",
              "    <tr>\n",
              "      <th>0</th>\n",
              "      <td>0.684651</td>\n",
              "      <td>0.54250</td>\n",
              "    </tr>\n",
              "    <tr>\n",
              "      <th>1</th>\n",
              "      <td>0.677721</td>\n",
              "      <td>0.55250</td>\n",
              "    </tr>\n",
              "    <tr>\n",
              "      <th>2</th>\n",
              "      <td>0.673595</td>\n",
              "      <td>0.55125</td>\n",
              "    </tr>\n",
              "    <tr>\n",
              "      <th>3</th>\n",
              "      <td>0.668149</td>\n",
              "      <td>0.57750</td>\n",
              "    </tr>\n",
              "    <tr>\n",
              "      <th>4</th>\n",
              "      <td>0.663269</td>\n",
              "      <td>0.58500</td>\n",
              "    </tr>\n",
              "    <tr>\n",
              "      <th>5</th>\n",
              "      <td>0.654567</td>\n",
              "      <td>0.58375</td>\n",
              "    </tr>\n",
              "    <tr>\n",
              "      <th>6</th>\n",
              "      <td>0.641258</td>\n",
              "      <td>0.67500</td>\n",
              "    </tr>\n",
              "    <tr>\n",
              "      <th>7</th>\n",
              "      <td>0.626428</td>\n",
              "      <td>0.70125</td>\n",
              "    </tr>\n",
              "    <tr>\n",
              "      <th>8</th>\n",
              "      <td>0.603831</td>\n",
              "      <td>0.74875</td>\n",
              "    </tr>\n",
              "    <tr>\n",
              "      <th>9</th>\n",
              "      <td>0.571404</td>\n",
              "      <td>0.77375</td>\n",
              "    </tr>\n",
              "    <tr>\n",
              "      <th>10</th>\n",
              "      <td>0.540443</td>\n",
              "      <td>0.76500</td>\n",
              "    </tr>\n",
              "    <tr>\n",
              "      <th>11</th>\n",
              "      <td>0.501504</td>\n",
              "      <td>0.78375</td>\n",
              "    </tr>\n",
              "    <tr>\n",
              "      <th>12</th>\n",
              "      <td>0.468332</td>\n",
              "      <td>0.79750</td>\n",
              "    </tr>\n",
              "    <tr>\n",
              "      <th>13</th>\n",
              "      <td>0.411302</td>\n",
              "      <td>0.84500</td>\n",
              "    </tr>\n",
              "    <tr>\n",
              "      <th>14</th>\n",
              "      <td>0.362506</td>\n",
              "      <td>0.91250</td>\n",
              "    </tr>\n",
              "    <tr>\n",
              "      <th>15</th>\n",
              "      <td>0.320904</td>\n",
              "      <td>0.93125</td>\n",
              "    </tr>\n",
              "    <tr>\n",
              "      <th>16</th>\n",
              "      <td>0.284708</td>\n",
              "      <td>0.94875</td>\n",
              "    </tr>\n",
              "    <tr>\n",
              "      <th>17</th>\n",
              "      <td>0.259720</td>\n",
              "      <td>0.95250</td>\n",
              "    </tr>\n",
              "    <tr>\n",
              "      <th>18</th>\n",
              "      <td>0.237469</td>\n",
              "      <td>0.95625</td>\n",
              "    </tr>\n",
              "    <tr>\n",
              "      <th>19</th>\n",
              "      <td>0.213520</td>\n",
              "      <td>0.96625</td>\n",
              "    </tr>\n",
              "    <tr>\n",
              "      <th>20</th>\n",
              "      <td>0.193820</td>\n",
              "      <td>0.97750</td>\n",
              "    </tr>\n",
              "    <tr>\n",
              "      <th>21</th>\n",
              "      <td>0.175244</td>\n",
              "      <td>0.97375</td>\n",
              "    </tr>\n",
              "    <tr>\n",
              "      <th>22</th>\n",
              "      <td>0.161893</td>\n",
              "      <td>0.97875</td>\n",
              "    </tr>\n",
              "    <tr>\n",
              "      <th>23</th>\n",
              "      <td>0.154989</td>\n",
              "      <td>0.97750</td>\n",
              "    </tr>\n",
              "    <tr>\n",
              "      <th>24</th>\n",
              "      <td>0.148973</td>\n",
              "      <td>0.97625</td>\n",
              "    </tr>\n",
              "  </tbody>\n",
              "</table>\n",
              "</div>"
            ],
            "text/plain": [
              "        loss  accuracy\n",
              "0   0.684651   0.54250\n",
              "1   0.677721   0.55250\n",
              "2   0.673595   0.55125\n",
              "3   0.668149   0.57750\n",
              "4   0.663269   0.58500\n",
              "5   0.654567   0.58375\n",
              "6   0.641258   0.67500\n",
              "7   0.626428   0.70125\n",
              "8   0.603831   0.74875\n",
              "9   0.571404   0.77375\n",
              "10  0.540443   0.76500\n",
              "11  0.501504   0.78375\n",
              "12  0.468332   0.79750\n",
              "13  0.411302   0.84500\n",
              "14  0.362506   0.91250\n",
              "15  0.320904   0.93125\n",
              "16  0.284708   0.94875\n",
              "17  0.259720   0.95250\n",
              "18  0.237469   0.95625\n",
              "19  0.213520   0.96625\n",
              "20  0.193820   0.97750\n",
              "21  0.175244   0.97375\n",
              "22  0.161893   0.97875\n",
              "23  0.154989   0.97750\n",
              "24  0.148973   0.97625"
            ]
          },
          "execution_count": 100,
          "metadata": {},
          "output_type": "execute_result"
        }
      ],
      "source": [
        "# You can access the information in the history variable using the .history attribute\n",
        "pd.DataFrame(history.history)"
      ]
    },
    {
      "cell_type": "markdown",
      "metadata": {
        "id": "mblFGnDap48J"
      },
      "source": [
        "Inspecting the outputs, we can see the loss values going down and the accuracy going up. \n",
        "\n",
        "How's it look (visualize, visualize, visualize)?"
      ]
    },
    {
      "cell_type": "code",
      "execution_count": 101,
      "metadata": {
        "colab": {
          "base_uri": "https://localhost:8080/",
          "height": 298
        },
        "id": "mqlwnZGJpYNF",
        "outputId": "bbbb3035-ccd6-4ea4-f441-4601dfd8e877"
      },
      "outputs": [
        {
          "data": {
            "text/plain": [
              "Text(0.5, 1.0, 'Model_8 training curves')"
            ]
          },
          "execution_count": 101,
          "metadata": {},
          "output_type": "execute_result"
        },
        {
          "data": {
            "image/png": "[encoded data removed]",
            "text/plain": [
              "<Figure size 432x288 with 1 Axes>"
            ]
          },
          "metadata": {
            "needs_background": "light"
          },
          "output_type": "display_data"
        }
      ],
      "source": [
        "# Plot the loss curves\n",
        "pd.DataFrame(history.history).plot()\n",
        "plt.title(\"Model_8 training curves\")"
      ]
    },
    {
      "cell_type": "markdown",
      "metadata": {
        "id": "mofXV4znqmNh"
      },
      "source": [
        "Beautiful. This is the ideal plot we'd be looking for when dealing with a classification problem, loss going down, accuracy going up.\n",
        "\n",
        "> 🔑 **Note:** For many problems, the loss function going down means the model is improving (the predictions it's making are getting closer to the ground truth labels)."
      ]
    },
    {
      "cell_type": "markdown",
      "metadata": {
        "id": "QyZA0CYLir5-"
      },
      "source": [
        "### Finding the best learning rate\n",
        "\n",
        "Aside from the architecture itself (the layers, number of neurons, activations, etc), the most important hyperparameter you can tune for your neural network models is the **learning rate**.\n",
        "\n",
        "In `model_8` you saw we lowered the Adam optimizer's learning rate from the default of `0.001` (default) to `0.01`.\n",
        "\n",
        "And you might be wondering why we did this.\n",
        "\n",
        "Put it this way, it was a lucky guess.\n",
        "\n",
        "I just decided to try a lower learning rate and see how the model went.\n",
        "\n",
        "Now you might be thinking, \"Seriously? You can do that?\"\n",
        "\n",
        "And the answer is yes. You can change any of the hyperparamaters of your neural networks.\n",
        "\n",
        "With practice, you'll start to see what kind of hyperparameters work and what don't.\n",
        "\n",
        "That's an important thing to understand about machine learning and deep learning in general. It's very experimental. You build a model and evaluate it, build a model and evaluate it.\n",
        "\n",
        "That being said, I want to introduce you a trick which will help you find the optimal learning rate (at least to begin training with) for your models going forward.\n",
        "\n",
        "To do so, we're going to use the following:\n",
        "* A [learning rate **callback**](https://www.tensorflow.org/api_docs/python/tf/keras/callbacks/LearningRateScheduler).\n",
        "   * You can think of a callback as an extra piece of functionality you can add to your model *while* its training.\n",
        "* Another model (we could use the same ones as above, we we're practicing building models here).\n",
        "* A modified loss curves plot.\n",
        "\n",
        "We'll go through each with code, then explain what's going on.\n",
        "\n",
        "> 🔑 **Note:** The default hyperparameters of many neural network building blocks in TensorFlow are setup in a way which usually work right out of the box (e.g. the [Adam optimizer's](https://www.tensorflow.org/api_docs/python/tf/keras/optimizers/Adam) default settings can usually get good results on many datasets). So it's a good idea to try the defaults first, then adjust as needed."
      ]
    },
    {
      "cell_type": "code",
      "execution_count": 102,
      "metadata": {
        "colab": {
          "base_uri": "https://localhost:8080/"
        },
        "id": "3g05waDawhsZ",
        "outputId": "2d2587f6-cbe3-48a7-c0b4-e4ee0b82302a"
      },
      "outputs": [
        {
          "name": "stdout",
          "output_type": "stream",
          "text": [
            "Epoch 1/100\n",
            "25/25 [==============================] - 0s 972us/step - loss: 0.6945 - accuracy: 0.4988 - lr: 1.0000e-04\n",
            "Epoch 2/100\n",
            "25/25 [==============================] - 0s 743us/step - loss: 0.6938 - accuracy: 0.4975 - lr: 1.1220e-04\n",
            "Epoch 3/100\n",
            "25/25 [==============================] - 0s 735us/step - loss: 0.6930 - accuracy: 0.4963 - lr: 1.2589e-04\n",
            "Epoch 4/100\n",
            "25/25 [==============================] - 0s 867us/step - loss: 0.6922 - accuracy: 0.4975 - lr: 1.4125e-04\n",
            "Epoch 5/100\n",
            "25/25 [==============================] - 0s 953us/step - loss: 0.6914 - accuracy: 0.5063 - lr: 1.5849e-04\n",
            "Epoch 6/100\n",
            "25/25 [==============================] - 0s 1ms/step - loss: 0.6906 - accuracy: 0.5013 - lr: 1.7783e-04\n",
            "Epoch 7/100\n",
            "25/25 [==============================] - 0s 988us/step - loss: 0.6898 - accuracy: 0.4950 - lr: 1.9953e-04\n",
            "Epoch 8/100\n",
            "25/25 [==============================] - 0s 777us/step - loss: 0.6889 - accuracy: 0.5038 - lr: 2.2387e-04\n",
            "Epoch 9/100\n",
            "25/25 [==============================] - 0s 839us/step - loss: 0.6880 - accuracy: 0.5013 - lr: 2.5119e-04\n",
            "Epoch 10/100\n",
            "25/25 [==============================] - 0s 753us/step - loss: 0.6871 - accuracy: 0.5050 - lr: 2.8184e-04\n",
            "Epoch 11/100\n",
            "25/25 [==============================] - 0s 763us/step - loss: 0.6863 - accuracy: 0.5200 - lr: 3.1623e-04\n",
            "Epoch 12/100\n",
            "25/25 [==============================] - 0s 1ms/step - loss: 0.6856 - accuracy: 0.5163 - lr: 3.5481e-04\n",
            "Epoch 13/100\n",
            "25/25 [==============================] - 0s 863us/step - loss: 0.6847 - accuracy: 0.5175 - lr: 3.9811e-04\n",
            "Epoch 14/100\n",
            "25/25 [==============================] - 0s 739us/step - loss: 0.6842 - accuracy: 0.5200 - lr: 4.4668e-04\n",
            "Epoch 15/100\n",
            "25/25 [==============================] - 0s 871us/step - loss: 0.6835 - accuracy: 0.5213 - lr: 5.0119e-04\n",
            "Epoch 16/100\n",
            "25/25 [==============================] - 0s 833us/step - loss: 0.6829 - accuracy: 0.5213 - lr: 5.6234e-04\n",
            "Epoch 17/100\n",
            "25/25 [==============================] - 0s 790us/step - loss: 0.6826 - accuracy: 0.5225 - lr: 6.3096e-04\n",
            "Epoch 18/100\n",
            "25/25 [==============================] - 0s 709us/step - loss: 0.6819 - accuracy: 0.5300 - lr: 7.0795e-04\n",
            "Epoch 19/100\n",
            "25/25 [==============================] - 0s 730us/step - loss: 0.6816 - accuracy: 0.5312 - lr: 7.9433e-04\n",
            "Epoch 20/100\n",
            "25/25 [==============================] - 0s 726us/step - loss: 0.6811 - accuracy: 0.5387 - lr: 8.9125e-04\n",
            "Epoch 21/100\n",
            "25/25 [==============================] - 0s 750us/step - loss: 0.6806 - accuracy: 0.5400 - lr: 0.0010\n",
            "Epoch 22/100\n",
            "25/25 [==============================] - 0s 730us/step - loss: 0.6801 - accuracy: 0.5412 - lr: 0.0011\n",
            "Epoch 23/100\n",
            "25/25 [==============================] - 0s 814us/step - loss: 0.6796 - accuracy: 0.5400 - lr: 0.0013\n",
            "Epoch 24/100\n",
            "25/25 [==============================] - 0s 995us/step - loss: 0.6790 - accuracy: 0.5425 - lr: 0.0014\n",
            "Epoch 25/100\n",
            "25/25 [==============================] - 0s 1ms/step - loss: 0.6784 - accuracy: 0.5450 - lr: 0.0016\n",
            "Epoch 26/100\n",
            "25/25 [==============================] - 0s 1ms/step - loss: 0.6778 - accuracy: 0.5387 - lr: 0.0018\n",
            "Epoch 27/100\n",
            "25/25 [==============================] - 0s 866us/step - loss: 0.6770 - accuracy: 0.5425 - lr: 0.0020\n",
            "Epoch 28/100\n",
            "25/25 [==============================] - 0s 861us/step - loss: 0.6760 - accuracy: 0.5537 - lr: 0.0022\n",
            "Epoch 29/100\n",
            "25/25 [==============================] - 0s 874us/step - loss: 0.6754 - accuracy: 0.5512 - lr: 0.0025\n",
            "Epoch 30/100\n",
            "25/25 [==============================] - 0s 862us/step - loss: 0.6739 - accuracy: 0.5575 - lr: 0.0028\n",
            "Epoch 31/100\n",
            "25/25 [==============================] - 0s 766us/step - loss: 0.6726 - accuracy: 0.5500 - lr: 0.0032\n",
            "Epoch 32/100\n",
            "25/25 [==============================] - 0s 1ms/step - loss: 0.6711 - accuracy: 0.5512 - lr: 0.0035\n",
            "Epoch 33/100\n",
            "25/25 [==============================] - 0s 1ms/step - loss: 0.6688 - accuracy: 0.5562 - lr: 0.0040\n",
            "Epoch 34/100\n",
            "25/25 [==============================] - 0s 833us/step - loss: 0.6672 - accuracy: 0.5612 - lr: 0.0045\n",
            "Epoch 35/100\n",
            "25/25 [==============================] - 0s 888us/step - loss: 0.6660 - accuracy: 0.5888 - lr: 0.0050\n",
            "Epoch 36/100\n",
            "25/25 [==============================] - 0s 873us/step - loss: 0.6625 - accuracy: 0.5625 - lr: 0.0056\n",
            "Epoch 37/100\n",
            "25/25 [==============================] - 0s 717us/step - loss: 0.6560 - accuracy: 0.5813 - lr: 0.0063\n",
            "Epoch 38/100\n",
            "25/25 [==============================] - 0s 715us/step - loss: 0.6521 - accuracy: 0.6025 - lr: 0.0071\n",
            "Epoch 39/100\n",
            "25/25 [==============================] - 0s 827us/step - loss: 0.6415 - accuracy: 0.7088 - lr: 0.0079\n",
            "Epoch 40/100\n",
            "25/25 [==============================] - 0s 839us/step - loss: 0.6210 - accuracy: 0.7113 - lr: 0.0089\n",
            "Epoch 41/100\n",
            "25/25 [==============================] - 0s 906us/step - loss: 0.5904 - accuracy: 0.7487 - lr: 0.0100\n",
            "Epoch 42/100\n",
            "25/25 [==============================] - 0s 840us/step - loss: 0.5688 - accuracy: 0.7312 - lr: 0.0112\n",
            "Epoch 43/100\n",
            "25/25 [==============================] - 0s 914us/step - loss: 0.5346 - accuracy: 0.7563 - lr: 0.0126\n",
            "Epoch 44/100\n",
            "25/25 [==============================] - 0s 777us/step - loss: 0.4533 - accuracy: 0.8150 - lr: 0.0141\n",
            "Epoch 45/100\n",
            "25/25 [==============================] - 0s 1ms/step - loss: 0.3455 - accuracy: 0.9112 - lr: 0.0158\n",
            "Epoch 46/100\n",
            "25/25 [==============================] - 0s 856us/step - loss: 0.2570 - accuracy: 0.9463 - lr: 0.0178\n",
            "Epoch 47/100\n",
            "25/25 [==============================] - 0s 741us/step - loss: 0.1968 - accuracy: 0.9575 - lr: 0.0200\n",
            "Epoch 48/100\n",
            "25/25 [==============================] - 0s 741us/step - loss: 0.1336 - accuracy: 0.9700 - lr: 0.0224\n",
            "Epoch 49/100\n",
            "25/25 [==============================] - 0s 814us/step - loss: 0.1310 - accuracy: 0.9613 - lr: 0.0251\n",
            "Epoch 50/100\n",
            "25/25 [==============================] - 0s 1ms/step - loss: 0.1002 - accuracy: 0.9700 - lr: 0.0282\n",
            "Epoch 51/100\n",
            "25/25 [==============================] - 0s 920us/step - loss: 0.1166 - accuracy: 0.9638 - lr: 0.0316\n",
            "Epoch 52/100\n",
            "25/25 [==============================] - 0s 807us/step - loss: 0.1368 - accuracy: 0.9513 - lr: 0.0355\n",
            "Epoch 53/100\n",
            "25/25 [==============================] - 0s 827us/step - loss: 0.0879 - accuracy: 0.9787 - lr: 0.0398\n",
            "Epoch 54/100\n",
            "25/25 [==============================] - 0s 926us/step - loss: 0.1187 - accuracy: 0.9588 - lr: 0.0447\n",
            "Epoch 55/100\n",
            "25/25 [==============================] - 0s 835us/step - loss: 0.0733 - accuracy: 0.9712 - lr: 0.0501\n",
            "Epoch 56/100\n",
            "25/25 [==============================] - 0s 859us/step - loss: 0.1132 - accuracy: 0.9550 - lr: 0.0562\n",
            "Epoch 57/100\n",
            "25/25 [==============================] - 0s 852us/step - loss: 0.1058 - accuracy: 0.9600 - lr: 0.0631\n",
            "Epoch 58/100\n",
            "25/25 [==============================] - 0s 1ms/step - loss: 0.0660 - accuracy: 0.9750 - lr: 0.0708\n",
            "Epoch 59/100\n",
            "25/25 [==============================] - 0s 849us/step - loss: 0.1650 - accuracy: 0.9312 - lr: 0.0794\n",
            "Epoch 60/100\n",
            "25/25 [==============================] - 0s 821us/step - loss: 0.0802 - accuracy: 0.9688 - lr: 0.0891\n",
            "Epoch 61/100\n",
            "25/25 [==============================] - 0s 992us/step - loss: 0.1061 - accuracy: 0.9563 - lr: 0.1000\n",
            "Epoch 62/100\n",
            "25/25 [==============================] - 0s 802us/step - loss: 0.1717 - accuracy: 0.9400 - lr: 0.1122\n",
            "Epoch 63/100\n",
            "25/25 [==============================] - 0s 1ms/step - loss: 0.2082 - accuracy: 0.9287 - lr: 0.1259\n",
            "Epoch 64/100\n",
            "25/25 [==============================] - 0s 1ms/step - loss: 0.3564 - accuracy: 0.8587 - lr: 0.1413\n",
            "Epoch 65/100\n",
            "25/25 [==============================] - 0s 1ms/step - loss: 0.1874 - accuracy: 0.9237 - lr: 0.1585\n",
            "Epoch 66/100\n",
            "25/25 [==============================] - 0s 1ms/step - loss: 0.3828 - accuracy: 0.8438 - lr: 0.1778\n",
            "Epoch 67/100\n",
            "25/25 [==============================] - 0s 1ms/step - loss: 0.2499 - accuracy: 0.8938 - lr: 0.1995\n",
            "Epoch 68/100\n",
            "25/25 [==============================] - 0s 1ms/step - loss: 0.1195 - accuracy: 0.9563 - lr: 0.2239\n",
            "Epoch 69/100\n",
            "25/25 [==============================] - 0s 1ms/step - loss: 0.1148 - accuracy: 0.9613 - lr: 0.2512\n",
            "Epoch 70/100\n",
            "25/25 [==============================] - 0s 1ms/step - loss: 0.2357 - accuracy: 0.9262 - lr: 0.2818\n",
            "Epoch 71/100\n",
            "25/25 [==============================] - 0s 856us/step - loss: 0.2422 - accuracy: 0.9187 - lr: 0.3162\n",
            "Epoch 72/100\n",
            "25/25 [==============================] - 0s 1ms/step - loss: 0.2038 - accuracy: 0.9237 - lr: 0.3548\n",
            "Epoch 73/100\n",
            "25/25 [==============================] - 0s 798us/step - loss: 0.2671 - accuracy: 0.9038 - lr: 0.3981\n",
            "Epoch 74/100\n",
            "25/25 [==============================] - 0s 886us/step - loss: 0.4199 - accuracy: 0.9112 - lr: 0.4467\n",
            "Epoch 75/100\n",
            "25/25 [==============================] - 0s 836us/step - loss: 0.5960 - accuracy: 0.7188 - lr: 0.5012\n",
            "Epoch 76/100\n",
            "25/25 [==============================] - 0s 837us/step - loss: 0.2515 - accuracy: 0.9262 - lr: 0.5623\n",
            "Epoch 77/100\n",
            "25/25 [==============================] - 0s 829us/step - loss: 0.7009 - accuracy: 0.7013 - lr: 0.6310\n",
            "Epoch 78/100\n",
            "25/25 [==============================] - 0s 897us/step - loss: 0.6612 - accuracy: 0.6062 - lr: 0.7079\n",
            "Epoch 79/100\n",
            "25/25 [==============================] - 0s 791us/step - loss: 0.6801 - accuracy: 0.5412 - lr: 0.7943\n",
            "Epoch 80/100\n",
            "25/25 [==============================] - 0s 952us/step - loss: 0.5662 - accuracy: 0.7362 - lr: 0.8913\n",
            "Epoch 81/100\n",
            "25/25 [==============================] - 0s 1ms/step - loss: 0.8503 - accuracy: 0.5075 - lr: 1.0000\n",
            "Epoch 82/100\n",
            "25/25 [==============================] - 0s 790us/step - loss: 0.7462 - accuracy: 0.5412 - lr: 1.1220\n",
            "Epoch 83/100\n",
            "25/25 [==============================] - 0s 1ms/step - loss: 0.7297 - accuracy: 0.4837 - lr: 1.2589\n",
            "Epoch 84/100\n",
            "25/25 [==============================] - 0s 1ms/step - loss: 0.7044 - accuracy: 0.5038 - lr: 1.4125\n",
            "Epoch 85/100\n",
            "25/25 [==============================] - 0s 877us/step - loss: 0.7327 - accuracy: 0.4963 - lr: 1.5849\n",
            "Epoch 86/100\n",
            "25/25 [==============================] - 0s 1ms/step - loss: 0.7515 - accuracy: 0.5038 - lr: 1.7783\n",
            "Epoch 87/100\n",
            "25/25 [==============================] - 0s 877us/step - loss: 0.7638 - accuracy: 0.5113 - lr: 1.9953\n",
            "Epoch 88/100\n",
            "25/25 [==============================] - 0s 804us/step - loss: 0.7592 - accuracy: 0.4963 - lr: 2.2387\n",
            "Epoch 89/100\n",
            "25/25 [==============================] - 0s 869us/step - loss: 0.7737 - accuracy: 0.5213 - lr: 2.5119\n",
            "Epoch 90/100\n",
            "25/25 [==============================] - 0s 914us/step - loss: 0.7805 - accuracy: 0.4913 - lr: 2.8184\n",
            "Epoch 91/100\n",
            "25/25 [==============================] - 0s 1ms/step - loss: 0.7904 - accuracy: 0.5163 - lr: 3.1623\n",
            "Epoch 92/100\n",
            "25/25 [==============================] - 0s 1ms/step - loss: 0.7427 - accuracy: 0.5113 - lr: 3.5481\n",
            "Epoch 93/100\n",
            "25/25 [==============================] - 0s 2ms/step - loss: 0.7368 - accuracy: 0.5088 - lr: 3.9811\n",
            "Epoch 94/100\n",
            "25/25 [==============================] - 0s 1ms/step - loss: 0.7557 - accuracy: 0.4938 - lr: 4.4668\n",
            "Epoch 95/100\n",
            "25/25 [==============================] - 0s 826us/step - loss: 0.8118 - accuracy: 0.4863 - lr: 5.0119\n",
            "Epoch 96/100\n",
            "25/25 [==============================] - 0s 810us/step - loss: 0.7744 - accuracy: 0.4638 - lr: 5.6234\n",
            "Epoch 97/100\n",
            "25/25 [==============================] - 0s 761us/step - loss: 0.8019 - accuracy: 0.5013 - lr: 6.3096\n",
            "Epoch 98/100\n",
            "25/25 [==============================] - 0s 775us/step - loss: 0.9579 - accuracy: 0.4963 - lr: 7.0795\n",
            "Epoch 99/100\n",
            "25/25 [==============================] - 0s 796us/step - loss: 0.9361 - accuracy: 0.4913 - lr: 7.9433\n",
            "Epoch 100/100\n",
            "25/25 [==============================] - 0s 763us/step - loss: 0.8571 - accuracy: 0.4663 - lr: 8.9125\n"
          ]
        }
      ],
      "source": [
        "# Set random seed\n",
        "tf.random.set_seed(42)\n",
        "\n",
        "# Create a model (same as model_8)\n",
        "model_9 = tf.keras.Sequential([\n",
        "  tf.keras.layers.Dense(4, activation=\"relu\"),\n",
        "  tf.keras.layers.Dense(4, activation=\"relu\"),\n",
        "  tf.keras.layers.Dense(1, activation=\"sigmoid\")\n",
        "])\n",
        "\n",
        "# Compile the model\n",
        "model_9.compile(loss=\"binary_crossentropy\", # we can use strings here too\n",
        "              optimizer=\"Adam\", # same as tf.keras.optimizers.Adam() with default settings\n",
        "              metrics=[\"accuracy\"]) \n",
        "\n",
        "# Create a learning rate scheduler callback\n",
        "lr_scheduler = tf.keras.callbacks.LearningRateScheduler(lambda epoch: 1e-4 * 10**(epoch/20)) # traverse a set of learning rate values starting from 1e-4, increasing by 10**(epoch/20) every epoch\n",
        "\n",
        "# Fit the model (passing the lr_scheduler callback)\n",
        "history = model_9.fit(X_train, \n",
        "                      y_train, \n",
        "                      epochs=100,\n",
        "                      callbacks=[lr_scheduler])"
      ]
    },
    {
      "cell_type": "markdown",
      "metadata": {
        "id": "KKln6dnbNPVR"
      },
      "source": [
        "Now our model has finished training, let's have a look at the training history."
      ]
    },
    {
      "cell_type": "code",
      "execution_count": 103,
      "metadata": {
        "colab": {
          "base_uri": "https://localhost:8080/",
          "height": 442
        },
        "id": "wCd12upnyO4y",
        "outputId": "8d2e912e-07bc-4b04-9b2e-6758f7ca2cb8"
      },
      "outputs": [
        {
          "data": {
            "image/png": "[encoded data removed]",
            "text/plain": [
              "<Figure size 720x504 with 1 Axes>"
            ]
          },
          "metadata": {
            "needs_background": "light"
          },
          "output_type": "display_data"
        }
      ],
      "source": [
        "# Checkout the history\n",
        "pd.DataFrame(history.history).plot(figsize=(10,7), xlabel=\"epochs\");"
      ]
    },
    {
      "cell_type": "markdown",
      "metadata": {
        "id": "9OkUFgZSx6hP"
      },
      "source": [
        "As you you see the learning rate exponentially increases as the number of epochs increases.\n",
        "\n",
        "And you can see the model's accuracy goes up (and loss goes down) at a specific point when the learning rate slowly increases.\n",
        "\n",
        "To figure out where this infliction point is, we can plot the loss versus the log-scale learning rate."
      ]
    },
    {
      "cell_type": "code",
      "execution_count": 104,
      "metadata": {
        "colab": {
          "base_uri": "https://localhost:8080/",
          "height": 462
        },
        "id": "8fnEklbYyGBG",
        "outputId": "6123a543-17c7-49ba-a64c-fb7ef621cee4"
      },
      "outputs": [
        {
          "data": {
            "image/png": "[encoded data removed]",
            "text/plain": [
              "<Figure size 720x504 with 1 Axes>"
            ]
          },
          "metadata": {
            "needs_background": "light"
          },
          "output_type": "display_data"
        }
      ],
      "source": [
        "# Plot the learning rate versus the loss\n",
        "lrs = 1e-4 * (10 ** (np.arange(100)/20))\n",
        "plt.figure(figsize=(10, 7))\n",
        "plt.semilogx(lrs, history.history[\"loss\"]) # we want the x-axis (learning rate) to be log scale\n",
        "plt.xlabel(\"Learning Rate\")\n",
        "plt.ylabel(\"Loss\")\n",
        "plt.title(\"Learning rate vs. loss\");"
      ]
    },
    {
      "cell_type": "markdown",
      "metadata": {
        "id": "w0kMFKLvOF8s"
      },
      "source": [
        "To figure out the ideal value of the learning rate (at least the ideal value to *begin* training our model), the rule of thumb is to take the learning rate value where the loss is still decreasing but not quite flattened out (usually about 10x smaller than the bottom of the curve).\n",
        "\n",
        "In this case, our ideal learning rate ends up between `0.01` ($10^{-2}$) and `0.02`.\n",
        "\n",
        "![finding the ideal learning rate by plotting learning rate vs. loss](https://raw.githubusercontent.com/mrdbourke/tensorflow-deep-learning/main/images/02-learning-rate-vs-loss.png)\n",
        "\n",
        "*The ideal learning rate at the start of model training is somewhere just before the loss curve bottoms out (a value where the loss is still decreasing).*"
      ]
    },
    {
      "cell_type": "code",
      "execution_count": 105,
      "metadata": {
        "colab": {
          "base_uri": "https://localhost:8080/"
        },
        "id": "vJo-nDw4zFfx",
        "outputId": "34397446-0cbd-4742-fa60-94eb270924ce"
      },
      "outputs": [
        {
          "data": {
            "text/plain": [
              "(1, 0.1, 0.01, 0.001, 0.0001)"
            ]
          },
          "execution_count": 105,
          "metadata": {},
          "output_type": "execute_result"
        }
      ],
      "source": [
        "# Example of other typical learning rate values\n",
        "10**0, 10**-1, 10**-2, 10**-3, 1e-4"
      ]
    },
    {
      "cell_type": "markdown",
      "metadata": {
        "id": "iALar-WvPlEc"
      },
      "source": [
        "Now we've estimated the ideal learning rate (we'll use `0.02`) for our model, let's refit it."
      ]
    },
    {
      "cell_type": "code",
      "execution_count": 106,
      "metadata": {
        "colab": {
          "base_uri": "https://localhost:8080/"
        },
        "id": "EJ9wbXblzPPL",
        "outputId": "eb12089a-39c7-4b4b-a63b-c09a3eb7e532"
      },
      "outputs": [
        {
          "name": "stdout",
          "output_type": "stream",
          "text": [
            "Epoch 1/20\n"
          ]
        },
        {
          "name": "stderr",
          "output_type": "stream",
          "text": [
            "/home/ahsan/anaconda3/envs/venv/lib/python3.9/site-packages/keras/optimizer_v2/adam.py:105: UserWarning: The `lr` argument is deprecated, use `learning_rate` instead.\n",
            "  super(Adam, self).__init__(name, **kwargs)\n"
          ]
        },
        {
          "name": "stdout",
          "output_type": "stream",
          "text": [
            "25/25 [==============================] - 0s 926us/step - loss: 0.6837 - accuracy: 0.5600\n",
            "Epoch 2/20\n",
            "25/25 [==============================] - 0s 923us/step - loss: 0.6744 - accuracy: 0.5750\n",
            "Epoch 3/20\n",
            "25/25 [==============================] - 0s 1ms/step - loss: 0.6626 - accuracy: 0.5875\n",
            "Epoch 4/20\n",
            "25/25 [==============================] - 0s 871us/step - loss: 0.6332 - accuracy: 0.6388\n",
            "Epoch 5/20\n",
            "25/25 [==============================] - 0s 1ms/step - loss: 0.5830 - accuracy: 0.7563\n",
            "Epoch 6/20\n",
            "25/25 [==============================] - 0s 1ms/step - loss: 0.4907 - accuracy: 0.8313\n",
            "Epoch 7/20\n",
            "25/25 [==============================] - 0s 848us/step - loss: 0.4251 - accuracy: 0.8450\n",
            "Epoch 8/20\n",
            "25/25 [==============================] - 0s 1ms/step - loss: 0.3596 - accuracy: 0.8875\n",
            "Epoch 9/20\n",
            "25/25 [==============================] - 0s 767us/step - loss: 0.3152 - accuracy: 0.9100\n",
            "Epoch 10/20\n",
            "25/25 [==============================] - 0s 752us/step - loss: 0.2512 - accuracy: 0.9500\n",
            "Epoch 11/20\n",
            "25/25 [==============================] - 0s 751us/step - loss: 0.2152 - accuracy: 0.9500\n",
            "Epoch 12/20\n",
            "25/25 [==============================] - 0s 884us/step - loss: 0.1721 - accuracy: 0.9750\n",
            "Epoch 13/20\n",
            "25/25 [==============================] - 0s 756us/step - loss: 0.1443 - accuracy: 0.9837\n",
            "Epoch 14/20\n",
            "25/25 [==============================] - 0s 786us/step - loss: 0.1232 - accuracy: 0.9862\n",
            "Epoch 15/20\n",
            "25/25 [==============================] - 0s 909us/step - loss: 0.1085 - accuracy: 0.9850\n",
            "Epoch 16/20\n",
            "25/25 [==============================] - 0s 1ms/step - loss: 0.0940 - accuracy: 0.9937\n",
            "Epoch 17/20\n",
            "25/25 [==============================] - 0s 1ms/step - loss: 0.0827 - accuracy: 0.9962\n",
            "Epoch 18/20\n",
            "25/25 [==============================] - 0s 967us/step - loss: 0.0798 - accuracy: 0.9937\n",
            "Epoch 19/20\n",
            "25/25 [==============================] - 0s 786us/step - loss: 0.0845 - accuracy: 0.9875\n",
            "Epoch 20/20\n",
            "25/25 [==============================] - 0s 989us/step - loss: 0.0790 - accuracy: 0.9887\n"
          ]
        }
      ],
      "source": [
        "# Set the random seed\n",
        "tf.random.set_seed(42)\n",
        "\n",
        "# Create the model\n",
        "model_10 = tf.keras.Sequential([\n",
        "  tf.keras.layers.Dense(4, activation=\"relu\"),\n",
        "  tf.keras.layers.Dense(4, activation=\"relu\"),\n",
        "  tf.keras.layers.Dense(1, activation=\"sigmoid\")\n",
        "])\n",
        "\n",
        "# Compile the model with the ideal learning rate\n",
        "model_10.compile(loss=\"binary_crossentropy\",\n",
        "                optimizer=tf.keras.optimizers.Adam(lr=0.02), # to adjust the learning rate, you need to use tf.keras.optimizers.Adam (not \"adam\")\n",
        "                metrics=[\"accuracy\"])\n",
        "\n",
        "# Fit the model for 20 epochs (5 less than before)\n",
        "history = model_10.fit(X_train, y_train, epochs=20)"
      ]
    },
    {
      "cell_type": "markdown",
      "metadata": {
        "id": "qb9xwISc0pnF"
      },
      "source": [
        "Nice! With a little higher learning rate (`0.02` instead of `0.01`) we reach a higher accuracy than `model_8` in less epochs (`20` instead of `25`).\n",
        "\n",
        "> 🛠 **Practice:** Now you've seen an example of what can happen when you change the learning rate, try changing the learning rate value in the [TensorFlow Playground](https://playground.tensorflow.org/#activation=tanh&batchSize=10&dataset=circle&regDataset=reg-plane&learningRate=0.03&regularizationRate=0&noise=0&networkShape=4,2&seed=0.03154&showTestData=false&discretize=false&percTrainData=50&x=true&y=true&xTimesY=false&xSquared=false&ySquared=false&cosX=false&sinX=false&cosY=false&sinY=false&collectStats=false&problem=classification&initZero=false&hideText=false&regularization_hide=true&regularizationRate_hide=true&problem_hide=true) and see what happens. What happens if you increase it? What happens if you decrease it?\n",
        "\n"
      ]
    },
    {
      "cell_type": "code",
      "execution_count": 107,
      "metadata": {
        "colab": {
          "base_uri": "https://localhost:8080/"
        },
        "id": "3ZCYAqitKUk2",
        "outputId": "450f876b-7bdc-4cfb-c838-18cf76bd4942"
      },
      "outputs": [
        {
          "name": "stdout",
          "output_type": "stream",
          "text": [
            "7/7 [==============================] - 0s 1ms/step - loss: 0.0574 - accuracy: 0.9900\n"
          ]
        },
        {
          "data": {
            "text/plain": [
              "[0.057401761412620544, 0.9900000095367432]"
            ]
          },
          "execution_count": 107,
          "metadata": {},
          "output_type": "execute_result"
        }
      ],
      "source": [
        "# Evaluate model on the test dataset\n",
        "model_10.evaluate(X_test, y_test)"
      ]
    },
    {
      "cell_type": "markdown",
      "metadata": {
        "id": "YWqQShzZKT7R"
      },
      "source": [
        "\n",
        "\n",
        "Let's see how the predictions look."
      ]
    },
    {
      "cell_type": "code",
      "execution_count": 108,
      "metadata": {
        "colab": {
          "base_uri": "https://localhost:8080/",
          "height": 425
        },
        "id": "rJbzQ5kQ2HSh",
        "outputId": "25574b43-549b-4bdc-d5a8-ebf6036c59fb"
      },
      "outputs": [
        {
          "name": "stdout",
          "output_type": "stream",
          "text": [
            "doing binary classifcation...\n",
            "doing binary classifcation...\n"
          ]
        },
        {
          "data": {
            "image/png": "[encoded data removed]",
            "text/plain": [
              "<Figure size 864x432 with 2 Axes>"
            ]
          },
          "metadata": {
            "needs_background": "light"
          },
          "output_type": "display_data"
        }
      ],
      "source": [
        "# Plot the decision boundaries for the training and test sets\n",
        "plt.figure(figsize=(12, 6))\n",
        "plt.subplot(1, 2, 1)\n",
        "plt.title(\"Train\")\n",
        "plot_decision_boundary(model_10, X=X_train, y=y_train)\n",
        "plt.subplot(1, 2, 2)\n",
        "plt.title(\"Test\")\n",
        "plot_decision_boundary(model_10, X=X_test, y=y_test)\n",
        "plt.show()"
      ]
    },
    {
      "cell_type": "markdown",
      "metadata": {
        "id": "ppVLzAao2Hkl"
      },
      "source": [
        "And as we can see, almost perfect again.\n",
        "\n",
        "These are the kind of experiments you'll be running often when building your own models.\n",
        "\n",
        "Start with default settings and see how they perform on your data.\n",
        "\n",
        "And if they don't perform as well as you'd like, improve them.\n",
        "\n",
        "Let's look at a few more ways to evaluate our classification models."
      ]
    },
    {
      "cell_type": "markdown",
      "metadata": {
        "id": "0bNdy1EbftYp"
      },
      "source": [
        "### More classification evaluation methods\n",
        "\n",
        "Alongside the visualizations we've been making, there are a number of different evaluation metrics we can use to evaluate our classification models.\n",
        "\n",
        "| **Metric name/Evaluation method** | **Defintion** | **Code** |\n",
        "| --- | --- | --- |\n",
        "| Accuracy | Out of 100 predictions, how many does your model get correct? E.g. 95% accuracy means it gets 95/100 predictions correct. | [`sklearn.metrics.accuracy_score()`](https://scikit-learn.org/stable/modules/generated/sklearn.metrics.accuracy_score.html) or [`tf.keras.metrics.Accuracy()`](tensorflow.org/api_docs/python/tf/keras/metrics/Accuracy) |\n",
        "| Precision | Proportion of true positives over total number of samples. Higher precision leads to less false positives (model predicts 1 when it should've been 0). | [`sklearn.metrics.precision_score()`](https://scikit-learn.org/stable/modules/generated/sklearn.metrics.precision_score.html) or [`tf.keras.metrics.Precision()`](tensorflow.org/api_docs/python/tf/keras/metrics/Precision) |\n",
        "| Recall | Proportion of true positives over total number of true positives and false negatives (model predicts 0 when it should've been 1). Higher recall leads to less false negatives. | [`sklearn.metrics.recall_score()`](https://scikit-learn.org/stable/modules/generated/sklearn.metrics.recall_score.html) or [`tf.keras.metrics.Recall()`](tensorflow.org/api_docs/python/tf/keras/metrics/Recall) |\n",
        "| F1-score | Combines precision and recall into one metric. 1 is best, 0 is worst. | [`sklearn.metrics.f1_score()`](https://scikit-learn.org/stable/modules/generated/sklearn.metrics.f1_score.html) |\n",
        "| [Confusion matrix](https://www.dataschool.io/simple-guide-to-confusion-matrix-terminology/)  | Compares the predicted values with the true values in a tabular way, if 100% correct, all values in the matrix will be top left to bottom right (diagnol line). | Custom function or [`sklearn.metrics.plot_confusion_matrix()`](https://scikit-learn.org/stable/modules/generated/sklearn.metrics.plot_confusion_matrix.html) |\n",
        "| Classification report | Collection of some of the main classification metrics such as precision, recall and f1-score. | [`sklearn.metrics.classification_report()`](https://scikit-learn.org/stable/modules/generated/sklearn.metrics.classification_report.html) |\n",
        "\n",
        "> 🔑 **Note:** Every classification problem will require different kinds of evaluation methods. But you should be familiar with at least the ones above.\n",
        "\n",
        "Let's start with accuracy.\n",
        "\n",
        "Because we passed `[\"accuracy\"]` to the `metrics` parameter when we compiled our model, calling `evaluate()` on it will return the loss as well as accuracy."
      ]
    },
    {
      "cell_type": "code",
      "execution_count": 109,
      "metadata": {
        "colab": {
          "base_uri": "https://localhost:8080/"
        },
        "id": "LUvEwzqp4zVW",
        "outputId": "58de23cf-7936-49fb-ca3a-679446aa1285"
      },
      "outputs": [
        {
          "name": "stdout",
          "output_type": "stream",
          "text": [
            "7/7 [==============================] - 0s 965us/step - loss: 0.0574 - accuracy: 0.9900\n",
            "Model loss on test set: 0.057401761412620544\n",
            "Model accuracy on test set: 99.00%\n"
          ]
        }
      ],
      "source": [
        "# Check the accuracy of our model\n",
        "loss, accuracy = model_10.evaluate(X_test, y_test)\n",
        "print(f\"Model loss on test set: {loss}\")\n",
        "print(f\"Model accuracy on test set: {(accuracy*100):.2f}%\")"
      ]
    },
    {
      "cell_type": "markdown",
      "metadata": {
        "id": "a5fXPTGi5aRX"
      },
      "source": [
        "How about a confusion matrix?\n",
        "\n",
        "![anatomy of a confusion matrix](https://raw.githubusercontent.com/mrdbourke/tensorflow-deep-learning/main/images/02-anatomy-of-a-confusion-matrix.png)\n",
        "*Anatomy of a confusion matrix (what we're going to be creating). Correct predictions appear down the diagonal (from top left to bottom right).*\n",
        "\n",
        "We can make a confusion matrix using [Scikit-Learn's `confusion_matrix`](https://scikit-learn.org/stable/modules/generated/sklearn.metrics.confusion_matrix.html) method."
      ]
    },
    {
      "cell_type": "code",
      "execution_count": 110,
      "metadata": {
        "colab": {
          "base_uri": "https://localhost:8080/"
        },
        "id": "dea1qPbdaYKY",
        "outputId": "0587c54f-2e7c-4646-8857-f0ce962b1e0d"
      },
      "outputs": [
        {
          "ename": "NameError",
          "evalue": "name 'y_preds' is not defined",
          "output_type": "error",
          "traceback": [
            "\u001b[0;31m---------------------------------------------------------------------------\u001b[0m",
            "\u001b[0;31mNameError\u001b[0m                                 Traceback (most recent call last)",
            "\u001b[1;32m/home/ahsan/tensorflow-learning-master/02_neural_network_classification_in_tensorflow.ipynb Cell 113'\u001b[0m in \u001b[0;36m<cell line: 1>\u001b[0;34m()\u001b[0m\n\u001b[0;32m----> <a href='vscode-notebook-cell:/home/ahsan/tensorflow-learning-master/02_neural_network_classification_in_tensorflow.ipynb#ch0000112?line=0'>1</a>\u001b[0m y_test, y_preds\n",
            "\u001b[0;31mNameError\u001b[0m: name 'y_preds' is not defined"
          ]
        }
      ],
      "source": [
        "y_test, y_preds"
      ]
    },
    {
      "cell_type": "code",
      "execution_count": null,
      "metadata": {
        "colab": {
          "base_uri": "https://localhost:8080/",
          "height": 346
        },
        "id": "g_Zee4lI5vi2",
        "outputId": "0edbbb3c-d52e-4628-caaf-1a1dd2b208fa"
      },
      "outputs": [
        {
          "ename": "ValueError",
          "evalue": "ignored",
          "output_type": "error",
          "traceback": [
            "\u001b[0;31m---------------------------------------------------------------------------\u001b[0m",
            "\u001b[0;31mValueError\u001b[0m                                Traceback (most recent call last)",
            "\u001b[0;32m<ipython-input-62-f9843efd97f5>\u001b[0m in \u001b[0;36m<module>\u001b[0;34m()\u001b[0m\n\u001b[1;32m      6\u001b[0m \u001b[0;34m\u001b[0m\u001b[0m\n\u001b[1;32m      7\u001b[0m \u001b[0;31m# Create confusion matrix\u001b[0m\u001b[0;34m\u001b[0m\u001b[0;34m\u001b[0m\u001b[0;34m\u001b[0m\u001b[0m\n\u001b[0;32m----> 8\u001b[0;31m \u001b[0mconfusion_matrix\u001b[0m\u001b[0;34m(\u001b[0m\u001b[0my_test\u001b[0m\u001b[0;34m,\u001b[0m \u001b[0my_preds\u001b[0m\u001b[0;34m)\u001b[0m\u001b[0;34m\u001b[0m\u001b[0;34m\u001b[0m\u001b[0m\n\u001b[0m",
            "\u001b[0;32m/usr/local/lib/python3.7/dist-packages/sklearn/metrics/_classification.py\u001b[0m in \u001b[0;36mconfusion_matrix\u001b[0;34m(y_true, y_pred, labels, sample_weight, normalize)\u001b[0m\n\u001b[1;32m    305\u001b[0m     \u001b[0;34m(\u001b[0m\u001b[0;36m0\u001b[0m\u001b[0;34m,\u001b[0m \u001b[0;36m2\u001b[0m\u001b[0;34m,\u001b[0m \u001b[0;36m1\u001b[0m\u001b[0;34m,\u001b[0m \u001b[0;36m1\u001b[0m\u001b[0;34m)\u001b[0m\u001b[0;34m\u001b[0m\u001b[0;34m\u001b[0m\u001b[0m\n\u001b[1;32m    306\u001b[0m     \"\"\"\n\u001b[0;32m--> 307\u001b[0;31m     \u001b[0my_type\u001b[0m\u001b[0;34m,\u001b[0m \u001b[0my_true\u001b[0m\u001b[0;34m,\u001b[0m \u001b[0my_pred\u001b[0m \u001b[0;34m=\u001b[0m \u001b[0m_check_targets\u001b[0m\u001b[0;34m(\u001b[0m\u001b[0my_true\u001b[0m\u001b[0;34m,\u001b[0m \u001b[0my_pred\u001b[0m\u001b[0;34m)\u001b[0m\u001b[0;34m\u001b[0m\u001b[0;34m\u001b[0m\u001b[0m\n\u001b[0m\u001b[1;32m    308\u001b[0m     \u001b[0;32mif\u001b[0m \u001b[0my_type\u001b[0m \u001b[0;32mnot\u001b[0m \u001b[0;32min\u001b[0m \u001b[0;34m(\u001b[0m\u001b[0;34m\"binary\"\u001b[0m\u001b[0;34m,\u001b[0m \u001b[0;34m\"multiclass\"\u001b[0m\u001b[0;34m)\u001b[0m\u001b[0;34m:\u001b[0m\u001b[0;34m\u001b[0m\u001b[0;34m\u001b[0m\u001b[0m\n\u001b[1;32m    309\u001b[0m         \u001b[0;32mraise\u001b[0m \u001b[0mValueError\u001b[0m\u001b[0;34m(\u001b[0m\u001b[0;34m\"%s is not supported\"\u001b[0m \u001b[0;34m%\u001b[0m \u001b[0my_type\u001b[0m\u001b[0;34m)\u001b[0m\u001b[0;34m\u001b[0m\u001b[0;34m\u001b[0m\u001b[0m\n",
            "\u001b[0;32m/usr/local/lib/python3.7/dist-packages/sklearn/metrics/_classification.py\u001b[0m in \u001b[0;36m_check_targets\u001b[0;34m(y_true, y_pred)\u001b[0m\n\u001b[1;32m     93\u001b[0m         raise ValueError(\n\u001b[1;32m     94\u001b[0m             \"Classification metrics can't handle a mix of {0} and {1} targets\".format(\n\u001b[0;32m---> 95\u001b[0;31m                 \u001b[0mtype_true\u001b[0m\u001b[0;34m,\u001b[0m \u001b[0mtype_pred\u001b[0m\u001b[0;34m\u001b[0m\u001b[0;34m\u001b[0m\u001b[0m\n\u001b[0m\u001b[1;32m     96\u001b[0m             )\n\u001b[1;32m     97\u001b[0m         )\n",
            "\u001b[0;31mValueError\u001b[0m: Classification metrics can't handle a mix of binary and continuous targets"
          ]
        }
      ],
      "source": [
        "# Create a confusion matrix\n",
        "from sklearn.metrics import confusion_matrix\n",
        "\n",
        "# Make predictions\n",
        "y_preds = model_10.predict(X_test)\n",
        "\n",
        "# Create confusion matrix\n",
        "confusion_matrix(y_test, y_preds)"
      ]
    },
    {
      "cell_type": "markdown",
      "metadata": {
        "id": "4GLOPxx9fx__"
      },
      "source": [
        "Ahh, it seems our predictions aren't in the format they need to be.\n",
        "\n",
        "Let's check them out."
      ]
    },
    {
      "cell_type": "code",
      "execution_count": null,
      "metadata": {
        "colab": {
          "base_uri": "https://localhost:8080/"
        },
        "id": "aLBs249Gfu-W",
        "outputId": "9c771f53-1ea4-4d00-ae95-604c4862d725"
      },
      "outputs": [
        {
          "data": {
            "text/plain": [
              "array([[9.8526537e-01],\n",
              "       [9.9923790e-01],\n",
              "       [9.9032348e-01],\n",
              "       [9.9706942e-01],\n",
              "       [3.9622977e-01],\n",
              "       [1.8126935e-02],\n",
              "       [9.6829069e-01],\n",
              "       [1.9746721e-02],\n",
              "       [9.9967170e-01],\n",
              "       [5.6460500e-04]], dtype=float32)"
            ]
          },
          "execution_count": 63,
          "metadata": {},
          "output_type": "execute_result"
        }
      ],
      "source": [
        "# View the first 10 predictions\n",
        "y_preds[:10]"
      ]
    },
    {
      "cell_type": "markdown",
      "metadata": {
        "id": "zacw9BNegVkY"
      },
      "source": [
        "What about our test labels?"
      ]
    },
    {
      "cell_type": "code",
      "execution_count": null,
      "metadata": {
        "colab": {
          "base_uri": "https://localhost:8080/"
        },
        "id": "3BH8XHAegYMd",
        "outputId": "4bde0646-b3ce-4d77-b36c-7c5a696c3995"
      },
      "outputs": [
        {
          "data": {
            "text/plain": [
              "array([1, 1, 1, 1, 0, 0, 1, 0, 1, 0])"
            ]
          },
          "execution_count": 64,
          "metadata": {},
          "output_type": "execute_result"
        }
      ],
      "source": [
        "# View the first 10 test labels\n",
        "y_test[:10]"
      ]
    },
    {
      "cell_type": "markdown",
      "metadata": {
        "id": "4vd8EA95ggks"
      },
      "source": [
        "It looks like we need to get our predictions into the binary format (0 or 1).\n",
        "\n",
        "But you might be wondering, what format are they currently in?\n",
        "\n",
        "In their current format (`9.8526537e-01`), they're in a form called **prediction probabilities**.\n",
        "\n",
        "You'll see this often with the outputs of neural networks. Often they won't be exact values but more a probability of how *likely* they are to be one value or another.\n",
        "\n",
        "So one of the steps you'll often see after making predicitons with a neural network is converting the prediction probabilities into labels.\n",
        "\n",
        "In our case, since our ground truth labels (`y_test`) are binary (0 or 1), we can convert the prediction probabilities using to their binary form using [`tf.round()`](https://www.tensorflow.org/api_docs/python/tf/math/round)."
      ]
    },
    {
      "cell_type": "code",
      "execution_count": null,
      "metadata": {
        "colab": {
          "base_uri": "https://localhost:8080/"
        },
        "id": "YaS_yvGA6KV3",
        "outputId": "dac2a241-67f8-4642-f470-97808aed90bf"
      },
      "outputs": [
        {
          "data": {
            "text/plain": [
              "<tf.Tensor: shape=(10, 1), dtype=float32, numpy=\n",
              "array([[1.],\n",
              "       [1.],\n",
              "       [1.],\n",
              "       [1.],\n",
              "       [0.],\n",
              "       [0.],\n",
              "       [1.],\n",
              "       [0.],\n",
              "       [1.],\n",
              "       [0.]], dtype=float32)>"
            ]
          },
          "execution_count": 65,
          "metadata": {},
          "output_type": "execute_result"
        }
      ],
      "source": [
        "# Convert prediction probabilities to binary format and view the first 10\n",
        "tf.round(y_preds)[:10]"
      ]
    },
    {
      "cell_type": "markdown",
      "metadata": {
        "id": "mLvWYgFIh_A9"
      },
      "source": [
        "Wonderful! Now we can use the `confusion_matrix` function."
      ]
    },
    {
      "cell_type": "code",
      "execution_count": null,
      "metadata": {
        "colab": {
          "base_uri": "https://localhost:8080/"
        },
        "id": "GEZx1WHCiC8n",
        "outputId": "db453fd9-bbec-435b-85ab-f787048a5dcf"
      },
      "outputs": [
        {
          "data": {
            "text/plain": [
              "array([[99,  2],\n",
              "       [ 0, 99]])"
            ]
          },
          "execution_count": 66,
          "metadata": {},
          "output_type": "execute_result"
        }
      ],
      "source": [
        "# Create a confusion matrix\n",
        "confusion_matrix(y_test, tf.round(y_preds))"
      ]
    },
    {
      "cell_type": "markdown",
      "metadata": {
        "id": "VY1LmNeTiKHl"
      },
      "source": [
        "Alright, we can see the highest numbers are down the diagonal (from top left to bottom right) so this a good sign, but the rest of the matrix doesn't really tell us much.\n",
        "\n",
        "How about we make a function to make our confusion matrix a little more visual?"
      ]
    },
    {
      "cell_type": "code",
      "execution_count": null,
      "metadata": {
        "colab": {
          "base_uri": "https://localhost:8080/",
          "height": 580
        },
        "id": "IIPSs9ERi78w",
        "outputId": "b0fe5fa5-c17b-4eac-b61b-6aa48e77d454"
      },
      "outputs": [
        {
          "data": {
            "image/png": "[encoded data removed]",
            "text/plain": [
              "<Figure size 720x720 with 2 Axes>"
            ]
          },
          "metadata": {
            "needs_background": "light"
          },
          "output_type": "display_data"
        }
      ],
      "source": [
        "# Note: The following confusion matrix code is a remix of Scikit-Learn's \n",
        "# plot_confusion_matrix function - https://scikit-learn.org/stable/modules/generated/sklearn.metrics.plot_confusion_matrix.html\n",
        "# and Made with ML's introductory notebook - https://github.com/GokuMohandas/MadeWithML/blob/main/notebooks/08_Neural_Networks.ipynb \n",
        "import itertools\n",
        "\n",
        "figsize = (10, 10)\n",
        "\n",
        "# Create the confusion matrix\n",
        "cm = confusion_matrix(y_test, tf.round(y_preds))\n",
        "cm_norm = cm.astype(\"float\") / cm.sum(axis=1)[:, np.newaxis] # normalize it\n",
        "n_classes = cm.shape[0]\n",
        "\n",
        "# Let's prettify it\n",
        "fig, ax = plt.subplots(figsize=figsize)\n",
        "# Create a matrix plot\n",
        "cax = ax.matshow(cm, cmap=plt.cm.Blues) # https://matplotlib.org/3.2.0/api/_as_gen/matplotlib.axes.Axes.matshow.html\n",
        "fig.colorbar(cax)\n",
        "\n",
        "# Create classes\n",
        "classes = False\n",
        "\n",
        "if classes:\n",
        "  labels = classes\n",
        "else:\n",
        "  labels = np.arange(cm.shape[0])\n",
        "\n",
        "# Label the axes\n",
        "ax.set(title=\"Confusion Matrix\",\n",
        "       xlabel=\"Predicted label\",\n",
        "       ylabel=\"True label\",\n",
        "       xticks=np.arange(n_classes),\n",
        "       yticks=np.arange(n_classes),\n",
        "       xticklabels=labels,\n",
        "       yticklabels=labels)\n",
        "\n",
        "# Set x-axis labels to bottom\n",
        "ax.xaxis.set_label_position(\"bottom\")\n",
        "ax.xaxis.tick_bottom()\n",
        "\n",
        "# Adjust label size\n",
        "ax.xaxis.label.set_size(20)\n",
        "ax.yaxis.label.set_size(20)\n",
        "ax.title.set_size(20)\n",
        "\n",
        "# Set threshold for different colors\n",
        "threshold = (cm.max() + cm.min()) / 2.\n",
        "\n",
        "# Plot the text on each cell\n",
        "for i, j in itertools.product(range(cm.shape[0]), range(cm.shape[1])):\n",
        "  plt.text(j, i, f\"{cm[i, j]} ({cm_norm[i, j]*100:.1f}%)\",\n",
        "           horizontalalignment=\"center\",\n",
        "           color=\"white\" if cm[i, j] > threshold else \"black\",\n",
        "           size=15)"
      ]
    },
    {
      "cell_type": "markdown",
      "metadata": {
        "id": "0EaKOeeNnWbq"
      },
      "source": [
        "That looks much better. It seems our model has made almost perfect predictions on the test set except for two false positives (top right corner)."
      ]
    },
    {
      "cell_type": "code",
      "execution_count": null,
      "metadata": {
        "colab": {
          "base_uri": "https://localhost:8080/"
        },
        "id": "ZvNQjM-rk7uE",
        "outputId": "13f20840-bf32-4df1-8839-4f014717b7da"
      },
      "outputs": [
        {
          "name": "stdout",
          "output_type": "stream",
          "text": [
            "0 0\n",
            "0 1\n",
            "1 0\n",
            "1 1\n"
          ]
        }
      ],
      "source": [
        "# What does itertools.product do? Combines two things into each combination\n",
        "import itertools\n",
        "for i, j in itertools.product(range(cm.shape[0]), range(cm.shape[1])):\n",
        "  print(i, j)"
      ]
    },
    {
      "cell_type": "markdown",
      "metadata": {
        "id": "2WLKnUi6fI6B"
      },
      "source": [
        "## Working with a larger example (multiclass classification)\n",
        "\n",
        "We've seen a binary classification example (predicting if a data point is part of a red circle or blue circle) but what if you had multiple different classes of things?\n",
        "\n",
        "For example, say you were a fashion company and you wanted to build a neural network to predict whether a piece of clothing was a shoe, a shirt or a jacket (3 different options).\n",
        "\n",
        "When you have more than two classes as an option, this is known as **multiclass classification**.\n",
        "\n",
        "The good news is, the things we've learned so far (with a few tweaks) can be applied to multiclass classification problems as well.\n",
        "\n",
        "Let's see it in action.\n",
        "\n",
        "To start, we'll need some data. The good thing for us is TensorFlow has a multiclass classication dataset known as [Fashion MNIST built-in](https://github.com/zalandoresearch/fashion-mnist). Meaning we can get started straight away.\n",
        "\n",
        "We can import it using the [`tf.keras.datasets`](https://www.tensorflow.org/api_docs/python/tf/keras/datasets) module.\n",
        "\n",
        "> 📖 **Resource:** The following multiclass classification problem has been adapted from the [TensorFlow classification guide](https://www.tensorflow.org/tutorials/keras/classification). A good exercise would be to once you've gone through the following example, replicate the TensorFlow guide."
      ]
    },
    {
      "cell_type": "code",
      "execution_count": null,
      "metadata": {
        "colab": {
          "base_uri": "https://localhost:8080/"
        },
        "id": "zl50sxPTqpw4",
        "outputId": "3daf3c0b-7031-4119-cff5-f869ea800e17"
      },
      "outputs": [
        {
          "name": "stdout",
          "output_type": "stream",
          "text": [
            "Downloading data from https://storage.googleapis.com/tensorflow/tf-keras-datasets/train-labels-idx1-ubyte.gz\n",
            "32768/29515 [=================================] - 0s 0us/step\n",
            "40960/29515 [=========================================] - 0s 0us/step\n",
            "Downloading data from https://storage.googleapis.com/tensorflow/tf-keras-datasets/train-images-idx3-ubyte.gz\n",
            "26427392/26421880 [==============================] - 0s 0us/step\n",
            "26435584/26421880 [==============================] - 0s 0us/step\n",
            "Downloading data from https://storage.googleapis.com/tensorflow/tf-keras-datasets/t10k-labels-idx1-ubyte.gz\n",
            "16384/5148 [===============================================================================================] - 0s 0us/step\n",
            "Downloading data from https://storage.googleapis.com/tensorflow/tf-keras-datasets/t10k-images-idx3-ubyte.gz\n",
            "4423680/4422102 [==============================] - 0s 0us/step\n",
            "4431872/4422102 [==============================] - 0s 0us/step\n"
          ]
        }
      ],
      "source": [
        "import tensorflow as tf\n",
        "from tensorflow.keras.datasets import fashion_mnist\n",
        "\n",
        "# The data has already been sorted into training and test sets for us\n",
        "(train_data, train_labels), (test_data, test_labels) = fashion_mnist.load_data()"
      ]
    },
    {
      "cell_type": "markdown",
      "metadata": {
        "id": "D6qJforMrCZy"
      },
      "source": [
        "Now let's check out an example."
      ]
    },
    {
      "cell_type": "code",
      "execution_count": null,
      "metadata": {
        "colab": {
          "base_uri": "https://localhost:8080/"
        },
        "id": "8PWdrQsyrBcy",
        "outputId": "19c94d9f-d709-4bfd-d6bc-5482d9e69d47"
      },
      "outputs": [
        {
          "name": "stdout",
          "output_type": "stream",
          "text": [
            "Training sample:\n",
            "[[  0   0   0   0   0   0   0   0   0   0   0   0   0   0   0   0   0   0\n",
            "    0   0   0   0   0   0   0   0   0   0]\n",
            " [  0   0   0   0   0   0   0   0   0   0   0   0   0   0   0   0   0   0\n",
            "    0   0   0   0   0   0   0   0   0   0]\n",
            " [  0   0   0   0   0   0   0   0   0   0   0   0   0   0   0   0   0   0\n",
            "    0   0   0   0   0   0   0   0   0   0]\n",
            " [  0   0   0   0   0   0   0   0   0   0   0   0   1   0   0  13  73   0\n",
            "    0   1   4   0   0   0   0   1   1   0]\n",
            " [  0   0   0   0   0   0   0   0   0   0   0   0   3   0  36 136 127  62\n",
            "   54   0   0   0   1   3   4   0   0   3]\n",
            " [  0   0   0   0   0   0   0   0   0   0   0   0   6   0 102 204 176 134\n",
            "  144 123  23   0   0   0   0  12  10   0]\n",
            " [  0   0   0   0   0   0   0   0   0   0   0   0   0   0 155 236 207 178\n",
            "  107 156 161 109  64  23  77 130  72  15]\n",
            " [  0   0   0   0   0   0   0   0   0   0   0   1   0  69 207 223 218 216\n",
            "  216 163 127 121 122 146 141  88 172  66]\n",
            " [  0   0   0   0   0   0   0   0   0   1   1   1   0 200 232 232 233 229\n",
            "  223 223 215 213 164 127 123 196 229   0]\n",
            " [  0   0   0   0   0   0   0   0   0   0   0   0   0 183 225 216 223 228\n",
            "  235 227 224 222 224 221 223 245 173   0]\n",
            " [  0   0   0   0   0   0   0   0   0   0   0   0   0 193 228 218 213 198\n",
            "  180 212 210 211 213 223 220 243 202   0]\n",
            " [  0   0   0   0   0   0   0   0   0   1   3   0  12 219 220 212 218 192\n",
            "  169 227 208 218 224 212 226 197 209  52]\n",
            " [  0   0   0   0   0   0   0   0   0   0   6   0  99 244 222 220 218 203\n",
            "  198 221 215 213 222 220 245 119 167  56]\n",
            " [  0   0   0   0   0   0   0   0   0   4   0   0  55 236 228 230 228 240\n",
            "  232 213 218 223 234 217 217 209  92   0]\n",
            " [  0   0   1   4   6   7   2   0   0   0   0   0 237 226 217 223 222 219\n",
            "  222 221 216 223 229 215 218 255  77   0]\n",
            " [  0   3   0   0   0   0   0   0   0  62 145 204 228 207 213 221 218 208\n",
            "  211 218 224 223 219 215 224 244 159   0]\n",
            " [  0   0   0   0  18  44  82 107 189 228 220 222 217 226 200 205 211 230\n",
            "  224 234 176 188 250 248 233 238 215   0]\n",
            " [  0  57 187 208 224 221 224 208 204 214 208 209 200 159 245 193 206 223\n",
            "  255 255 221 234 221 211 220 232 246   0]\n",
            " [  3 202 228 224 221 211 211 214 205 205 205 220 240  80 150 255 229 221\n",
            "  188 154 191 210 204 209 222 228 225   0]\n",
            " [ 98 233 198 210 222 229 229 234 249 220 194 215 217 241  65  73 106 117\n",
            "  168 219 221 215 217 223 223 224 229  29]\n",
            " [ 75 204 212 204 193 205 211 225 216 185 197 206 198 213 240 195 227 245\n",
            "  239 223 218 212 209 222 220 221 230  67]\n",
            " [ 48 203 183 194 213 197 185 190 194 192 202 214 219 221 220 236 225 216\n",
            "  199 206 186 181 177 172 181 205 206 115]\n",
            " [  0 122 219 193 179 171 183 196 204 210 213 207 211 210 200 196 194 191\n",
            "  195 191 198 192 176 156 167 177 210  92]\n",
            " [  0   0  74 189 212 191 175 172 175 181 185 188 189 188 193 198 204 209\n",
            "  210 210 211 188 188 194 192 216 170   0]\n",
            " [  2   0   0   0  66 200 222 237 239 242 246 243 244 221 220 193 191 179\n",
            "  182 182 181 176 166 168  99  58   0   0]\n",
            " [  0   0   0   0   0   0   0  40  61  44  72  41  35   0   0   0   0   0\n",
            "    0   0   0   0   0   0   0   0   0   0]\n",
            " [  0   0   0   0   0   0   0   0   0   0   0   0   0   0   0   0   0   0\n",
            "    0   0   0   0   0   0   0   0   0   0]\n",
            " [  0   0   0   0   0   0   0   0   0   0   0   0   0   0   0   0   0   0\n",
            "    0   0   0   0   0   0   0   0   0   0]]\n",
            "\n",
            "Training label: 9\n"
          ]
        }
      ],
      "source": [
        "# Show the first training example\n",
        "print(f\"Training sample:\\n{train_data[0]}\\n\") \n",
        "print(f\"Training label: {train_labels[0]}\")"
      ]
    },
    {
      "cell_type": "markdown",
      "metadata": {
        "id": "MMqbRp8jrdtv"
      },
      "source": [
        "Woah, we get a large list of numbers, followed (the data) by a single number (the class label).\n",
        "\n",
        "What about the shapes?"
      ]
    },
    {
      "cell_type": "code",
      "execution_count": null,
      "metadata": {
        "colab": {
          "base_uri": "https://localhost:8080/"
        },
        "id": "gN5-jr6arj19",
        "outputId": "59b9c2c9-ba2a-4ecd-d32a-99fc6df4a11c"
      },
      "outputs": [
        {
          "data": {
            "text/plain": [
              "((60000, 28, 28), (60000,), (10000, 28, 28), (10000,))"
            ]
          },
          "execution_count": 72,
          "metadata": {},
          "output_type": "execute_result"
        }
      ],
      "source": [
        "# Check the shape of our data\n",
        "train_data.shape, train_labels.shape, test_data.shape, test_labels.shape"
      ]
    },
    {
      "cell_type": "code",
      "execution_count": null,
      "metadata": {
        "colab": {
          "base_uri": "https://localhost:8080/"
        },
        "id": "wNfIOUUEsJRt",
        "outputId": "02e5ea26-6e5e-4c1f-aab8-a13da4429888"
      },
      "outputs": [
        {
          "data": {
            "text/plain": [
              "((28, 28), ())"
            ]
          },
          "execution_count": 73,
          "metadata": {},
          "output_type": "execute_result"
        }
      ],
      "source": [
        "# Check shape of a single example\n",
        "train_data[0].shape, train_labels[0].shape"
      ]
    },
    {
      "cell_type": "markdown",
      "metadata": {
        "id": "r2wW0cEfsAve"
      },
      "source": [
        "Okay, 60,000 training examples each with shape (28, 28) and a label each as well as 10,000 test examples of shape (28, 28).\n",
        "\n",
        "But these are just numbers, let's visualize."
      ]
    },
    {
      "cell_type": "code",
      "execution_count": null,
      "metadata": {
        "colab": {
          "base_uri": "https://localhost:8080/",
          "height": 265
        },
        "id": "RmC2VsWOscKP",
        "outputId": "b705c713-f04f-4424-d282-72fcbf895571"
      },
      "outputs": [
        {
          "data": {
            "image/png": "[encoded data removed]",
            "text/plain": [
              "<Figure size 432x288 with 1 Axes>"
            ]
          },
          "metadata": {
            "needs_background": "light"
          },
          "output_type": "display_data"
        }
      ],
      "source": [
        "# Plot a single example\n",
        "import matplotlib.pyplot as plt\n",
        "plt.imshow(train_data[7]);"
      ]
    },
    {
      "cell_type": "markdown",
      "metadata": {
        "id": "sOqirdtfstdQ"
      },
      "source": [
        "Hmm, but what about its label?"
      ]
    },
    {
      "cell_type": "code",
      "execution_count": null,
      "metadata": {
        "colab": {
          "base_uri": "https://localhost:8080/"
        },
        "id": "hzTDEpaYsxga",
        "outputId": "575cc836-ce07-427e-8532-5a4585ab6f26"
      },
      "outputs": [
        {
          "data": {
            "text/plain": [
              "2"
            ]
          },
          "execution_count": 75,
          "metadata": {},
          "output_type": "execute_result"
        }
      ],
      "source": [
        "# Check our samples label\n",
        "train_labels[7]"
      ]
    },
    {
      "cell_type": "markdown",
      "metadata": {
        "id": "ZHdVBrCUs10A"
      },
      "source": [
        "It looks like our labels are in numerical form. And while this is fine for a neural network, you might want to have them in human readable form.\n",
        "\n",
        "Let's create a small list of the class names (we can find them on [the dataset's GitHub page](https://github.com/zalandoresearch/fashion-mnist#labels)).\n",
        "\n",
        "> 🔑 **Note:** Whilst this dataset has been prepared for us and ready to go, it's important to remember many datasets won't be ready to go like this one. Often you'll have to do a few preprocessing steps to have it ready to use with a neural network (we'll see more of this when we work with our own data later)."
      ]
    },
    {
      "cell_type": "code",
      "execution_count": null,
      "metadata": {
        "colab": {
          "base_uri": "https://localhost:8080/"
        },
        "id": "uGOi32T8s1ai",
        "outputId": "94d2bc85-9c00-47f0-def0-ee794bfe8815"
      },
      "outputs": [
        {
          "data": {
            "text/plain": [
              "10"
            ]
          },
          "execution_count": 76,
          "metadata": {},
          "output_type": "execute_result"
        }
      ],
      "source": [
        "class_names = ['T-shirt/top', 'Trouser', 'Pullover', 'Dress', 'Coat', \n",
        "               'Sandal', 'Shirt', 'Sneaker', 'Bag', 'Ankle boot']\n",
        "\n",
        "# How many classes are there (this'll be our output shape)?\n",
        "len(class_names)"
      ]
    },
    {
      "cell_type": "markdown",
      "metadata": {
        "id": "zOiwINQQtzys"
      },
      "source": [
        "Now we have these, let's plot another example.\n",
        "\n",
        "> 🤔 **Question:** Pay particular attention to what the data we're working with *looks* like. Is it only straight lines? Or does it have non-straight lines as well? Do you think if we wanted to find patterns in the photos of clothes (which are actually collections of pixels), will our model need non-linearities (non-straight lines) or not?"
      ]
    },
    {
      "cell_type": "code",
      "execution_count": null,
      "metadata": {
        "colab": {
          "base_uri": "https://localhost:8080/",
          "height": 281
        },
        "id": "_qD40id2tytn",
        "outputId": "a7e3fa51-a0b2-4770-887d-aeb46803b5c7"
      },
      "outputs": [
        {
          "data": {
            "image/png": "[encoded data removed]",
            "text/plain": [
              "<Figure size 432x288 with 1 Axes>"
            ]
          },
          "metadata": {
            "needs_background": "light"
          },
          "output_type": "display_data"
        }
      ],
      "source": [
        "# Plot an example image and its label\n",
        "plt.imshow(train_data[17], cmap=plt.cm.binary) # change the colours to black & white\n",
        "plt.title(class_names[train_labels[17]]);"
      ]
    },
    {
      "cell_type": "code",
      "execution_count": null,
      "metadata": {
        "colab": {
          "base_uri": "https://localhost:8080/",
          "height": 427
        },
        "id": "Rtz9__w3s4JF",
        "outputId": "671590e4-fa10-4bfb-deaa-1f1add08f678"
      },
      "outputs": [
        {
          "data": {
            "image/png": "[encoded data removed]",
            "text/plain": [
              "<Figure size 504x504 with 4 Axes>"
            ]
          },
          "metadata": {
            "needs_background": "light"
          },
          "output_type": "display_data"
        }
      ],
      "source": [
        "# Plot multiple random images of fashion MNIST\n",
        "import random\n",
        "plt.figure(figsize=(7, 7))https://github.com/vinceliuice/Colloid-gtk-theme.git\n",
        "for i in range(4):\n",
        "  ax = plt.subplot(2, 2, i + 1)\n",
        "  rand_index = random.choice(range(len(train_data)))\n",
        "  plt.imshow(train_data[rand_index], cmap=plt.cm.binary)\n",
        "  plt.title(class_names[train_labels[rand_index]])\n",
        "  plt.axis(False)"
      ]
    },
    {
      "cell_type": "markdown",
      "metadata": {
        "id": "TLqZif3Rv0Aq"
      },
      "source": [
        "Alright, let's build a model to figure out the relationship between the pixel values and their labels.\n",
        "\n",
        "Since this is a multiclass classification problem, we'll need to make a few changes to our architecture (inline with Table 1 above):\n",
        "\n",
        "* The **input shape** will have to deal with 28x28 tensors (the height and width of our images).\n",
        "  * We're actually going to squash the input into a tensor (vector) of shape `(784)`.\n",
        "* The **output shape** will have to be 10 because we need our model to predict for 10 different classes.\n",
        "  * We'll also change the `activation` parameter of our output layer to be [`\"softmax\"`](https://www.tensorflow.org/api_docs/python/tf/keras/activations/softmax) instead of `'sigmoid'`. As we'll see the `\"softmax\"` activation function outputs a series of values between 0 & 1 (the same shape as **output shape**, which together add up to ~1. The index with the highest value is predicted by the model to be the most *likely* class.\n",
        "* We'll need to change our loss function from a binary loss function to a multiclass loss function. \n",
        "  * More specifically, since our labels are in integer form, we'll use [`tf.keras.losses.SparseCategoricalCrossentropy()`](https://www.tensorflow.org/versions/r2.0/api_docs/python/tf/keras/losses/SparseCategoricalCrossentropy), if our labels were one-hot encoded (e.g. they looked something like `[0, 0, 1, 0, 0...]`), we'd use [`tf.keras.losses.CategoricalCrossentropy()`](https://www.tensorflow.org/api_docs/python/tf/keras/losses/CategoricalCrossentropy).\n",
        "* We'll also use the `validation_data` parameter when calling the `fit()` function. This will give us an idea of how the model performs on the test set during training.\n",
        "\n",
        "You ready? Let's go."
      ]
    },
    {
      "cell_type": "code",
      "execution_count": null,
      "metadata": {
        "colab": {
          "base_uri": "https://localhost:8080/"
        },
        "id": "qUFHuzIpv30K",
        "outputId": "704b5420-eebb-42ab-a6f5-fae16c01664d"
      },
      "outputs": [
        {
          "name": "stdout",
          "output_type": "stream",
          "text": [
            "Epoch 1/10\n",
            "1875/1875 [==============================] - 5s 3ms/step - loss: 2.1671 - accuracy: 0.1606 - val_loss: 1.7959 - val_accuracy: 0.2046\n",
            "Epoch 2/10\n",
            "1875/1875 [==============================] - 4s 2ms/step - loss: 1.7066 - accuracy: 0.2509 - val_loss: 1.6567 - val_accuracy: 0.2805\n",
            "Epoch 3/10\n",
            "1875/1875 [==============================] - 4s 2ms/step - loss: 1.6321 - accuracy: 0.2806 - val_loss: 1.6094 - val_accuracy: 0.2857\n",
            "Epoch 4/10\n",
            "1875/1875 [==============================] - 4s 2ms/step - loss: 1.6052 - accuracy: 0.2833 - val_loss: 1.6041 - val_accuracy: 0.2859\n",
            "Epoch 5/10\n",
            "1875/1875 [==============================] - 4s 2ms/step - loss: 1.5975 - accuracy: 0.2862 - val_loss: 1.6064 - val_accuracy: 0.2756\n",
            "Epoch 6/10\n",
            "1875/1875 [==============================] - 4s 2ms/step - loss: 1.5950 - accuracy: 0.2920 - val_loss: 1.5747 - val_accuracy: 0.2994\n",
            "Epoch 7/10\n",
            "1875/1875 [==============================] - 4s 2ms/step - loss: 1.5775 - accuracy: 0.3040 - val_loss: 1.6030 - val_accuracy: 0.3000\n",
            "Epoch 8/10\n",
            "1875/1875 [==============================] - 4s 2ms/step - loss: 1.5708 - accuracy: 0.3175 - val_loss: 1.5635 - val_accuracy: 0.3315\n",
            "Epoch 9/10\n",
            "1875/1875 [==============================] - 4s 2ms/step - loss: 1.5638 - accuracy: 0.3280 - val_loss: 1.5534 - val_accuracy: 0.3334\n",
            "Epoch 10/10\n",
            "1875/1875 [==============================] - 4s 2ms/step - loss: 1.5432 - accuracy: 0.3346 - val_loss: 1.5390 - val_accuracy: 0.3549\n"
          ]
        }
      ],
      "source": [
        "# Set random seed\n",
        "tf.random.set_seed(42)\n",
        "\n",
        "# Create the model\n",
        "model_11 = tf.keras.Sequential([\n",
        "  tf.keras.layers.Flatten(input_shape=(28, 28)), # input layer (we had to reshape 28x28 to 784, the Flatten layer does this for us)\n",
        "  tf.keras.layers.Dense(4, activation=\"relu\"),\n",
        "  tf.keras.layers.Dense(4, activation=\"relu\"),\n",
        "  tf.keras.layers.Dense(10, activation=\"softmax\") # output shape is 10, activation is softmax\n",
        "])\n",
        "\n",
        "# Compile the model\n",
        "model_11.compile(loss=tf.keras.losses.SparseCategoricalCrossentropy(), # different loss function for multiclass classifcation\n",
        "                 optimizer=tf.keras.optimizers.Adam(),\n",
        "                 metrics=[\"accuracy\"])\n",
        "\n",
        "# Fit the model\n",
        "non_norm_history = model_11.fit(train_data,\n",
        "                                train_labels,\n",
        "                                epochs=10,\n",
        "                                validation_data=(test_data, test_labels)) # see how the model performs on the test set during training"
      ]
    },
    {
      "cell_type": "code",
      "execution_count": null,
      "metadata": {
        "id": "3hzYWEgoVJ_p"
      },
      "outputs": [],
      "source": [
        "# Check the shapes of our model\n",
        "# Note: the \"None\" in (None, 784) is for batch_size, we'll cover this in a later module\n",
        "model_11.summary()"
      ]
    },
    {
      "cell_type": "markdown",
      "metadata": {
        "id": "XRfkre59zSto"
      },
      "source": [
        "Alright, our model gets to about ~35% accuracy after 10 epochs using a similar style model to what we used on our binary classification problem.\n",
        "\n",
        "Which is better than guessing (guessing with 10 classes would result in about 10% accuracy) but we can do better.\n",
        "\n",
        "Do you remember when we talked about neural networks preferring numbers between 0 and 1? (if not, treat this as a reminder)\n",
        "\n",
        "Well, right now, the data we have isn't between 0 and 1, in other words, it's not normalized (hence why we used the `non_norm_history` variable when calling `fit()`). It's pixel values are between 0 and 255.\n",
        "\n",
        "Let's see."
      ]
    },
    {
      "cell_type": "code",
      "execution_count": null,
      "metadata": {
        "id": "tGiweanwz82_"
      },
      "outputs": [],
      "source": [
        "# Check the min and max values of the training data\n",
        "train_data.min(), train_data.max()"
      ]
    },
    {
      "cell_type": "markdown",
      "metadata": {
        "id": "syB7LOk30H0_"
      },
      "source": [
        "We can get these values between 0 and 1 by dividing the entire array by the maximum: `255.0` (dividing by a float also converts to a float).\n",
        "\n",
        "\n",
        "Doing so will result in all of our data being between 0 and 1 (known as **scaling** or **normalization**)."
      ]
    },
    {
      "cell_type": "code",
      "execution_count": null,
      "metadata": {
        "id": "ABRKp5U8voV_"
      },
      "outputs": [],
      "source": [
        "# Divide train and test images by the maximum value (normalize it)\n",
        "train_data = train_data / 255.0\n",
        "test_data = test_data / 255.0\n",
        "\n",
        "# Check the min and max values of the training data\n",
        "train_data.min(), train_data.max()"
      ]
    },
    {
      "cell_type": "markdown",
      "metadata": {
        "id": "LeYQEXOf06oo"
      },
      "source": [
        "Beautiful! Now our data is between 0 and 1. Let's see what happens when we model it.\n",
        "\n",
        "We'll use the same model as before (`model_11`) except this time the data will be normalized."
      ]
    },
    {
      "cell_type": "code",
      "execution_count": null,
      "metadata": {
        "id": "z1QRy7y_K_87"
      },
      "outputs": [],
      "source": [
        "# Set random seed\n",
        "tf.random.set_seed(42)\n",
        "\n",
        "# Create the model\n",
        "model_12 = tf.keras.Sequential([\n",
        "  tf.keras.layers.Flatten(input_shape=(28, 28)), # input layer (we had to reshape 28x28 to 784)\n",
        "  tf.keras.layers.Dense(4, activation=\"relu\"),\n",
        "  tf.keras.layers.Dense(4, activation=\"relu\"),\n",
        "  tf.keras.layers.Dense(10, activation=\"softmax\") # output shape is 10, activation is softmax\n",
        "])\n",
        "\n",
        "# Compile the model\n",
        "model_12.compile(loss=tf.keras.losses.SparseCategoricalCrossentropy(),\n",
        "                 optimizer=tf.keras.optimizers.Adam(),\n",
        "                 metrics=[\"accuracy\"])\n",
        "\n",
        "# Fit the model (to the normalized data)\n",
        "norm_history = model_12.fit(train_data,\n",
        "                            train_labels,\n",
        "                            epochs=10,\n",
        "                            validation_data=(test_data, test_labels))"
      ]
    },
    {
      "cell_type": "markdown",
      "metadata": {
        "id": "C_I2KNJiMWZ8"
      },
      "source": [
        "Woah, we used the exact same model as before but we with normalized data we're now seeing a much higher accuracy value!\n",
        "\n",
        "Let's plot each model's history (their loss curves)."
      ]
    },
    {
      "cell_type": "code",
      "execution_count": null,
      "metadata": {
        "id": "zmRcYU7xN1wQ"
      },
      "outputs": [],
      "source": [
        "import pandas as pd\n",
        "# Plot non-normalized data loss curves\n",
        "pd.DataFrame(non_norm_history.history).plot(title=\"Non-normalized Data\")\n",
        "# Plot normalized data loss curves\n",
        "pd.DataFrame(norm_history.history).plot(title=\"Normalized data\");"
      ]
    },
    {
      "cell_type": "markdown",
      "metadata": {
        "id": "VKm8MsACOm4j"
      },
      "source": [
        "Wow. From these two plots, we can see how much quicker our model with the normalized data (`model_12`) improved than the model with the non-normalized data (`model_11`).\n",
        "\n",
        "> 🔑 **Note:** The same model with even *slightly* different data can produce *dramatically* different results. So when you're comparing models, it's important to make sure you're comparing them on the same criteria (e.g. same architecture but different data or same data but different architecture).\n",
        "\n",
        "How about we find the ideal learning rate and see what happens?\n",
        "\n",
        "We'll use the same architecture we've been using."
      ]
    },
    {
      "cell_type": "code",
      "execution_count": null,
      "metadata": {
        "id": "LcR_wb4nPSb2"
      },
      "outputs": [],
      "source": [
        "# Set random seed\n",
        "tf.random.set_seed(42)\n",
        "\n",
        "# Create the model\n",
        "model_13 = tf.keras.Sequential([\n",
        "  tf.keras.layers.Flatten(input_shape=(28, 28)), # input layer (we had to reshape 28x28 to 784)\n",
        "  tf.keras.layers.Dense(4, activation=\"relu\"),\n",
        "  tf.keras.layers.Dense(4, activation=\"relu\"),\n",
        "  tf.keras.layers.Dense(10, activation=\"softmax\") # output shape is 10, activation is softmax\n",
        "])\n",
        "\n",
        "# Compile the model\n",
        "model_13.compile(loss=tf.keras.losses.SparseCategoricalCrossentropy(),\n",
        "                 optimizer=tf.keras.optimizers.Adam(),\n",
        "                 metrics=[\"accuracy\"])\n",
        "\n",
        "# Create the learning rate callback\n",
        "lr_scheduler = tf.keras.callbacks.LearningRateScheduler(lambda epoch: 1e-3 * 10**(epoch/20))\n",
        "\n",
        "# Fit the model\n",
        "find_lr_history = model_13.fit(train_data,\n",
        "                               train_labels,\n",
        "                               epochs=40, # model already doing pretty good with current LR, probably don't need 100 epochs\n",
        "                               validation_data=(test_data, test_labels),\n",
        "                               callbacks=[lr_scheduler])"
      ]
    },
    {
      "cell_type": "code",
      "execution_count": null,
      "metadata": {
        "id": "Hi2YODTwQ1ie"
      },
      "outputs": [],
      "source": [
        "# Plot the learning rate decay curve\n",
        "import numpy as np\n",
        "import matplotlib.pyplot as plt\n",
        "lrs = 1e-3 * (10**(np.arange(40)/20))\n",
        "plt.semilogx(lrs, find_lr_history.history[\"loss\"]) # want the x-axis to be log-scale\n",
        "plt.xlabel(\"Learning rate\")\n",
        "plt.ylabel(\"Loss\")\n",
        "plt.title(\"Finding the ideal learning rate\");"
      ]
    },
    {
      "cell_type": "markdown",
      "metadata": {
        "id": "GqtOjggqWcfS"
      },
      "source": [
        "In this case, it looks like somewhere close to the default learning rate of the [Adam optimizer](https://www.tensorflow.org/api_docs/python/tf/keras/optimizers/Adam) (`0.001`) is the ideal learning rate.\n",
        "\n",
        "Let's refit a model using the ideal learning rate."
      ]
    },
    {
      "cell_type": "code",
      "execution_count": null,
      "metadata": {
        "id": "i9KFhAwKXjWd"
      },
      "outputs": [],
      "source": [
        "# Set random seed\n",
        "tf.random.set_seed(42)\n",
        "\n",
        "# Create the model\n",
        "model_14 = tf.keras.Sequential([\n",
        "  tf.keras.layers.Flatten(input_shape=(28, 28)), # input layer (we had to reshape 28x28 to 784)\n",
        "  tf.keras.layers.Dense(4, activation=\"relu\"),\n",
        "  tf.keras.layers.Dense(4, activation=\"relu\"),\n",
        "  tf.keras.layers.Dense(10, activation=\"softmax\") # output shape is 10, activation is softmax\n",
        "])\n",
        "\n",
        "# Compile the model\n",
        "model_14.compile(loss=tf.keras.losses.SparseCategoricalCrossentropy(),\n",
        "                 optimizer=tf.keras.optimizers.Adam(lr=0.001), # ideal learning rate (same as default)\n",
        "                 metrics=[\"accuracy\"])\n",
        "\n",
        "# Fit the model\n",
        "history = model_14.fit(train_data,\n",
        "                       train_labels,\n",
        "                       epochs=20,\n",
        "                       validation_data=(test_data, test_labels))"
      ]
    },
    {
      "cell_type": "markdown",
      "metadata": {
        "id": "1ODWXAlnWqri"
      },
      "source": [
        "Now we've got a model trained with a close-to-ideal learning rate and performing pretty well, we've got a couple of options.\n",
        "\n",
        "We could:\n",
        "* Evaluate its performance using other classification metrics (such as a [confusion matrix](https://scikit-learn.org/stable/auto_examples/model_selection/plot_confusion_matrix.html#sphx-glr-auto-examples-model-selection-plot-confusion-matrix-py) or [classification report](https://scikit-learn.org/stable/modules/generated/sklearn.metrics.classification_report.html)).\n",
        "* Assess some of its predictions (through visualizations).\n",
        "* Improve its accuracy (by training it for longer or changing the architecture).\n",
        "* Save and export it for use in an application.\n",
        "\n",
        "Let's go through the first two options.\n",
        "\n",
        "First we'll create a classification matrix to visualize its predictions across the different classes."
      ]
    },
    {
      "cell_type": "code",
      "execution_count": null,
      "metadata": {
        "id": "jK4zA47sYVp5"
      },
      "outputs": [],
      "source": [
        "# Note: The following confusion matrix code is a remix of Scikit-Learn's \n",
        "# plot_confusion_matrix function - https://scikit-learn.org/stable/modules/generated/sklearn.metrics.plot_confusion_matrix.html\n",
        "# and Made with ML's introductory notebook - https://github.com/GokuMohandas/MadeWithML/blob/main/notebooks/08_Neural_Networks.ipynb\n",
        "import itertools\n",
        "from sklearn.metrics import confusion_matrix\n",
        "\n",
        "# Our function needs a different name to sklearn's plot_confusion_matrix\n",
        "def make_confusion_matrix(y_true, y_pred, classes=None, figsize=(10, 10), text_size=15): \n",
        "  \"\"\"Makes a labelled confusion matrix comparing predictions and ground truth labels.\n",
        "\n",
        "  If classes is passed, confusion matrix will be labelled, if not, integer class values\n",
        "  will be used.\n",
        "\n",
        "  Args:\n",
        "    y_true: Array of truth labels (must be same shape as y_pred).\n",
        "    y_pred: Array of predicted labels (must be same shape as y_true).\n",
        "    classes: Array of class labels (e.g. string form). If `None`, integer labels are used.\n",
        "    figsize: Size of output figure (default=(10, 10)).\n",
        "    text_size: Size of output figure text (default=15).\n",
        "  \n",
        "  Returns:\n",
        "    A labelled confusion matrix plot comparing y_true and y_pred.\n",
        "\n",
        "  Example usage:\n",
        "    make_confusion_matrix(y_true=test_labels, # ground truth test labels\n",
        "                          y_pred=y_preds, # predicted labels\n",
        "                          classes=class_names, # array of class label names\n",
        "                          figsize=(15, 15),\n",
        "                          text_size=10)\n",
        "  \"\"\"  \n",
        "  # Create the confustion matrix\n",
        "  cm = confusion_matrix(y_true, y_pred)\n",
        "  cm_norm = cm.astype(\"float\") / cm.sum(axis=1)[:, np.newaxis] # normalize it\n",
        "  n_classes = cm.shape[0] # find the number of classes we're dealing with\n",
        "\n",
        "  # Plot the figure and make it pretty\n",
        "  fig, ax = plt.subplots(figsize=figsize)\n",
        "  cax = ax.matshow(cm, cmap=plt.cm.Blues) # colors will represent how 'correct' a class is, darker == better\n",
        "  fig.colorbar(cax)\n",
        "\n",
        "  # Are there a list of classes?\n",
        "  if classes:\n",
        "    labels = classes\n",
        "  else:\n",
        "    labels = np.arange(cm.shape[0])\n",
        "  \n",
        "  # Label the axes\n",
        "  ax.set(title=\"Confusion Matrix\",\n",
        "         xlabel=\"Predicted label\",\n",
        "         ylabel=\"True label\",\n",
        "         xticks=np.arange(n_classes), # create enough axis slots for each class\n",
        "         yticks=np.arange(n_classes), \n",
        "         xticklabels=labels, # axes will labeled with class names (if they exist) or ints\n",
        "         yticklabels=labels)\n",
        "  \n",
        "  # Make x-axis labels appear on bottom\n",
        "  ax.xaxis.set_label_position(\"bottom\")\n",
        "  ax.xaxis.tick_bottom()\n",
        "\n",
        "  # Set the threshold for different colors\n",
        "  threshold = (cm.max() + cm.min()) / 2.\n",
        "\n",
        "  # Plot the text on each cell\n",
        "  for i, j in itertools.product(range(cm.shape[0]), range(cm.shape[1])):\n",
        "    plt.text(j, i, f\"{cm[i, j]} ({cm_norm[i, j]*100:.1f}%)\",\n",
        "             horizontalalignment=\"center\",\n",
        "             color=\"white\" if cm[i, j] > threshold else \"black\",\n",
        "             size=text_size)"
      ]
    },
    {
      "cell_type": "markdown",
      "metadata": {
        "id": "Mi5kNRyZdyXA"
      },
      "source": [
        "Since a confusion matrix compares the truth labels (`test_labels`) to the predicted labels, we have to make some predictions with our model."
      ]
    },
    {
      "cell_type": "code",
      "execution_count": null,
      "metadata": {
        "id": "HhxrXhrjbjja"
      },
      "outputs": [],
      "source": [
        "# Make predictions with the most recent model\n",
        "y_probs = model_14.predict(test_data) # \"probs\" is short for probabilities\n",
        "\n",
        "# View the first 5 predictions\n",
        "y_probs[:5]"
      ]
    },
    {
      "cell_type": "markdown",
      "metadata": {
        "id": "eP5zslXbf5ZY"
      },
      "source": [
        "Our model outputs a list of **prediction probabilities**, meaning, it outputs a number for how likely it thinks a particular class is to be the label.\n",
        "\n",
        "The higher the number in the prediction probabilities list, the more likely the model believes that is the right class.\n",
        "\n",
        "To find the highest value we can use the [`argmax()`](https://numpy.org/doc/stable/reference/generated/numpy.argmax.html) method."
      ]
    },
    {
      "cell_type": "code",
      "execution_count": null,
      "metadata": {
        "id": "hQvrJbbWf4Es"
      },
      "outputs": [],
      "source": [
        "# See the predicted class number and label for the first example\n",
        "y_probs[0].argmax(), class_names[y_probs[0].argmax()]"
      ]
    },
    {
      "cell_type": "markdown",
      "metadata": {
        "id": "BFPgnBCghrTz"
      },
      "source": [
        "Now let's do the same for all of the predictions."
      ]
    },
    {
      "cell_type": "code",
      "execution_count": null,
      "metadata": {
        "id": "ozUpeZU6g2An"
      },
      "outputs": [],
      "source": [
        "# Convert all of the predictions from probabilities to labels\n",
        "y_preds = y_probs.argmax(axis=1)\n",
        "\n",
        "# View the first 10 prediction labels\n",
        "y_preds[:10]"
      ]
    },
    {
      "cell_type": "markdown",
      "metadata": {
        "id": "47g1wNk6iYTd"
      },
      "source": [
        "Wonderful, now we've got our model's predictions in label form, let's create a confusion matrix to view them against the truth labels."
      ]
    },
    {
      "cell_type": "code",
      "execution_count": null,
      "metadata": {
        "id": "FBMSVSRqcU_m"
      },
      "outputs": [],
      "source": [
        "# Check out the non-prettified confusion matrix\n",
        "from sklearn.metrics import confusion_matrix\n",
        "confusion_matrix(y_true=test_labels, \n",
        "                 y_pred=y_preds)"
      ]
    },
    {
      "cell_type": "markdown",
      "metadata": {
        "id": "ql-TQxuYiqPl"
      },
      "source": [
        "That confusion matrix is hard to comprehend, let's make it prettier using the function we created before."
      ]
    },
    {
      "cell_type": "code",
      "execution_count": null,
      "metadata": {
        "id": "DLr6daZAbzRi"
      },
      "outputs": [],
      "source": [
        "# Make a prettier confusion matrix\n",
        "make_confusion_matrix(y_true=test_labels, \n",
        "                      y_pred=y_preds,\n",
        "                      classes=class_names,\n",
        "                      figsize=(15, 15),\n",
        "                      text_size=10)"
      ]
    },
    {
      "cell_type": "markdown",
      "metadata": {
        "id": "tH3FhuGEjTu9"
      },
      "source": [
        "That looks much better! (one of my favourites sights in the world is a confusion matrix with dark squares down the diagonal)\n",
        "\n",
        "Except the results aren't as good as they could be...\n",
        "\n",
        "It looks like our model is getting confused between the `Shirt` and `T-shirt/top` classes (e.g. predicting `Shirt` when it's actually a `T-shirt/top`).\n",
        "\n",
        "> 🤔 **Question:** Does it make sense that our model is getting confused between the `Shirt` and `T-shirt/top` classes? Why do you think this might be? What's one way you could investigate?\n",
        "\n",
        "We've seen how our models predictions line up to the truth labels using a confusion matrix, but how about we visualize some?\n",
        "\n",
        "Let's create a function to plot a random image along with its prediction.\n",
        "\n",
        "> 🔑 **Note:** Often when working with images and other forms of visual data, it's a good idea to visualize as much as possible to develop a further understanding of the data and the outputs of your model."
      ]
    },
    {
      "cell_type": "code",
      "execution_count": null,
      "metadata": {
        "id": "2XIuAjgJri9e"
      },
      "outputs": [],
      "source": [
        " import random\n",
        "\n",
        "# Create a function for plotting a random image along with its prediction\n",
        "def plot_random_image(model, images, true_labels, classes):\n",
        "  \"\"\"Picks a random image, plots it and labels it with a predicted and truth label.\n",
        "\n",
        "  Args:\n",
        "    model: a trained model (trained on data similar to what's in images).\n",
        "    images: a set of random images (in tensor form).\n",
        "    true_labels: array of ground truth labels for images.\n",
        "    classes: array of class names for images.\n",
        "  \n",
        "  Returns:\n",
        "    A plot of a random image from `images` with a predicted class label from `model`\n",
        "    as well as the truth class label from `true_labels`.\n",
        "  \"\"\" \n",
        "  # Setup random integer\n",
        "  i = random.randint(0, len(images))\n",
        "  \n",
        "  # Create predictions and targets\n",
        "  target_image = images[i]\n",
        "  pred_probs = model.predict(target_image.reshape(1, 28, 28)) # have to reshape to get into right size for model\n",
        "  pred_label = classes[pred_probs.argmax()]\n",
        "  true_label = classes[true_labels[i]]\n",
        "\n",
        "  # Plot the target image\n",
        "  plt.imshow(target_image, cmap=plt.cm.binary)\n",
        "\n",
        "  # Change the color of the titles depending on if the prediction is right or wrong\n",
        "  if pred_label == true_label:\n",
        "    color = \"green\"\n",
        "  else:\n",
        "    color = \"red\"\n",
        "\n",
        "  # Add xlabel information (prediction/true label)\n",
        "  plt.xlabel(\"Pred: {} {:2.0f}% (True: {})\".format(pred_label,\n",
        "                                                   100*tf.reduce_max(pred_probs),\n",
        "                                                   true_label),\n",
        "             color=color) # set the color to green or red"
      ]
    },
    {
      "cell_type": "code",
      "execution_count": null,
      "metadata": {
        "id": "RAAIrpcEumyE"
      },
      "outputs": [],
      "source": [
        "# Check out a random image as well as its prediction\n",
        "plot_random_image(model=model_14, \n",
        "                  images=test_data, \n",
        "                  true_labels=test_labels, \n",
        "                  classes=class_names)"
      ]
    },
    {
      "cell_type": "markdown",
      "metadata": {
        "id": "FNebpPbCw52S"
      },
      "source": [
        "After running the cell above a few times you'll start to get a visual understanding of the relationship between the model's predictions and the true labels.\n",
        "\n",
        "Did you figure out which predictions the model gets confused on?\n",
        "\n",
        "It seems to mix up classes which are similar, for example, `Sneaker` with `Ankle boot`.\n",
        "\n",
        "Looking at the images, you can see how this might be the case.\n",
        "\n",
        "The overall shape of a `Sneaker` and an `Ankle Boot` are similar.\n",
        "\n",
        "The overall shape might be one of the patterns the model has learned and so therefore when two images have a similar shape, their predictions get mixed up."
      ]
    },
    {
      "cell_type": "markdown",
      "metadata": {
        "id": "pOwM1rqhx6p3"
      },
      "source": [
        "### What patterns is our model learning?\n",
        "\n",
        "We've been talking a lot about how a neural network finds patterns in numbers, but what exactly do these patterns look like?\n",
        "\n",
        "Let's crack open one of our models and find out.\n",
        "\n",
        "First, we'll get a list of layers in our most recent model (`model_14`) using the `layers` attribute."
      ]
    },
    {
      "cell_type": "code",
      "execution_count": null,
      "metadata": {
        "id": "kcwMsgFuySTi"
      },
      "outputs": [],
      "source": [
        "# Find the layers of our most recent model\n",
        "model_14.layers"
      ]
    },
    {
      "cell_type": "markdown",
      "metadata": {
        "id": "w9si0o-h4oO1"
      },
      "source": [
        "We can access a target layer using indexing."
      ]
    },
    {
      "cell_type": "code",
      "execution_count": null,
      "metadata": {
        "id": "DXuQmsNX1mGR"
      },
      "outputs": [],
      "source": [
        "# Extract a particular layer\n",
        "model_14.layers[1]"
      ]
    },
    {
      "cell_type": "markdown",
      "metadata": {
        "id": "W6Cftaib4uG-"
      },
      "source": [
        "And we can find the patterns learned by a particular layer using the `get_weights()` method.\n",
        "\n",
        "The `get_weights()` method returns the **weights** (also known as a weights matrix) and biases (also known as a bias vector) of a particular layer."
      ]
    },
    {
      "cell_type": "code",
      "execution_count": null,
      "metadata": {
        "id": "WdmZy5xi1srE"
      },
      "outputs": [],
      "source": [
        "# Get the patterns of a layer in our network\n",
        "weights, biases = model_14.layers[1].get_weights()\n",
        "\n",
        "# Shape = 1 weight matrix the size of our input data (28x28) per neuron (4)\n",
        "weights, weights.shape"
      ]
    },
    {
      "cell_type": "markdown",
      "metadata": {
        "id": "yCjuNSD73oG0"
      },
      "source": [
        "The weights matrix is the same shape as the input data, which in our case is 784 (28x28 pixels). And there's a copy of the weights matrix for each neuron the in the selected layer (our selected layer has 4 neurons).\n",
        "\n",
        "Each value in the weights matrix corresponds to how a particular value in the input data influences the network's decisions.\n",
        "\n",
        "These values start out as random numbers (they're set by the [`kernel_initializer` parameter](https://www.tensorflow.org/api_docs/python/tf/keras/layers/Dense) when creating a layer, the default is [`\"glorot_uniform\"`](https://www.tensorflow.org/api_docs/python/tf/keras/initializers/GlorotUniform)) and are then updated to better representative values of the data (non-random) by the neural network during training.\n",
        "\n",
        "![neural network supervised learning weight updates](https://raw.githubusercontent.com/mrdbourke/tensorflow-deep-learning/main/images/02-fashion-mnist-learning.png)\n",
        "*Example workflow of how a supervised neural network starts with random weights and updates them to better represent the data by looking at examples of ideal outputs.*\n",
        "\n",
        "Now let's check out the bias vector."
      ]
    },
    {
      "cell_type": "code",
      "execution_count": null,
      "metadata": {
        "id": "ndG-h2yz1z2_"
      },
      "outputs": [],
      "source": [
        "# Shape = 1 bias per neuron (we use 4 neurons in the first layer)\n",
        "biases, biases.shape"
      ]
    },
    {
      "cell_type": "markdown",
      "metadata": {
        "id": "3JRQFh3U374U"
      },
      "source": [
        "Every neuron has a bias vector. Each of these is paired with a weight matrix.\n",
        "\n",
        "The bias values get initialized as zeroes by default (using the [`bias_initializer` parameter](https://www.tensorflow.org/api_docs/python/tf/keras/layers/Dense)).\n",
        "\n",
        "The bias vector dictates how much the patterns within the corresponding weights matrix should influence the next layer."
      ]
    },
    {
      "cell_type": "code",
      "execution_count": null,
      "metadata": {
        "id": "_QCUb7GeSGYF"
      },
      "outputs": [],
      "source": [
        "# Can now calculate the number of paramters in our model\n",
        "model_14.summary()"
      ]
    },
    {
      "cell_type": "markdown",
      "metadata": {
        "id": "trRRZLIRyLXe"
      },
      "source": [
        "Now we've built a few deep learning models, it's a good time to point out the whole concept of inputs and outputs not only relates to a model as a whole but to *every* layer within a model.\n",
        "\n",
        "You might've already guessed this, but starting from the input layer, each subsequent layer's input is the output of the previous layer.\n",
        "\n",
        "We can see this clearly using the utility [`plot_model()`](https://www.tensorflow.org/api_docs/python/tf/keras/utils/plot_model)."
      ]
    },
    {
      "cell_type": "code",
      "execution_count": null,
      "metadata": {
        "id": "YJD0GqGl3NY0"
      },
      "outputs": [],
      "source": [
        "from tensorflow.keras.utils import plot_model\n",
        "\n",
        "# See the inputs and outputs of each layer\n",
        "plot_model(model_14, show_shapes=True)"
      ]
    },
    {
      "cell_type": "markdown",
      "metadata": {
        "id": "OY5HO72ATJR4"
      },
      "source": [
        "## How a model learns (in brief)\n",
        "\n",
        "Alright, we've trained a bunch of models, but we've never really discussed what's going on under the hood. So how exactly does a model learn?\n",
        "\n",
        "A model learns by updating and improving its weight matrices and biases values every epoch (in our case, when we call the `fit()` fucntion).\n",
        "\n",
        "It does so by comparing the patterns its learned between the data and labels to the actual labels.\n",
        "\n",
        "If the current patterns (weight matrices and bias values) don't result in a desirable decrease in the loss function (higher loss means worse predictions), the optimizer tries to steer the model to update its patterns in the right way (using the real labels as a reference).\n",
        "\n",
        "This process of using the real labels as a reference to improve the model's predictions is called [**backpropagation**](https://en.wikipedia.org/wiki/Backpropagation).\n",
        "\n",
        "In other words, data and labels pass through a model (**forward pass**) and it attempts to learn the relationship between the data and labels. \n",
        "\n",
        "And if this learned relationship isn't close to the actual relationship or it could be improved, the model does so by going back through itself (**backward pass**) and tweaking its weights matrices and bias values to better represent the data.\n",
        "\n",
        "If all of this sounds confusing (and it's fine if it does, the above is a very succinct description), check out the resources in the extra-curriculum section for more."
      ]
    },
    {
      "cell_type": "markdown",
      "metadata": {
        "id": "LXmMG6fcpoIp"
      },
      "source": [
        "## Exercises 🛠\n",
        "\n",
        "1. Play with neural networks in the [TensorFlow Playground](https://playground.tensorflow.org/) for 10-minutes. Especially try different values of the learning, what happens when you decrease it? What happens when you increase it?\n",
        "2. Replicate the model pictured in the [TensorFlow Playground diagram](https://playground.tensorflow.org/#activation=relu&batchSize=10&dataset=circle&regDataset=reg-plane&learningRate=0.001&regularizationRate=0&noise=0&networkShape=6,6,6,6,6&seed=0.51287&showTestData=false&discretize=false&percTrainData=50&x=true&y=true&xTimesY=false&xSquared=false&ySquared=false&cosX=false&sinX=false&cosY=false&sinY=false&collectStats=false&problem=classification&initZero=false&hideText=false&regularization_hide=true&discretize_hide=true&regularizationRate_hide=true&percTrainData_hide=true&dataset_hide=true&problem_hide=true&noise_hide=true&batchSize_hide=true) below using TensorFlow code. Compile it using the Adam optimizer, binary crossentropy loss and accuracy metric. Once it's compiled check a summary of the model.\n",
        "![tensorflow playground example neural network](https://raw.githubusercontent.com/mrdbourke/tensorflow-deep-learning/main/images/02-tensorflow-playground-replication-exercise.png)\n",
        "*Try this network out for yourself on the [TensorFlow Playground website](https://playground.tensorflow.org/#activation=relu&batchSize=10&dataset=circle&regDataset=reg-plane&learningRate=0.001&regularizationRate=0&noise=0&networkShape=6,6,6,6,6&seed=0.51287&showTestData=false&discretize=false&percTrainData=50&x=true&y=true&xTimesY=false&xSquared=false&ySquared=false&cosX=false&sinX=false&cosY=false&sinY=false&collectStats=false&problem=classification&initZero=false&hideText=false&regularization_hide=true&discretize_hide=true&regularizationRate_hide=true&percTrainData_hide=true&dataset_hide=true&problem_hide=true&noise_hide=true&batchSize_hide=true). Hint: there are 5 hidden layers but the output layer isn't pictured, you'll have to decide what the output layer should be based on the input data.*\n",
        "3. Create a classification dataset using Scikit-Learn's [`make_moons()`](https://scikit-learn.org/stable/modules/generated/sklearn.datasets.make_moons.html) function, visualize it and then build a model to fit it at over 85% accuracy.\n",
        "4. Create a function (or write code) to visualize multiple image predictions for the fashion MNIST at the same time. Plot at least three different images and their prediciton labels at the same time. Hint: see the [classifcation tutorial in the TensorFlow documentation](https://www.tensorflow.org/tutorials/keras/classification) for ideas.\n",
        "5. Recreate [TensorFlow's](https://www.tensorflow.org/api_docs/python/tf/keras/activations/softmax) [softmax activation function](https://en.wikipedia.org/wiki/Softmax_function) in your own code. Make sure it can accept a tensor and return that tensor after having the softmax function applied to it.\n",
        "6. Train a model to get 88%+ accuracy on the fashion MNIST test set. Plot a confusion matrix to see the results after.\n",
        "7. Make a function to show an image of a certain class of the fashion MNIST dataset and make a prediction on it. For example, plot 3 images of the `T-shirt` class with their predictions.\n",
        "\n"
      ]
    },
    {
      "cell_type": "markdown",
      "metadata": {
        "id": "oksgPs-meGHj"
      },
      "source": [
        "## Extra curriculum 📖\n",
        "* Watch 3Blue1Brown's neural networks video 2: [*Gradient descent, how neural networks learn*](https://www.youtube.com/watch?v=IHZwWFHWa-w). After you're done, write 100 words about what you've learned.\n",
        "  * If you haven't already, watch video 1: [*But what is a Neural Network?*](https://youtu.be/aircAruvnKk). Note the activation function they talk about at the end.\n",
        "* Watch [MIT's introduction to deep learning lecture 1](https://youtu.be/njKP3FqW3Sk) (if you haven't already) to get an idea of the concepts behind using linear and non-linear functions.\n",
        "* Spend 1-hour reading [Michael Nielsen's Neural Networks and Deep Learning book](http://neuralnetworksanddeeplearning.com/index.html).\n",
        "* Read the [ML-Glossary documentation on activation functions](https://ml-cheatsheet.readthedocs.io/en/latest/activation_functions.html). Which one is your favourite?\n",
        "  * After you've read the ML-Glossary, see which activation functions are available in TensorFlow by searching \"tensorflow activation functions\"."
      ]
    }
  ],
  "metadata": {
    "colab": {
      "authorship_tag": "ABX9TyP7ZXQ1AGJSWTw1DQKf3RA0",
      "collapsed_sections": [],
      "include_colab_link": true,
      "name": "02_neural_network_classification_in_tensorflow.ipynb",
      "provenance": []
    },
    "kernelspec": {
      "display_name": "venv",
      "language": "python",
      "name": "venv"
    },
    "language_info": {
      "codemirror_mode": {
        "name": "ipython",
        "version": 3
      },
      "file_extension": ".py",
      "mimetype": "text/x-python",
      "name": "python",
      "nbconvert_exporter": "python",
      "pygments_lexer": "ipython3",
      "version": "3.9.12"
    }
  },
  "nbformat": 4,
  "nbformat_minor": 0
}
